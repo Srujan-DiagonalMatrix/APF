{
 "cells": [
  {
   "cell_type": "code",
   "execution_count": 1,
   "id": "190158ca",
   "metadata": {
    "_cell_guid": "b1076dfc-b9ad-4769-8c92-a6c4dae69d19",
    "_uuid": "8f2839f25d086af736a60e9eeb907d3b93b6e0e5",
    "execution": {
     "iopub.execute_input": "2021-09-16T14:40:08.695965Z",
     "iopub.status.busy": "2021-09-16T14:40:08.695281Z",
     "iopub.status.idle": "2021-09-16T14:40:09.676570Z",
     "shell.execute_reply": "2021-09-16T14:40:09.675841Z",
     "shell.execute_reply.started": "2021-09-16T14:35:37.650333Z"
    },
    "papermill": {
     "duration": 1.021138,
     "end_time": "2021-09-16T14:40:09.676764",
     "exception": false,
     "start_time": "2021-09-16T14:40:08.655626",
     "status": "completed"
    },
    "tags": []
   },
   "outputs": [],
   "source": [
    "import pandas as pd\n",
    "import numpy as np\n",
    "import matplotlib.pyplot as plt\n",
    "import seaborn as sns\n",
    "sns.set_theme()"
   ]
  },
  {
   "cell_type": "code",
   "execution_count": 2,
   "id": "24e6b122",
   "metadata": {
    "execution": {
     "iopub.execute_input": "2021-09-16T14:40:09.728332Z",
     "iopub.status.busy": "2021-09-16T14:40:09.727631Z",
     "iopub.status.idle": "2021-09-16T14:40:10.126160Z",
     "shell.execute_reply": "2021-09-16T14:40:10.125643Z",
     "shell.execute_reply.started": "2021-09-16T14:35:37.659631Z"
    },
    "papermill": {
     "duration": 0.425865,
     "end_time": "2021-09-16T14:40:10.126319",
     "exception": false,
     "start_time": "2021-09-16T14:40:09.700454",
     "status": "completed"
    },
    "tags": []
   },
   "outputs": [
    {
     "data": {
      "text/html": [
       "<div>\n",
       "<style scoped>\n",
       "    .dataframe tbody tr th:only-of-type {\n",
       "        vertical-align: middle;\n",
       "    }\n",
       "\n",
       "    .dataframe tbody tr th {\n",
       "        vertical-align: top;\n",
       "    }\n",
       "\n",
       "    .dataframe thead th {\n",
       "        text-align: right;\n",
       "    }\n",
       "</style>\n",
       "<table border=\"1\" class=\"dataframe\">\n",
       "  <thead>\n",
       "    <tr style=\"text-align: right;\">\n",
       "      <th></th>\n",
       "      <th>step</th>\n",
       "      <th>type</th>\n",
       "      <th>amount</th>\n",
       "      <th>nameOrig</th>\n",
       "      <th>oldbalanceOrg</th>\n",
       "      <th>newbalanceOrig</th>\n",
       "      <th>nameDest</th>\n",
       "      <th>oldbalanceDest</th>\n",
       "      <th>newbalanceDest</th>\n",
       "      <th>isFraud</th>\n",
       "      <th>isFlaggedFraud</th>\n",
       "    </tr>\n",
       "  </thead>\n",
       "  <tbody>\n",
       "    <tr>\n",
       "      <th>0</th>\n",
       "      <td>1</td>\n",
       "      <td>PAYMENT</td>\n",
       "      <td>9839.64</td>\n",
       "      <td>C1231006815</td>\n",
       "      <td>170136.00</td>\n",
       "      <td>160296.36</td>\n",
       "      <td>M1979787155</td>\n",
       "      <td>0.00</td>\n",
       "      <td>0.00</td>\n",
       "      <td>0</td>\n",
       "      <td>0</td>\n",
       "    </tr>\n",
       "    <tr>\n",
       "      <th>1</th>\n",
       "      <td>1</td>\n",
       "      <td>PAYMENT</td>\n",
       "      <td>1864.28</td>\n",
       "      <td>C1666544295</td>\n",
       "      <td>21249.00</td>\n",
       "      <td>19384.72</td>\n",
       "      <td>M2044282225</td>\n",
       "      <td>0.00</td>\n",
       "      <td>0.00</td>\n",
       "      <td>0</td>\n",
       "      <td>0</td>\n",
       "    </tr>\n",
       "    <tr>\n",
       "      <th>2</th>\n",
       "      <td>1</td>\n",
       "      <td>TRANSFER</td>\n",
       "      <td>181.00</td>\n",
       "      <td>C1305486145</td>\n",
       "      <td>181.00</td>\n",
       "      <td>0.00</td>\n",
       "      <td>C553264065</td>\n",
       "      <td>0.00</td>\n",
       "      <td>0.00</td>\n",
       "      <td>1</td>\n",
       "      <td>0</td>\n",
       "    </tr>\n",
       "    <tr>\n",
       "      <th>3</th>\n",
       "      <td>1</td>\n",
       "      <td>CASH_OUT</td>\n",
       "      <td>181.00</td>\n",
       "      <td>C840083671</td>\n",
       "      <td>181.00</td>\n",
       "      <td>0.00</td>\n",
       "      <td>C38997010</td>\n",
       "      <td>21182.00</td>\n",
       "      <td>0.00</td>\n",
       "      <td>1</td>\n",
       "      <td>0</td>\n",
       "    </tr>\n",
       "    <tr>\n",
       "      <th>4</th>\n",
       "      <td>1</td>\n",
       "      <td>PAYMENT</td>\n",
       "      <td>11668.14</td>\n",
       "      <td>C2048537720</td>\n",
       "      <td>41554.00</td>\n",
       "      <td>29885.86</td>\n",
       "      <td>M1230701703</td>\n",
       "      <td>0.00</td>\n",
       "      <td>0.00</td>\n",
       "      <td>0</td>\n",
       "      <td>0</td>\n",
       "    </tr>\n",
       "    <tr>\n",
       "      <th>...</th>\n",
       "      <td>...</td>\n",
       "      <td>...</td>\n",
       "      <td>...</td>\n",
       "      <td>...</td>\n",
       "      <td>...</td>\n",
       "      <td>...</td>\n",
       "      <td>...</td>\n",
       "      <td>...</td>\n",
       "      <td>...</td>\n",
       "      <td>...</td>\n",
       "      <td>...</td>\n",
       "    </tr>\n",
       "    <tr>\n",
       "      <th>101608</th>\n",
       "      <td>10</td>\n",
       "      <td>PAYMENT</td>\n",
       "      <td>7477.02</td>\n",
       "      <td>C513257306</td>\n",
       "      <td>785.00</td>\n",
       "      <td>0.00</td>\n",
       "      <td>M524833426</td>\n",
       "      <td>0.00</td>\n",
       "      <td>0.00</td>\n",
       "      <td>0</td>\n",
       "      <td>0</td>\n",
       "    </tr>\n",
       "    <tr>\n",
       "      <th>101609</th>\n",
       "      <td>10</td>\n",
       "      <td>CASH_OUT</td>\n",
       "      <td>282252.35</td>\n",
       "      <td>C210473293</td>\n",
       "      <td>220339.29</td>\n",
       "      <td>0.00</td>\n",
       "      <td>C1172042998</td>\n",
       "      <td>95156.01</td>\n",
       "      <td>91286.97</td>\n",
       "      <td>0</td>\n",
       "      <td>0</td>\n",
       "    </tr>\n",
       "    <tr>\n",
       "      <th>101610</th>\n",
       "      <td>10</td>\n",
       "      <td>PAYMENT</td>\n",
       "      <td>17289.01</td>\n",
       "      <td>C807582280</td>\n",
       "      <td>0.00</td>\n",
       "      <td>0.00</td>\n",
       "      <td>M334249577</td>\n",
       "      <td>0.00</td>\n",
       "      <td>0.00</td>\n",
       "      <td>0</td>\n",
       "      <td>0</td>\n",
       "    </tr>\n",
       "    <tr>\n",
       "      <th>101611</th>\n",
       "      <td>10</td>\n",
       "      <td>TRANSFER</td>\n",
       "      <td>1347146.45</td>\n",
       "      <td>C1315779140</td>\n",
       "      <td>1605.00</td>\n",
       "      <td>0.00</td>\n",
       "      <td>C1631408038</td>\n",
       "      <td>541639.43</td>\n",
       "      <td>2186953.43</td>\n",
       "      <td>0</td>\n",
       "      <td>0</td>\n",
       "    </tr>\n",
       "    <tr>\n",
       "      <th>101612</th>\n",
       "      <td>10</td>\n",
       "      <td>CASH_OUT</td>\n",
       "      <td>469539.21</td>\n",
       "      <td>C515691325</td>\n",
       "      <td>31133.00</td>\n",
       "      <td>0.00</td>\n",
       "      <td>C1383702768</td>\n",
       "      <td>0.00</td>\n",
       "      <td>469539.21</td>\n",
       "      <td>0</td>\n",
       "      <td>0</td>\n",
       "    </tr>\n",
       "  </tbody>\n",
       "</table>\n",
       "<p>101613 rows × 11 columns</p>\n",
       "</div>"
      ],
      "text/plain": [
       "        step      type      amount     nameOrig  oldbalanceOrg  \\\n",
       "0          1   PAYMENT     9839.64  C1231006815      170136.00   \n",
       "1          1   PAYMENT     1864.28  C1666544295       21249.00   \n",
       "2          1  TRANSFER      181.00  C1305486145         181.00   \n",
       "3          1  CASH_OUT      181.00   C840083671         181.00   \n",
       "4          1   PAYMENT    11668.14  C2048537720       41554.00   \n",
       "...      ...       ...         ...          ...            ...   \n",
       "101608    10   PAYMENT     7477.02   C513257306         785.00   \n",
       "101609    10  CASH_OUT   282252.35   C210473293      220339.29   \n",
       "101610    10   PAYMENT    17289.01   C807582280           0.00   \n",
       "101611    10  TRANSFER  1347146.45  C1315779140        1605.00   \n",
       "101612    10  CASH_OUT   469539.21   C515691325       31133.00   \n",
       "\n",
       "        newbalanceOrig     nameDest  oldbalanceDest  newbalanceDest  isFraud  \\\n",
       "0            160296.36  M1979787155            0.00            0.00        0   \n",
       "1             19384.72  M2044282225            0.00            0.00        0   \n",
       "2                 0.00   C553264065            0.00            0.00        1   \n",
       "3                 0.00    C38997010        21182.00            0.00        1   \n",
       "4             29885.86  M1230701703            0.00            0.00        0   \n",
       "...                ...          ...             ...             ...      ...   \n",
       "101608            0.00   M524833426            0.00            0.00        0   \n",
       "101609            0.00  C1172042998        95156.01        91286.97        0   \n",
       "101610            0.00   M334249577            0.00            0.00        0   \n",
       "101611            0.00  C1631408038       541639.43      2186953.43        0   \n",
       "101612            0.00  C1383702768            0.00       469539.21        0   \n",
       "\n",
       "        isFlaggedFraud  \n",
       "0                    0  \n",
       "1                    0  \n",
       "2                    0  \n",
       "3                    0  \n",
       "4                    0  \n",
       "...                ...  \n",
       "101608               0  \n",
       "101609               0  \n",
       "101610               0  \n",
       "101611               0  \n",
       "101612               0  \n",
       "\n",
       "[101613 rows x 11 columns]"
      ]
     },
     "execution_count": 2,
     "metadata": {},
     "output_type": "execute_result"
    }
   ],
   "source": [
    "df = pd.read_csv('C:C:\\Users\\isarachchand\\Documents\\git\\apf\\fraud\\fraud_detection_classification\\datainsurance_dataset.csv')\n",
    "df"
   ]
  },
  {
   "cell_type": "markdown",
   "id": "424e5f07",
   "metadata": {
    "papermill": {
     "duration": 0.02282,
     "end_time": "2021-09-16T14:40:10.172682",
     "exception": false,
     "start_time": "2021-09-16T14:40:10.149862",
     "status": "completed"
    },
    "tags": []
   },
   "source": [
    "### **Check Missing Value**"
   ]
  },
  {
   "cell_type": "code",
   "execution_count": 3,
   "id": "4d79ff86",
   "metadata": {
    "execution": {
     "iopub.execute_input": "2021-09-16T14:40:10.222956Z",
     "iopub.status.busy": "2021-09-16T14:40:10.222307Z",
     "iopub.status.idle": "2021-09-16T14:40:10.266328Z",
     "shell.execute_reply": "2021-09-16T14:40:10.265650Z",
     "shell.execute_reply.started": "2021-09-16T14:35:37.984142Z"
    },
    "papermill": {
     "duration": 0.07044,
     "end_time": "2021-09-16T14:40:10.266472",
     "exception": false,
     "start_time": "2021-09-16T14:40:10.196032",
     "status": "completed"
    },
    "tags": []
   },
   "outputs": [
    {
     "data": {
      "text/plain": [
       "step              0\n",
       "type              0\n",
       "amount            0\n",
       "nameOrig          0\n",
       "oldbalanceOrg     0\n",
       "newbalanceOrig    0\n",
       "nameDest          0\n",
       "oldbalanceDest    0\n",
       "newbalanceDest    0\n",
       "isFraud           0\n",
       "isFlaggedFraud    0\n",
       "dtype: int64"
      ]
     },
     "execution_count": 3,
     "metadata": {},
     "output_type": "execute_result"
    }
   ],
   "source": [
    "df.isna().sum()"
   ]
  },
  {
   "cell_type": "markdown",
   "id": "e2b474c8",
   "metadata": {
    "papermill": {
     "duration": 0.023102,
     "end_time": "2021-09-16T14:40:10.312938",
     "exception": false,
     "start_time": "2021-09-16T14:40:10.289836",
     "status": "completed"
    },
    "tags": []
   },
   "source": [
    "### **Exploratory Data Analysis**"
   ]
  },
  {
   "cell_type": "code",
   "execution_count": 4,
   "id": "7e82bd5f",
   "metadata": {
    "execution": {
     "iopub.execute_input": "2021-09-16T14:40:10.365725Z",
     "iopub.status.busy": "2021-09-16T14:40:10.364726Z",
     "iopub.status.idle": "2021-09-16T14:40:10.423943Z",
     "shell.execute_reply": "2021-09-16T14:40:10.423402Z",
     "shell.execute_reply.started": "2021-09-16T14:35:38.031126Z"
    },
    "papermill": {
     "duration": 0.087467,
     "end_time": "2021-09-16T14:40:10.424086",
     "exception": false,
     "start_time": "2021-09-16T14:40:10.336619",
     "status": "completed"
    },
    "tags": []
   },
   "outputs": [
    {
     "name": "stdout",
     "output_type": "stream",
     "text": [
      "<class 'pandas.core.frame.DataFrame'>\n",
      "RangeIndex: 101613 entries, 0 to 101612\n",
      "Data columns (total 11 columns):\n",
      " #   Column          Non-Null Count   Dtype  \n",
      "---  ------          --------------   -----  \n",
      " 0   step            101613 non-null  int64  \n",
      " 1   type            101613 non-null  object \n",
      " 2   amount          101613 non-null  float64\n",
      " 3   nameOrig        101613 non-null  object \n",
      " 4   oldbalanceOrg   101613 non-null  float64\n",
      " 5   newbalanceOrig  101613 non-null  float64\n",
      " 6   nameDest        101613 non-null  object \n",
      " 7   oldbalanceDest  101613 non-null  float64\n",
      " 8   newbalanceDest  101613 non-null  float64\n",
      " 9   isFraud         101613 non-null  int64  \n",
      " 10  isFlaggedFraud  101613 non-null  int64  \n",
      "dtypes: float64(5), int64(3), object(3)\n",
      "memory usage: 8.5+ MB\n"
     ]
    }
   ],
   "source": [
    "df.info()"
   ]
  },
  {
   "cell_type": "code",
   "execution_count": 5,
   "id": "e89fa280",
   "metadata": {
    "execution": {
     "iopub.execute_input": "2021-09-16T14:40:10.479192Z",
     "iopub.status.busy": "2021-09-16T14:40:10.478296Z",
     "iopub.status.idle": "2021-09-16T14:40:10.481573Z",
     "shell.execute_reply": "2021-09-16T14:40:10.482058Z",
     "shell.execute_reply.started": "2021-09-16T14:35:38.083200Z"
    },
    "papermill": {
     "duration": 0.03409,
     "end_time": "2021-09-16T14:40:10.482235",
     "exception": false,
     "start_time": "2021-09-16T14:40:10.448145",
     "status": "completed"
    },
    "tags": []
   },
   "outputs": [
    {
     "data": {
      "text/plain": [
       "['type', 'nameOrig', 'nameDest']"
      ]
     },
     "execution_count": 5,
     "metadata": {},
     "output_type": "execute_result"
    }
   ],
   "source": [
    "object_cols = df.dtypes == 'object'\n",
    "data_cols = list(object_cols[object_cols].index)\n",
    "data_cols"
   ]
  },
  {
   "cell_type": "code",
   "execution_count": 6,
   "id": "907221e6",
   "metadata": {
    "execution": {
     "iopub.execute_input": "2021-09-16T14:40:10.537898Z",
     "iopub.status.busy": "2021-09-16T14:40:10.536925Z",
     "iopub.status.idle": "2021-09-16T14:40:10.541249Z",
     "shell.execute_reply": "2021-09-16T14:40:10.540736Z",
     "shell.execute_reply.started": "2021-09-16T14:35:38.092452Z"
    },
    "papermill": {
     "duration": 0.034901,
     "end_time": "2021-09-16T14:40:10.541392",
     "exception": false,
     "start_time": "2021-09-16T14:40:10.506491",
     "status": "completed"
    },
    "tags": []
   },
   "outputs": [
    {
     "data": {
      "text/plain": [
       "['step',\n",
       " 'amount',\n",
       " 'oldbalanceOrg',\n",
       " 'newbalanceOrig',\n",
       " 'oldbalanceDest',\n",
       " 'newbalanceDest',\n",
       " 'isFraud',\n",
       " 'isFlaggedFraud']"
      ]
     },
     "execution_count": 6,
     "metadata": {},
     "output_type": "execute_result"
    }
   ],
   "source": [
    "numeric_cols = (df.dtypes != 'object')\n",
    "data_num = list(numeric_cols[numeric_cols].index)\n",
    "data_num"
   ]
  },
  {
   "cell_type": "code",
   "execution_count": 7,
   "id": "aae0631f",
   "metadata": {
    "execution": {
     "iopub.execute_input": "2021-09-16T14:40:10.597019Z",
     "iopub.status.busy": "2021-09-16T14:40:10.596377Z",
     "iopub.status.idle": "2021-09-16T14:40:10.803388Z",
     "shell.execute_reply": "2021-09-16T14:40:10.803856Z",
     "shell.execute_reply.started": "2021-09-16T14:35:38.110020Z"
    },
    "papermill": {
     "duration": 0.237587,
     "end_time": "2021-09-16T14:40:10.804031",
     "exception": false,
     "start_time": "2021-09-16T14:40:10.566444",
     "status": "completed"
    },
    "tags": []
   },
   "outputs": [
    {
     "name": "stderr",
     "output_type": "stream",
     "text": [
      "/opt/conda/lib/python3.7/site-packages/seaborn/_decorators.py:43: FutureWarning: Pass the following variable as a keyword arg: x. From version 0.12, the only valid positional argument will be `data`, and passing other arguments without an explicit keyword will result in an error or misinterpretation.\n",
      "  FutureWarning\n"
     ]
    },
    {
     "data": {
      "text/plain": [
       "<AxesSubplot:ylabel='count'>"
      ]
     },
     "execution_count": 7,
     "metadata": {},
     "output_type": "execute_result"
    },
    {
     "data": {
      "image/png": "[encoded data removed]",
      "text/plain": [
       "<Figure size 432x288 with 1 Axes>"
      ]
     },
     "metadata": {},
     "output_type": "display_data"
    }
   ],
   "source": [
    "sns.countplot(df.dtypes.map(str))"
   ]
  },
  {
   "cell_type": "code",
   "execution_count": 8,
   "id": "59fde479",
   "metadata": {
    "execution": {
     "iopub.execute_input": "2021-09-16T14:40:10.872422Z",
     "iopub.status.busy": "2021-09-16T14:40:10.859387Z",
     "iopub.status.idle": "2021-09-16T14:40:10.965501Z",
     "shell.execute_reply": "2021-09-16T14:40:10.964952Z",
     "shell.execute_reply.started": "2021-09-16T14:35:38.329925Z"
    },
    "papermill": {
     "duration": 0.1356,
     "end_time": "2021-09-16T14:40:10.965648",
     "exception": false,
     "start_time": "2021-09-16T14:40:10.830048",
     "status": "completed"
    },
    "tags": []
   },
   "outputs": [],
   "source": [
    "df.type= df.type.str.strip().str.lower()"
   ]
  },
  {
   "cell_type": "markdown",
   "id": "ebf39385",
   "metadata": {
    "papermill": {
     "duration": 0.025951,
     "end_time": "2021-09-16T14:40:11.017676",
     "exception": false,
     "start_time": "2021-09-16T14:40:10.991725",
     "status": "completed"
    },
    "tags": []
   },
   "source": [
    "**Univariant Analysis**"
   ]
  },
  {
   "cell_type": "code",
   "execution_count": 9,
   "id": "c40d3a4d",
   "metadata": {
    "execution": {
     "iopub.execute_input": "2021-09-16T14:40:11.079458Z",
     "iopub.status.busy": "2021-09-16T14:40:11.078713Z",
     "iopub.status.idle": "2021-09-16T14:40:11.138306Z",
     "shell.execute_reply": "2021-09-16T14:40:11.137706Z",
     "shell.execute_reply.started": "2021-09-16T14:35:38.435754Z"
    },
    "papermill": {
     "duration": 0.0945,
     "end_time": "2021-09-16T14:40:11.138454",
     "exception": false,
     "start_time": "2021-09-16T14:40:11.043954",
     "status": "completed"
    },
    "tags": []
   },
   "outputs": [
    {
     "data": {
      "text/html": [
       "<div>\n",
       "<style scoped>\n",
       "    .dataframe tbody tr th:only-of-type {\n",
       "        vertical-align: middle;\n",
       "    }\n",
       "\n",
       "    .dataframe tbody tr th {\n",
       "        vertical-align: top;\n",
       "    }\n",
       "\n",
       "    .dataframe thead th {\n",
       "        text-align: right;\n",
       "    }\n",
       "</style>\n",
       "<table border=\"1\" class=\"dataframe\">\n",
       "  <thead>\n",
       "    <tr style=\"text-align: right;\">\n",
       "      <th></th>\n",
       "      <th>step</th>\n",
       "      <th>amount</th>\n",
       "      <th>oldbalanceOrg</th>\n",
       "      <th>newbalanceOrig</th>\n",
       "      <th>oldbalanceDest</th>\n",
       "      <th>newbalanceDest</th>\n",
       "      <th>isFraud</th>\n",
       "      <th>isFlaggedFraud</th>\n",
       "    </tr>\n",
       "  </thead>\n",
       "  <tbody>\n",
       "    <tr>\n",
       "      <th>count</th>\n",
       "      <td>101613.000000</td>\n",
       "      <td>1.016130e+05</td>\n",
       "      <td>1.016130e+05</td>\n",
       "      <td>1.016130e+05</td>\n",
       "      <td>1.016130e+05</td>\n",
       "      <td>1.016130e+05</td>\n",
       "      <td>101613.000000</td>\n",
       "      <td>101613.0</td>\n",
       "    </tr>\n",
       "    <tr>\n",
       "      <th>mean</th>\n",
       "      <td>8.523457</td>\n",
       "      <td>1.740901e+05</td>\n",
       "      <td>9.071753e+05</td>\n",
       "      <td>9.234992e+05</td>\n",
       "      <td>8.810428e+05</td>\n",
       "      <td>1.183998e+06</td>\n",
       "      <td>0.001142</td>\n",
       "      <td>0.0</td>\n",
       "    </tr>\n",
       "    <tr>\n",
       "      <th>std</th>\n",
       "      <td>1.820681</td>\n",
       "      <td>3.450199e+05</td>\n",
       "      <td>2.829575e+06</td>\n",
       "      <td>2.867319e+06</td>\n",
       "      <td>2.399949e+06</td>\n",
       "      <td>2.797761e+06</td>\n",
       "      <td>0.033768</td>\n",
       "      <td>0.0</td>\n",
       "    </tr>\n",
       "    <tr>\n",
       "      <th>min</th>\n",
       "      <td>1.000000</td>\n",
       "      <td>3.200000e-01</td>\n",
       "      <td>0.000000e+00</td>\n",
       "      <td>0.000000e+00</td>\n",
       "      <td>0.000000e+00</td>\n",
       "      <td>0.000000e+00</td>\n",
       "      <td>0.000000</td>\n",
       "      <td>0.0</td>\n",
       "    </tr>\n",
       "    <tr>\n",
       "      <th>25%</th>\n",
       "      <td>8.000000</td>\n",
       "      <td>1.001659e+04</td>\n",
       "      <td>0.000000e+00</td>\n",
       "      <td>0.000000e+00</td>\n",
       "      <td>0.000000e+00</td>\n",
       "      <td>0.000000e+00</td>\n",
       "      <td>0.000000</td>\n",
       "      <td>0.0</td>\n",
       "    </tr>\n",
       "    <tr>\n",
       "      <th>50%</th>\n",
       "      <td>9.000000</td>\n",
       "      <td>5.338541e+04</td>\n",
       "      <td>2.019047e+04</td>\n",
       "      <td>0.000000e+00</td>\n",
       "      <td>2.105800e+04</td>\n",
       "      <td>5.178343e+04</td>\n",
       "      <td>0.000000</td>\n",
       "      <td>0.0</td>\n",
       "    </tr>\n",
       "    <tr>\n",
       "      <th>75%</th>\n",
       "      <td>10.000000</td>\n",
       "      <td>2.124984e+05</td>\n",
       "      <td>1.947150e+05</td>\n",
       "      <td>2.192178e+05</td>\n",
       "      <td>5.919217e+05</td>\n",
       "      <td>1.063122e+06</td>\n",
       "      <td>0.000000</td>\n",
       "      <td>0.0</td>\n",
       "    </tr>\n",
       "    <tr>\n",
       "      <th>max</th>\n",
       "      <td>10.000000</td>\n",
       "      <td>1.000000e+07</td>\n",
       "      <td>3.893942e+07</td>\n",
       "      <td>3.894623e+07</td>\n",
       "      <td>3.400874e+07</td>\n",
       "      <td>3.894623e+07</td>\n",
       "      <td>1.000000</td>\n",
       "      <td>0.0</td>\n",
       "    </tr>\n",
       "  </tbody>\n",
       "</table>\n",
       "</div>"
      ],
      "text/plain": [
       "                step        amount  oldbalanceOrg  newbalanceOrig  \\\n",
       "count  101613.000000  1.016130e+05   1.016130e+05    1.016130e+05   \n",
       "mean        8.523457  1.740901e+05   9.071753e+05    9.234992e+05   \n",
       "std         1.820681  3.450199e+05   2.829575e+06    2.867319e+06   \n",
       "min         1.000000  3.200000e-01   0.000000e+00    0.000000e+00   \n",
       "25%         8.000000  1.001659e+04   0.000000e+00    0.000000e+00   \n",
       "50%         9.000000  5.338541e+04   2.019047e+04    0.000000e+00   \n",
       "75%        10.000000  2.124984e+05   1.947150e+05    2.192178e+05   \n",
       "max        10.000000  1.000000e+07   3.893942e+07    3.894623e+07   \n",
       "\n",
       "       oldbalanceDest  newbalanceDest        isFraud  isFlaggedFraud  \n",
       "count    1.016130e+05    1.016130e+05  101613.000000        101613.0  \n",
       "mean     8.810428e+05    1.183998e+06       0.001142             0.0  \n",
       "std      2.399949e+06    2.797761e+06       0.033768             0.0  \n",
       "min      0.000000e+00    0.000000e+00       0.000000             0.0  \n",
       "25%      0.000000e+00    0.000000e+00       0.000000             0.0  \n",
       "50%      2.105800e+04    5.178343e+04       0.000000             0.0  \n",
       "75%      5.919217e+05    1.063122e+06       0.000000             0.0  \n",
       "max      3.400874e+07    3.894623e+07       1.000000             0.0  "
      ]
     },
     "execution_count": 9,
     "metadata": {},
     "output_type": "execute_result"
    }
   ],
   "source": [
    "df.describe()"
   ]
  },
  {
   "cell_type": "code",
   "execution_count": 10,
   "id": "954be64f",
   "metadata": {
    "execution": {
     "iopub.execute_input": "2021-09-16T14:40:11.214500Z",
     "iopub.status.busy": "2021-09-16T14:40:11.200243Z",
     "iopub.status.idle": "2021-09-16T14:40:13.018609Z",
     "shell.execute_reply": "2021-09-16T14:40:13.017978Z",
     "shell.execute_reply.started": "2021-09-16T14:35:38.498628Z"
    },
    "papermill": {
     "duration": 1.851428,
     "end_time": "2021-09-16T14:40:13.018762",
     "exception": false,
     "start_time": "2021-09-16T14:40:11.167334",
     "status": "completed"
    },
    "tags": []
   },
   "outputs": [
    {
     "name": "stderr",
     "output_type": "stream",
     "text": [
      "/opt/conda/lib/python3.7/site-packages/seaborn/distributions.py:2619: FutureWarning: `distplot` is a deprecated function and will be removed in a future version. Please adapt your code to use either `displot` (a figure-level function with similar flexibility) or `histplot` (an axes-level function for histograms).\n",
      "  warnings.warn(msg, FutureWarning)\n",
      "/opt/conda/lib/python3.7/site-packages/seaborn/distributions.py:2619: FutureWarning: `distplot` is a deprecated function and will be removed in a future version. Please adapt your code to use either `displot` (a figure-level function with similar flexibility) or `histplot` (an axes-level function for histograms).\n",
      "  warnings.warn(msg, FutureWarning)\n"
     ]
    },
    {
     "data": {
      "text/plain": [
       "<AxesSubplot:xlabel='oldbalanceOrg', ylabel='Density'>"
      ]
     },
     "execution_count": 10,
     "metadata": {},
     "output_type": "execute_result"
    },
    {
     "data": {
      "image/png": "[encoded data removed]",
      "text/plain": [
       "<Figure size 1224x360 with 2 Axes>"
      ]
     },
     "metadata": {},
     "output_type": "display_data"
    }
   ],
   "source": [
    "f = plt.figure(figsize=(17,5))\n",
    "\n",
    "ax = f.add_subplot(121)\n",
    "sns.distplot(df.amount)\n",
    "\n",
    "ax = f.add_subplot(122)\n",
    "sns.distplot(df.oldbalanceOrg)"
   ]
  },
  {
   "cell_type": "code",
   "execution_count": 11,
   "id": "50263a6e",
   "metadata": {
    "execution": {
     "iopub.execute_input": "2021-09-16T14:40:13.112588Z",
     "iopub.status.busy": "2021-09-16T14:40:13.085058Z",
     "iopub.status.idle": "2021-09-16T14:40:15.005338Z",
     "shell.execute_reply": "2021-09-16T14:40:15.004372Z",
     "shell.execute_reply.started": "2021-09-16T14:35:40.234606Z"
    },
    "papermill": {
     "duration": 1.956935,
     "end_time": "2021-09-16T14:40:15.005491",
     "exception": false,
     "start_time": "2021-09-16T14:40:13.048556",
     "status": "completed"
    },
    "tags": []
   },
   "outputs": [
    {
     "name": "stderr",
     "output_type": "stream",
     "text": [
      "/opt/conda/lib/python3.7/site-packages/seaborn/distributions.py:2619: FutureWarning: `distplot` is a deprecated function and will be removed in a future version. Please adapt your code to use either `displot` (a figure-level function with similar flexibility) or `histplot` (an axes-level function for histograms).\n",
      "  warnings.warn(msg, FutureWarning)\n",
      "/opt/conda/lib/python3.7/site-packages/seaborn/distributions.py:2619: FutureWarning: `distplot` is a deprecated function and will be removed in a future version. Please adapt your code to use either `displot` (a figure-level function with similar flexibility) or `histplot` (an axes-level function for histograms).\n",
      "  warnings.warn(msg, FutureWarning)\n"
     ]
    },
    {
     "data": {
      "text/plain": [
       "<AxesSubplot:xlabel='oldbalanceDest', ylabel='Density'>"
      ]
     },
     "execution_count": 11,
     "metadata": {},
     "output_type": "execute_result"
    },
    {
     "data": {
      "image/png": "[encoded data removed]",
      "text/plain": [
       "<Figure size 1224x360 with 2 Axes>"
      ]
     },
     "metadata": {},
     "output_type": "display_data"
    }
   ],
   "source": [
    "f = plt.figure(figsize=(17,5))\n",
    "\n",
    "ax = f.add_subplot(121)\n",
    "sns.distplot(df.newbalanceOrig)\n",
    "\n",
    "ax = f.add_subplot(122)\n",
    "sns.distplot(df.oldbalanceDest)"
   ]
  },
  {
   "cell_type": "code",
   "execution_count": 12,
   "id": "948d1122",
   "metadata": {
    "execution": {
     "iopub.execute_input": "2021-09-16T14:40:15.121315Z",
     "iopub.status.busy": "2021-09-16T14:40:15.114617Z",
     "iopub.status.idle": "2021-09-16T14:40:15.420346Z",
     "shell.execute_reply": "2021-09-16T14:40:15.419804Z",
     "shell.execute_reply.started": "2021-09-16T14:35:42.325786Z"
    },
    "papermill": {
     "duration": 0.383889,
     "end_time": "2021-09-16T14:40:15.420488",
     "exception": false,
     "start_time": "2021-09-16T14:40:15.036599",
     "status": "completed"
    },
    "tags": []
   },
   "outputs": [
    {
     "name": "stderr",
     "output_type": "stream",
     "text": [
      "/opt/conda/lib/python3.7/site-packages/seaborn/_decorators.py:43: FutureWarning: Pass the following variable as a keyword arg: x. From version 0.12, the only valid positional argument will be `data`, and passing other arguments without an explicit keyword will result in an error or misinterpretation.\n",
      "  FutureWarning\n"
     ]
    },
    {
     "data": {
      "text/plain": [
       "<AxesSubplot:xlabel='type', ylabel='count'>"
      ]
     },
     "execution_count": 12,
     "metadata": {},
     "output_type": "execute_result"
    },
    {
     "data": {
      "image/png": "[encoded data removed]",
      "text/plain": [
       "<Figure size 432x288 with 1 Axes>"
      ]
     },
     "metadata": {},
     "output_type": "display_data"
    }
   ],
   "source": [
    "sns.countplot(df.type)"
   ]
  },
  {
   "cell_type": "code",
   "execution_count": 13,
   "id": "2374cf1b",
   "metadata": {
    "execution": {
     "iopub.execute_input": "2021-09-16T14:40:15.506837Z",
     "iopub.status.busy": "2021-09-16T14:40:15.495634Z",
     "iopub.status.idle": "2021-09-16T14:40:15.796579Z",
     "shell.execute_reply": "2021-09-16T14:40:15.797034Z",
     "shell.execute_reply.started": "2021-09-16T14:35:42.727308Z"
    },
    "papermill": {
     "duration": 0.344468,
     "end_time": "2021-09-16T14:40:15.797204",
     "exception": false,
     "start_time": "2021-09-16T14:40:15.452736",
     "status": "completed"
    },
    "tags": []
   },
   "outputs": [
    {
     "name": "stderr",
     "output_type": "stream",
     "text": [
      "/opt/conda/lib/python3.7/site-packages/seaborn/_decorators.py:43: FutureWarning: Pass the following variable as a keyword arg: x. From version 0.12, the only valid positional argument will be `data`, and passing other arguments without an explicit keyword will result in an error or misinterpretation.\n",
      "  FutureWarning\n",
      "/opt/conda/lib/python3.7/site-packages/seaborn/_decorators.py:43: FutureWarning: Pass the following variable as a keyword arg: x. From version 0.12, the only valid positional argument will be `data`, and passing other arguments without an explicit keyword will result in an error or misinterpretation.\n",
      "  FutureWarning\n"
     ]
    },
    {
     "data": {
      "text/plain": [
       "<AxesSubplot:xlabel='isFlaggedFraud', ylabel='count'>"
      ]
     },
     "execution_count": 13,
     "metadata": {},
     "output_type": "execute_result"
    },
    {
     "data": {
      "image/png": "[encoded data removed]",
      "text/plain": [
       "<Figure size 1224x360 with 2 Axes>"
      ]
     },
     "metadata": {},
     "output_type": "display_data"
    }
   ],
   "source": [
    "f = plt.figure(figsize=(17,5))\n",
    "\n",
    "ax = f.add_subplot(121)\n",
    "sns.countplot(df.isFraud)\n",
    "\n",
    "ax = f.add_subplot(122)\n",
    "sns.countplot(df.isFlaggedFraud)"
   ]
  },
  {
   "cell_type": "markdown",
   "id": "dfbf6073",
   "metadata": {
    "papermill": {
     "duration": 0.033388,
     "end_time": "2021-09-16T14:40:15.864196",
     "exception": false,
     "start_time": "2021-09-16T14:40:15.830808",
     "status": "completed"
    },
    "tags": []
   },
   "source": [
    "- fraud data with no fraud is not balanced\n",
    "\n",
    "- The Flaggedfraud only has a value of 0, so we delete the column to make it easier for the model to find predictions"
   ]
  },
  {
   "cell_type": "markdown",
   "id": "bbeb205a",
   "metadata": {
    "papermill": {
     "duration": 0.033807,
     "end_time": "2021-09-16T14:40:15.932681",
     "exception": false,
     "start_time": "2021-09-16T14:40:15.898874",
     "status": "completed"
    },
    "tags": []
   },
   "source": [
    "**Bivariant Analysis**"
   ]
  },
  {
   "cell_type": "code",
   "execution_count": 14,
   "id": "603a46b5",
   "metadata": {
    "execution": {
     "iopub.execute_input": "2021-09-16T14:40:16.008596Z",
     "iopub.status.busy": "2021-09-16T14:40:16.007315Z",
     "iopub.status.idle": "2021-09-16T14:40:16.713024Z",
     "shell.execute_reply": "2021-09-16T14:40:16.713527Z",
     "shell.execute_reply.started": "2021-09-16T14:35:43.074938Z"
    },
    "papermill": {
     "duration": 0.746954,
     "end_time": "2021-09-16T14:40:16.713702",
     "exception": false,
     "start_time": "2021-09-16T14:40:15.966748",
     "status": "completed"
    },
    "tags": []
   },
   "outputs": [
    {
     "data": {
      "text/plain": [
       "<AxesSubplot:>"
      ]
     },
     "execution_count": 14,
     "metadata": {},
     "output_type": "execute_result"
    },
    {
     "data": {
      "image/png": "[encoded data removed]",
      "text/plain": [
       "<Figure size 432x288 with 2 Axes>"
      ]
     },
     "metadata": {},
     "output_type": "display_data"
    }
   ],
   "source": [
    "sns.heatmap(df.corr(), annot=True)"
   ]
  },
  {
   "cell_type": "code",
   "execution_count": 15,
   "id": "bf7b325f",
   "metadata": {
    "execution": {
     "iopub.execute_input": "2021-09-16T14:40:16.798516Z",
     "iopub.status.busy": "2021-09-16T14:40:16.788682Z",
     "iopub.status.idle": "2021-09-16T14:40:17.028619Z",
     "shell.execute_reply": "2021-09-16T14:40:17.029132Z",
     "shell.execute_reply.started": "2021-09-16T14:35:43.793697Z"
    },
    "papermill": {
     "duration": 0.279992,
     "end_time": "2021-09-16T14:40:17.029323",
     "exception": false,
     "start_time": "2021-09-16T14:40:16.749331",
     "status": "completed"
    },
    "tags": []
   },
   "outputs": [
    {
     "data": {
      "text/plain": [
       "<AxesSubplot:xlabel='type'>"
      ]
     },
     "execution_count": 15,
     "metadata": {},
     "output_type": "execute_result"
    },
    {
     "data": {
      "image/png": "[encoded data removed]",
      "text/plain": [
       "<Figure size 432x288 with 1 Axes>"
      ]
     },
     "metadata": {},
     "output_type": "display_data"
    }
   ],
   "source": [
    "df_group = df.groupby('type')['isFraud'].sum().plot(kind='bar')\n",
    "df_group"
   ]
  },
  {
   "cell_type": "markdown",
   "id": "94d43a9d",
   "metadata": {
    "papermill": {
     "duration": 0.037841,
     "end_time": "2021-09-16T14:40:17.105462",
     "exception": false,
     "start_time": "2021-09-16T14:40:17.067621",
     "status": "completed"
    },
    "tags": []
   },
   "source": [
    "### **Modeling**"
   ]
  },
  {
   "cell_type": "code",
   "execution_count": 16,
   "id": "7c5fac1a",
   "metadata": {
    "execution": {
     "iopub.execute_input": "2021-09-16T14:40:17.185940Z",
     "iopub.status.busy": "2021-09-16T14:40:17.185195Z",
     "iopub.status.idle": "2021-09-16T14:40:17.580546Z",
     "shell.execute_reply": "2021-09-16T14:40:17.579842Z",
     "shell.execute_reply.started": "2021-09-16T14:35:44.028908Z"
    },
    "papermill": {
     "duration": 0.438132,
     "end_time": "2021-09-16T14:40:17.580704",
     "exception": false,
     "start_time": "2021-09-16T14:40:17.142572",
     "status": "completed"
    },
    "tags": []
   },
   "outputs": [],
   "source": [
    "from sklearn.model_selection import train_test_split, GridSearchCV\n",
    "from sklearn.preprocessing import StandardScaler, OrdinalEncoder, OneHotEncoder\n",
    "from sklearn.pipeline import Pipeline\n",
    "from sklearn.compose import ColumnTransformer\n",
    "from sklearn.ensemble import RandomForestClassifier"
   ]
  },
  {
   "cell_type": "code",
   "execution_count": 17,
   "id": "0f2c35e4",
   "metadata": {
    "execution": {
     "iopub.execute_input": "2021-09-16T14:40:17.661871Z",
     "iopub.status.busy": "2021-09-16T14:40:17.660942Z",
     "iopub.status.idle": "2021-09-16T14:40:17.665146Z",
     "shell.execute_reply": "2021-09-16T14:40:17.664530Z",
     "shell.execute_reply.started": "2021-09-16T14:35:44.036591Z"
    },
    "papermill": {
     "duration": 0.046699,
     "end_time": "2021-09-16T14:40:17.665315",
     "exception": false,
     "start_time": "2021-09-16T14:40:17.618616",
     "status": "completed"
    },
    "tags": []
   },
   "outputs": [
    {
     "data": {
      "text/plain": [
       "['step', 'type', 'nameOrig', 'nameDest', 'isFlaggedFraud', 'isFraud']"
      ]
     },
     "execution_count": 17,
     "metadata": {},
     "output_type": "execute_result"
    }
   ],
   "source": [
    "num_col_train = ['step', 'type', 'nameOrig', 'nameDest', 'isFlaggedFraud', 'isFraud']\n",
    "num_col_train"
   ]
  },
  {
   "cell_type": "code",
   "execution_count": 18,
   "id": "5b2bf1c6",
   "metadata": {
    "execution": {
     "iopub.execute_input": "2021-09-16T14:40:17.744420Z",
     "iopub.status.busy": "2021-09-16T14:40:17.743352Z",
     "iopub.status.idle": "2021-09-16T14:40:17.834852Z",
     "shell.execute_reply": "2021-09-16T14:40:17.834273Z",
     "shell.execute_reply.started": "2021-09-16T14:35:44.059922Z"
    },
    "papermill": {
     "duration": 0.132525,
     "end_time": "2021-09-16T14:40:17.835001",
     "exception": false,
     "start_time": "2021-09-16T14:40:17.702476",
     "status": "completed"
    },
    "tags": []
   },
   "outputs": [],
   "source": [
    "X = df[['amount', 'oldbalanceOrg', 'newbalanceOrig', 'oldbalanceDest','newbalanceDest']]\n",
    "y = df.isFraud\n",
    "\n",
    "X_train, X_test, y_train, y_test = train_test_split(X, y, test_size=0.2, stratify=y, random_state=42)"
   ]
  },
  {
   "cell_type": "code",
   "execution_count": 19,
   "id": "a9d2b087",
   "metadata": {
    "execution": {
     "iopub.execute_input": "2021-09-16T14:40:17.917566Z",
     "iopub.status.busy": "2021-09-16T14:40:17.916902Z",
     "iopub.status.idle": "2021-09-16T14:40:17.921605Z",
     "shell.execute_reply": "2021-09-16T14:40:17.922107Z",
     "shell.execute_reply.started": "2021-09-16T14:35:44.153492Z"
    },
    "papermill": {
     "duration": 0.049962,
     "end_time": "2021-09-16T14:40:17.922298",
     "exception": false,
     "start_time": "2021-09-16T14:40:17.872336",
     "status": "completed"
    },
    "tags": []
   },
   "outputs": [
    {
     "data": {
      "text/plain": [
       "Index(['amount', 'oldbalanceOrg', 'newbalanceOrig', 'oldbalanceDest',\n",
       "       'newbalanceDest'],\n",
       "      dtype='object')"
      ]
     },
     "execution_count": 19,
     "metadata": {},
     "output_type": "execute_result"
    }
   ],
   "source": [
    "X_train.columns"
   ]
  },
  {
   "cell_type": "code",
   "execution_count": 20,
   "id": "09f615a6",
   "metadata": {
    "execution": {
     "iopub.execute_input": "2021-09-16T14:40:18.000029Z",
     "iopub.status.busy": "2021-09-16T14:40:17.999396Z",
     "iopub.status.idle": "2021-09-16T14:40:18.005752Z",
     "shell.execute_reply": "2021-09-16T14:40:18.005058Z",
     "shell.execute_reply.started": "2021-09-16T14:36:31.265867Z"
    },
    "papermill": {
     "duration": 0.046251,
     "end_time": "2021-09-16T14:40:18.005892",
     "exception": false,
     "start_time": "2021-09-16T14:40:17.959641",
     "status": "completed"
    },
    "tags": []
   },
   "outputs": [],
   "source": [
    "numeric_pipeline = Pipeline([\n",
    "    ('scaling', StandardScaler())\n",
    "])\n",
    "\n",
    "categoric_pipeline = Pipeline([\n",
    "    ('encode', OrdinalEncoder())\n",
    "])\n",
    "\n",
    "preprocessor = ColumnTransformer([\n",
    "    ('numeric', numeric_pipeline, ['amount', 'oldbalanceOrg', 'newbalanceOrig', 'oldbalanceDest', 'newbalanceDest']),\n",
    "#     ('categoric', categoric_pipeline, ['type'])\n",
    "])\n",
    "\n",
    "pipeline = Pipeline([\n",
    "    ('pre', preprocessor),\n",
    "    ('algo', RandomForestClassifier(random_state=42))\n",
    "])"
   ]
  },
  {
   "cell_type": "code",
   "execution_count": 21,
   "id": "1b662114",
   "metadata": {
    "execution": {
     "iopub.execute_input": "2021-09-16T14:40:18.086029Z",
     "iopub.status.busy": "2021-09-16T14:40:18.085277Z",
     "iopub.status.idle": "2021-09-16T14:40:18.088426Z",
     "shell.execute_reply": "2021-09-16T14:40:18.087815Z",
     "shell.execute_reply.started": "2021-09-16T14:36:31.495222Z"
    },
    "papermill": {
     "duration": 0.045407,
     "end_time": "2021-09-16T14:40:18.088602",
     "exception": false,
     "start_time": "2021-09-16T14:40:18.043195",
     "status": "completed"
    },
    "tags": []
   },
   "outputs": [],
   "source": [
    "parameter = {\n",
    "    'algo__n_estimators':[100,200, 350, 500], \n",
    "    'algo__min_samples_leaf':[2, 10, 30]\n",
    "}"
   ]
  },
  {
   "cell_type": "code",
   "execution_count": 22,
   "id": "a4380efd",
   "metadata": {
    "execution": {
     "iopub.execute_input": "2021-09-16T14:40:18.169361Z",
     "iopub.status.busy": "2021-09-16T14:40:18.168340Z",
     "iopub.status.idle": "2021-09-16T14:43:22.214021Z",
     "shell.execute_reply": "2021-09-16T14:43:22.213359Z",
     "shell.execute_reply.started": "2021-09-16T14:36:32.010654Z"
    },
    "papermill": {
     "duration": 184.088228,
     "end_time": "2021-09-16T14:43:22.214169",
     "exception": false,
     "start_time": "2021-09-16T14:40:18.125941",
     "status": "completed"
    },
    "tags": []
   },
   "outputs": [
    {
     "name": "stdout",
     "output_type": "stream",
     "text": [
      "Fitting 3 folds for each of 12 candidates, totalling 36 fits\n"
     ]
    },
    {
     "name": "stderr",
     "output_type": "stream",
     "text": [
      "[Parallel(n_jobs=-1)]: Using backend LokyBackend with 4 concurrent workers.\n",
      "[Parallel(n_jobs=-1)]: Done  36 out of  36 | elapsed:  2.9min finished\n"
     ]
    },
    {
     "data": {
      "text/plain": [
       "GridSearchCV(cv=3,\n",
       "             estimator=Pipeline(steps=[('pre',\n",
       "                                        ColumnTransformer(transformers=[('numeric',\n",
       "                                                                         Pipeline(steps=[('scaling',\n",
       "                                                                                          StandardScaler())]),\n",
       "                                                                         ['amount',\n",
       "                                                                          'oldbalanceOrg',\n",
       "                                                                          'newbalanceOrig',\n",
       "                                                                          'oldbalanceDest',\n",
       "                                                                          'newbalanceDest'])])),\n",
       "                                       ('algo',\n",
       "                                        RandomForestClassifier(random_state=42))]),\n",
       "             n_jobs=-1,\n",
       "             param_grid={'algo__min_samples_leaf': [2, 10, 30],\n",
       "                         'algo__n_estimators': [100, 200, 350, 500]},\n",
       "             verbose=1)"
      ]
     },
     "execution_count": 22,
     "metadata": {},
     "output_type": "execute_result"
    }
   ],
   "source": [
    "model = GridSearchCV(pipeline, parameter, cv=3, n_jobs=-1, verbose=1)\n",
    "model.fit(X_train, y_train)"
   ]
  },
  {
   "cell_type": "code",
   "execution_count": 23,
   "id": "c7162594",
   "metadata": {
    "execution": {
     "iopub.execute_input": "2021-09-16T14:43:22.296498Z",
     "iopub.status.busy": "2021-09-16T14:43:22.295817Z",
     "iopub.status.idle": "2021-09-16T14:43:23.016892Z",
     "shell.execute_reply": "2021-09-16T14:43:23.016023Z",
     "shell.execute_reply.started": "2021-09-16T14:39:33.666582Z"
    },
    "papermill": {
     "duration": 0.763628,
     "end_time": "2021-09-16T14:43:23.017074",
     "exception": false,
     "start_time": "2021-09-16T14:43:22.253446",
     "status": "completed"
    },
    "tags": []
   },
   "outputs": [
    {
     "name": "stdout",
     "output_type": "stream",
     "text": [
      "0.9993972198302374\n",
      "0.9991143039905526\n"
     ]
    },
    {
     "data": {
      "text/plain": [
       "(None, None)"
      ]
     },
     "execution_count": 23,
     "metadata": {},
     "output_type": "execute_result"
    }
   ],
   "source": [
    "print(model.score(X_train, y_train)), print(model.score(X_test, y_test))"
   ]
  },
  {
   "cell_type": "code",
   "execution_count": null,
   "id": "fb6c53e1",
   "metadata": {
    "papermill": {
     "duration": 0.039841,
     "end_time": "2021-09-16T14:43:23.097430",
     "exception": false,
     "start_time": "2021-09-16T14:43:23.057589",
     "status": "completed"
    },
    "tags": []
   },
   "outputs": [],
   "source": []
  }
 ],
 "metadata": {
  "kernelspec": {
   "display_name": "Python 3 (ipykernel)",
   "language": "python",
   "name": "python3"
  },
  "language_info": {
   "codemirror_mode": {
    "name": "ipython",
    "version": 3
   },
   "file_extension": ".py",
   "mimetype": "text/x-python",
   "name": "python",
   "nbconvert_exporter": "python",
   "pygments_lexer": "ipython3",
   "version": "3.9.7"
  },
  "papermill": {
   "default_parameters": {},
   "duration": 204.930664,
   "end_time": "2021-09-16T14:43:24.819344",
   "environment_variables": {},
   "exception": null,
   "input_path": "__notebook__.ipynb",
   "output_path": "__notebook__.ipynb",
   "parameters": {},
   "start_time": "2021-09-16T14:39:59.888680",
   "version": "2.3.3"
  }
 },
 "nbformat": 4,
 "nbformat_minor": 5
}
