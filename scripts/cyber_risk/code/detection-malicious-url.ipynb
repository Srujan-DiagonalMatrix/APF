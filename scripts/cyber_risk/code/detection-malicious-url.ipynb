{
 "cells": [
  {
   "cell_type": "markdown",
   "id": "55f7d4bf",
   "metadata": {
    "papermill": {
     "duration": 0.041894,
     "end_time": "2022-01-24T15:36:25.699672",
     "exception": false,
     "start_time": "2022-01-24T15:36:25.657778",
     "status": "completed"
    },
    "tags": []
   },
   "source": [
    "# Detection Malicious URL Using ML Models"
   ]
  },
  {
   "cell_type": "markdown",
   "id": "1a191e99",
   "metadata": {
    "papermill": {
     "duration": 0.040323,
     "end_time": "2022-01-24T15:36:25.780923",
     "exception": false,
     "start_time": "2022-01-24T15:36:25.740600",
     "status": "completed"
    },
    "tags": []
   },
   "source": [
    "A URL consists of the top-level domain, hostname, paths, and port of the web\n",
    "address, as in the following diagram:"
   ]
  },
  {
   "cell_type": "markdown",
   "id": "9d84c42e",
   "metadata": {
    "papermill": {
     "duration": 0.040586,
     "end_time": "2022-01-24T15:36:25.862816",
     "exception": false,
     "start_time": "2022-01-24T15:36:25.822230",
     "status": "completed"
    },
    "tags": []
   },
   "source": [
    "![url](https://user-images.githubusercontent.com/70811337/150021474-4ba64b34-1d09-427f-9cf6-25508571d18d.PNG)"
   ]
  },
  {
   "cell_type": "markdown",
   "id": "a558bb46",
   "metadata": {
    "papermill": {
     "duration": 0.039921,
     "end_time": "2022-01-24T15:36:25.945465",
     "exception": false,
     "start_time": "2022-01-24T15:36:25.905544",
     "status": "completed"
    },
    "tags": []
   },
   "source": [
    "<h2 style=\"width: 100%;\n",
    "    margin: 0;\n",
    "    padding: 0;\n",
    "    text-align: center;\">---- Table of contents ----</h2>\n",
    "\n",
    "1. [Importing Libraries](#1)\n",
    "2. [Load Dataset](#2)\n",
    "3. [Meta information of Dataframe](#3)\n",
    "4. [Checking for NaN values](#4)\n",
    "5. [Feature Extraction](#5)\n",
    "6. [Train & Test Split](#6)\n",
    "7. [Training models](#7)\n",
    "  <ul>\n",
    "      <li>✔️ Decision Tree Classifier</li>\n",
    "      <li>✔️ Random Forest Classifier</li>\n",
    "      <li>✔️ AdaBoost Classifier</li>\n",
    "      <li>✔️ KNeighbors Classifier</li>\n",
    "      <li>✔️ SGD Classifier</li>\n",
    "      <li>✔️ Extra Trees Classifier</li>\n",
    "      <li>✔️ Gaussian NB</li>\n",
    "  </ul>\n",
    "8. [Final Report](#8)"
   ]
  },
  {
   "cell_type": "code",
   "execution_count": 1,
   "id": "f5453953",
   "metadata": {
    "execution": {
     "iopub.execute_input": "2022-01-24T15:36:26.037318Z",
     "iopub.status.busy": "2022-01-24T15:36:26.031468Z",
     "iopub.status.idle": "2022-01-24T15:36:36.331213Z",
     "shell.execute_reply": "2022-01-24T15:36:36.331725Z",
     "shell.execute_reply.started": "2022-01-24T13:40:47.397437Z"
    },
    "papermill": {
     "duration": 10.346016,
     "end_time": "2022-01-24T15:36:36.332020",
     "exception": false,
     "start_time": "2022-01-24T15:36:25.986004",
     "status": "completed"
    },
    "tags": []
   },
   "outputs": [
    {
     "name": "stdout",
     "output_type": "stream",
     "text": [
      "Collecting tldNote: you may need to restart the kernel to use updated packages.\n",
      "\n",
      "  Downloading tld-0.12.6-py38-none-any.whl (412 kB)\n",
      "Installing collected packages: tld\n",
      "Successfully installed tld-0.12.6\n"
     ]
    }
   ],
   "source": [
    "pip install tld"
   ]
  },
  {
   "cell_type": "markdown",
   "id": "c12330d6",
   "metadata": {
    "papermill": {
     "duration": 0.042168,
     "end_time": "2022-01-24T15:36:36.417727",
     "exception": false,
     "start_time": "2022-01-24T15:36:36.375559",
     "status": "completed"
    },
    "tags": []
   },
   "source": [
    "<a id=\"1\"></a> <br>\n",
    "# 📥 Importing Libraries"
   ]
  },
  {
   "cell_type": "code",
   "execution_count": 2,
   "id": "a961e9d0",
   "metadata": {
    "execution": {
     "iopub.execute_input": "2022-01-24T15:36:36.513235Z",
     "iopub.status.busy": "2022-01-24T15:36:36.512593Z",
     "iopub.status.idle": "2022-01-24T15:36:37.899555Z",
     "shell.execute_reply": "2022-01-24T15:36:37.898856Z",
     "shell.execute_reply.started": "2022-01-24T13:40:58.330978Z"
    },
    "papermill": {
     "duration": 1.438321,
     "end_time": "2022-01-24T15:36:37.899699",
     "exception": false,
     "start_time": "2022-01-24T15:36:36.461378",
     "status": "completed"
    },
    "tags": []
   },
   "outputs": [],
   "source": [
    "import re\n",
    "import numpy as np\n",
    "import pandas as pd\n",
    "import seaborn as sns\n",
    "import matplotlib.pyplot as plt\n",
    "from colorama import Fore\n",
    "from urllib.parse import urlparse\n",
    "from sklearn.model_selection import train_test_split\n",
    "from sklearn.metrics import confusion_matrix, classification_report, accuracy_score\n",
    "from sklearn.tree import DecisionTreeClassifier\n",
    "from sklearn.ensemble import RandomForestClassifier, AdaBoostClassifier, ExtraTreesClassifier\n",
    "from sklearn.neighbors import KNeighborsClassifier\n",
    "from sklearn.linear_model import SGDClassifier\n",
    "from sklearn.naive_bayes import GaussianNB\n",
    "from tld import get_tld, is_tld"
   ]
  },
  {
   "cell_type": "markdown",
   "id": "3cce5e9b",
   "metadata": {
    "papermill": {
     "duration": 0.042499,
     "end_time": "2022-01-24T15:36:37.984739",
     "exception": false,
     "start_time": "2022-01-24T15:36:37.942240",
     "status": "completed"
    },
    "tags": []
   },
   "source": [
    "<a id=\"2\"></a> <br>\n",
    "# 🗃️ Load Dataset"
   ]
  },
  {
   "cell_type": "code",
   "execution_count": 3,
   "id": "2120d7e4",
   "metadata": {
    "execution": {
     "iopub.execute_input": "2022-01-24T15:36:38.074692Z",
     "iopub.status.busy": "2022-01-24T15:36:38.074009Z",
     "iopub.status.idle": "2022-01-24T15:36:39.829486Z",
     "shell.execute_reply": "2022-01-24T15:36:39.829975Z",
     "shell.execute_reply.started": "2022-01-24T13:41:00.018249Z"
    },
    "papermill": {
     "duration": 1.802945,
     "end_time": "2022-01-24T15:36:39.830153",
     "exception": false,
     "start_time": "2022-01-24T15:36:38.027208",
     "status": "completed"
    },
    "tags": []
   },
   "outputs": [
    {
     "data": {
      "text/html": [
       "<div>\n",
       "<style scoped>\n",
       "    .dataframe tbody tr th:only-of-type {\n",
       "        vertical-align: middle;\n",
       "    }\n",
       "\n",
       "    .dataframe tbody tr th {\n",
       "        vertical-align: top;\n",
       "    }\n",
       "\n",
       "    .dataframe thead th {\n",
       "        text-align: right;\n",
       "    }\n",
       "</style>\n",
       "<table border=\"1\" class=\"dataframe\">\n",
       "  <thead>\n",
       "    <tr style=\"text-align: right;\">\n",
       "      <th></th>\n",
       "      <th>url</th>\n",
       "      <th>type</th>\n",
       "    </tr>\n",
       "  </thead>\n",
       "  <tbody>\n",
       "    <tr>\n",
       "      <th>0</th>\n",
       "      <td>br-icloud.com.br</td>\n",
       "      <td>phishing</td>\n",
       "    </tr>\n",
       "    <tr>\n",
       "      <th>1</th>\n",
       "      <td>mp3raid.com/music/krizz_kaliko.html</td>\n",
       "      <td>benign</td>\n",
       "    </tr>\n",
       "    <tr>\n",
       "      <th>2</th>\n",
       "      <td>bopsecrets.org/rexroth/cr/1.htm</td>\n",
       "      <td>benign</td>\n",
       "    </tr>\n",
       "    <tr>\n",
       "      <th>3</th>\n",
       "      <td>http://www.garage-pirenne.be/index.php?option=...</td>\n",
       "      <td>defacement</td>\n",
       "    </tr>\n",
       "    <tr>\n",
       "      <th>4</th>\n",
       "      <td>http://adventure-nicaragua.net/index.php?optio...</td>\n",
       "      <td>defacement</td>\n",
       "    </tr>\n",
       "  </tbody>\n",
       "</table>\n",
       "</div>"
      ],
      "text/plain": [
       "                                                 url        type\n",
       "0                                   br-icloud.com.br    phishing\n",
       "1                mp3raid.com/music/krizz_kaliko.html      benign\n",
       "2                    bopsecrets.org/rexroth/cr/1.htm      benign\n",
       "3  http://www.garage-pirenne.be/index.php?option=...  defacement\n",
       "4  http://adventure-nicaragua.net/index.php?optio...  defacement"
      ]
     },
     "execution_count": 3,
     "metadata": {},
     "output_type": "execute_result"
    }
   ],
   "source": [
    "data = pd.read_csv(r'C:\\Users\\apopalzi\\Documents\\git\\apf\\datasets\\cyber_risk\\data/malicious_phish.csv')\n",
    "data.head()"
   ]
  },
  {
   "cell_type": "markdown",
   "id": "51e4a6de",
   "metadata": {
    "papermill": {
     "duration": 0.042624,
     "end_time": "2022-01-24T15:36:39.918473",
     "exception": false,
     "start_time": "2022-01-24T15:36:39.875849",
     "status": "completed"
    },
    "tags": []
   },
   "source": [
    "<a id=\"3\"></a> <br>\n",
    "# 📝 Meta information of Dataframe"
   ]
  },
  {
   "cell_type": "code",
   "execution_count": 4,
   "id": "3c98155e",
   "metadata": {
    "execution": {
     "iopub.execute_input": "2022-01-24T15:36:40.158889Z",
     "iopub.status.busy": "2022-01-24T15:36:40.158130Z",
     "iopub.status.idle": "2022-01-24T15:36:40.181920Z",
     "shell.execute_reply": "2022-01-24T15:36:40.182545Z",
     "shell.execute_reply.started": "2022-01-24T13:41:01.662528Z"
    },
    "papermill": {
     "duration": 0.221003,
     "end_time": "2022-01-24T15:36:40.182725",
     "exception": false,
     "start_time": "2022-01-24T15:36:39.961722",
     "status": "completed"
    },
    "tags": []
   },
   "outputs": [
    {
     "name": "stdout",
     "output_type": "stream",
     "text": [
      "<class 'pandas.core.frame.DataFrame'>\n",
      "RangeIndex: 651191 entries, 0 to 651190\n",
      "Data columns (total 2 columns):\n",
      " #   Column  Non-Null Count   Dtype \n",
      "---  ------  --------------   ----- \n",
      " 0   url     651191 non-null  object\n",
      " 1   type    651191 non-null  object\n",
      "dtypes: object(2)\n",
      "memory usage: 9.9+ MB\n"
     ]
    }
   ],
   "source": [
    "data.info()"
   ]
  },
  {
   "cell_type": "markdown",
   "id": "57dbd10d",
   "metadata": {
    "papermill": {
     "duration": 0.045832,
     "end_time": "2022-01-24T15:36:40.274216",
     "exception": false,
     "start_time": "2022-01-24T15:36:40.228384",
     "status": "completed"
    },
    "tags": []
   },
   "source": [
    "<a id=\"4\"></a>\n",
    "# 🔎 Checking for NaN values"
   ]
  },
  {
   "cell_type": "code",
   "execution_count": 5,
   "id": "6544002f",
   "metadata": {
    "execution": {
     "iopub.execute_input": "2022-01-24T15:36:40.371307Z",
     "iopub.status.busy": "2022-01-24T15:36:40.370384Z",
     "iopub.status.idle": "2022-01-24T15:36:40.533484Z",
     "shell.execute_reply": "2022-01-24T15:36:40.532945Z",
     "shell.execute_reply.started": "2022-01-24T13:41:01.753513Z"
    },
    "papermill": {
     "duration": 0.212047,
     "end_time": "2022-01-24T15:36:40.533629",
     "exception": false,
     "start_time": "2022-01-24T15:36:40.321582",
     "status": "completed"
    },
    "tags": []
   },
   "outputs": [
    {
     "data": {
      "text/plain": [
       "url     0\n",
       "type    0\n",
       "dtype: int64"
      ]
     },
     "execution_count": 5,
     "metadata": {},
     "output_type": "execute_result"
    }
   ],
   "source": [
    "data.isnull().sum()"
   ]
  },
  {
   "cell_type": "code",
   "execution_count": 6,
   "id": "b97a057f",
   "metadata": {
    "execution": {
     "iopub.execute_input": "2022-01-24T15:36:40.720154Z",
     "iopub.status.busy": "2022-01-24T15:36:40.719167Z",
     "iopub.status.idle": "2022-01-24T15:36:40.723264Z",
     "shell.execute_reply": "2022-01-24T15:36:40.722752Z",
     "shell.execute_reply.started": "2022-01-24T13:41:01.828417Z"
    },
    "papermill": {
     "duration": 0.146116,
     "end_time": "2022-01-24T15:36:40.723402",
     "exception": false,
     "start_time": "2022-01-24T15:36:40.577286",
     "status": "completed"
    },
    "tags": []
   },
   "outputs": [
    {
     "data": {
      "text/plain": [
       "benign        428103\n",
       "defacement     96457\n",
       "phishing       94111\n",
       "malware        32520\n",
       "Name: type, dtype: int64"
      ]
     },
     "execution_count": 6,
     "metadata": {},
     "output_type": "execute_result"
    }
   ],
   "source": [
    "count = data.type.value_counts()\n",
    "count"
   ]
  },
  {
   "cell_type": "code",
   "execution_count": 7,
   "id": "8af8020a",
   "metadata": {
    "execution": {
     "iopub.execute_input": "2022-01-24T15:36:40.818548Z",
     "iopub.status.busy": "2022-01-24T15:36:40.817860Z",
     "iopub.status.idle": "2022-01-24T15:36:41.061445Z",
     "shell.execute_reply": "2022-01-24T15:36:41.062221Z",
     "shell.execute_reply.started": "2022-01-24T13:41:01.874383Z"
    },
    "papermill": {
     "duration": 0.292997,
     "end_time": "2022-01-24T15:36:41.062398",
     "exception": false,
     "start_time": "2022-01-24T15:36:40.769401",
     "status": "completed"
    },
    "tags": []
   },
   "outputs": [
    {
     "data": {
      "image/png": "[encoded data removed]",
      "text/plain": [
       "<Figure size 432x288 with 1 Axes>"
      ]
     },
     "metadata": {
      "needs_background": "light"
     },
     "output_type": "display_data"
    }
   ],
   "source": [
    "sns.barplot(x=count.index, y=count)\n",
    "plt.xlabel('Types')\n",
    "plt.ylabel('Count');"
   ]
  },
  {
   "cell_type": "markdown",
   "id": "a72c5ef0",
   "metadata": {
    "papermill": {
     "duration": 0.044943,
     "end_time": "2022-01-24T15:36:41.153022",
     "exception": false,
     "start_time": "2022-01-24T15:36:41.108079",
     "status": "completed"
    },
    "tags": []
   },
   "source": [
    "<h4>first have to omit the (www.) from the URL which is in fact a sub domain in itself.</h4>"
   ]
  },
  {
   "cell_type": "code",
   "execution_count": 8,
   "id": "e58888bd",
   "metadata": {
    "execution": {
     "iopub.execute_input": "2022-01-24T15:36:41.249192Z",
     "iopub.status.busy": "2022-01-24T15:36:41.248165Z",
     "iopub.status.idle": "2022-01-24T15:36:42.496752Z",
     "shell.execute_reply": "2022-01-24T15:36:42.497255Z",
     "shell.execute_reply.started": "2022-01-24T13:41:02.132114Z"
    },
    "papermill": {
     "duration": 1.299468,
     "end_time": "2022-01-24T15:36:42.497451",
     "exception": false,
     "start_time": "2022-01-24T15:36:41.197983",
     "status": "completed"
    },
    "tags": []
   },
   "outputs": [
    {
     "data": {
      "text/html": [
       "<div>\n",
       "<style scoped>\n",
       "    .dataframe tbody tr th:only-of-type {\n",
       "        vertical-align: middle;\n",
       "    }\n",
       "\n",
       "    .dataframe tbody tr th {\n",
       "        vertical-align: top;\n",
       "    }\n",
       "\n",
       "    .dataframe thead th {\n",
       "        text-align: right;\n",
       "    }\n",
       "</style>\n",
       "<table border=\"1\" class=\"dataframe\">\n",
       "  <thead>\n",
       "    <tr style=\"text-align: right;\">\n",
       "      <th></th>\n",
       "      <th>url</th>\n",
       "      <th>type</th>\n",
       "    </tr>\n",
       "  </thead>\n",
       "  <tbody>\n",
       "    <tr>\n",
       "      <th>0</th>\n",
       "      <td>br-icloud.com.br</td>\n",
       "      <td>phishing</td>\n",
       "    </tr>\n",
       "    <tr>\n",
       "      <th>1</th>\n",
       "      <td>mp3raid.com/music/krizz_kaliko.html</td>\n",
       "      <td>benign</td>\n",
       "    </tr>\n",
       "    <tr>\n",
       "      <th>2</th>\n",
       "      <td>bopsecrets.org/rexroth/cr/1.htm</td>\n",
       "      <td>benign</td>\n",
       "    </tr>\n",
       "    <tr>\n",
       "      <th>3</th>\n",
       "      <td>http://garage-pirenne.be/index.php?option=com_...</td>\n",
       "      <td>defacement</td>\n",
       "    </tr>\n",
       "    <tr>\n",
       "      <th>4</th>\n",
       "      <td>http://adventure-nicaragua.net/index.php?optio...</td>\n",
       "      <td>defacement</td>\n",
       "    </tr>\n",
       "    <tr>\n",
       "      <th>...</th>\n",
       "      <td>...</td>\n",
       "      <td>...</td>\n",
       "    </tr>\n",
       "    <tr>\n",
       "      <th>651186</th>\n",
       "      <td>xbox360.ign.com/objects/850/850402.html</td>\n",
       "      <td>phishing</td>\n",
       "    </tr>\n",
       "    <tr>\n",
       "      <th>651187</th>\n",
       "      <td>games.teamxbox.com/xbox-360/1860/Dead-Space/</td>\n",
       "      <td>phishing</td>\n",
       "    </tr>\n",
       "    <tr>\n",
       "      <th>651188</th>\n",
       "      <td>gamespot.com/xbox360/action/deadspace/</td>\n",
       "      <td>phishing</td>\n",
       "    </tr>\n",
       "    <tr>\n",
       "      <th>651189</th>\n",
       "      <td>en.wikipedia.org/wiki/Dead_Space_(video_game)</td>\n",
       "      <td>phishing</td>\n",
       "    </tr>\n",
       "    <tr>\n",
       "      <th>651190</th>\n",
       "      <td>angelfire.com/goth/devilmaycrytonite/</td>\n",
       "      <td>phishing</td>\n",
       "    </tr>\n",
       "  </tbody>\n",
       "</table>\n",
       "<p>651191 rows × 2 columns</p>\n",
       "</div>"
      ],
      "text/plain": [
       "                                                      url        type\n",
       "0                                        br-icloud.com.br    phishing\n",
       "1                     mp3raid.com/music/krizz_kaliko.html      benign\n",
       "2                         bopsecrets.org/rexroth/cr/1.htm      benign\n",
       "3       http://garage-pirenne.be/index.php?option=com_...  defacement\n",
       "4       http://adventure-nicaragua.net/index.php?optio...  defacement\n",
       "...                                                   ...         ...\n",
       "651186            xbox360.ign.com/objects/850/850402.html    phishing\n",
       "651187       games.teamxbox.com/xbox-360/1860/Dead-Space/    phishing\n",
       "651188             gamespot.com/xbox360/action/deadspace/    phishing\n",
       "651189      en.wikipedia.org/wiki/Dead_Space_(video_game)    phishing\n",
       "651190              angelfire.com/goth/devilmaycrytonite/    phishing\n",
       "\n",
       "[651191 rows x 2 columns]"
      ]
     },
     "execution_count": 8,
     "metadata": {},
     "output_type": "execute_result"
    }
   ],
   "source": [
    "data['url'] = data['url'].replace('www.', '', regex=True)\n",
    "data"
   ]
  },
  {
   "cell_type": "code",
   "execution_count": 9,
   "id": "99c0607f",
   "metadata": {
    "execution": {
     "iopub.execute_input": "2022-01-24T15:36:42.591517Z",
     "iopub.status.busy": "2022-01-24T15:36:42.590885Z",
     "iopub.status.idle": "2022-01-24T15:36:42.598531Z",
     "shell.execute_reply": "2022-01-24T15:36:42.598982Z",
     "shell.execute_reply.started": "2022-01-24T13:41:03.117987Z"
    },
    "papermill": {
     "duration": 0.056548,
     "end_time": "2022-01-24T15:36:42.599150",
     "exception": false,
     "start_time": "2022-01-24T15:36:42.542602",
     "status": "completed"
    },
    "tags": []
   },
   "outputs": [
    {
     "data": {
      "text/html": [
       "<div>\n",
       "<style scoped>\n",
       "    .dataframe tbody tr th:only-of-type {\n",
       "        vertical-align: middle;\n",
       "    }\n",
       "\n",
       "    .dataframe tbody tr th {\n",
       "        vertical-align: top;\n",
       "    }\n",
       "\n",
       "    .dataframe thead th {\n",
       "        text-align: right;\n",
       "    }\n",
       "</style>\n",
       "<table border=\"1\" class=\"dataframe\">\n",
       "  <thead>\n",
       "    <tr style=\"text-align: right;\">\n",
       "      <th></th>\n",
       "      <th>url</th>\n",
       "      <th>type</th>\n",
       "    </tr>\n",
       "  </thead>\n",
       "  <tbody>\n",
       "    <tr>\n",
       "      <th>0</th>\n",
       "      <td>br-icloud.com.br</td>\n",
       "      <td>phishing</td>\n",
       "    </tr>\n",
       "    <tr>\n",
       "      <th>1</th>\n",
       "      <td>mp3raid.com/music/krizz_kaliko.html</td>\n",
       "      <td>benign</td>\n",
       "    </tr>\n",
       "    <tr>\n",
       "      <th>2</th>\n",
       "      <td>bopsecrets.org/rexroth/cr/1.htm</td>\n",
       "      <td>benign</td>\n",
       "    </tr>\n",
       "    <tr>\n",
       "      <th>3</th>\n",
       "      <td>http://garage-pirenne.be/index.php?option=com_...</td>\n",
       "      <td>defacement</td>\n",
       "    </tr>\n",
       "    <tr>\n",
       "      <th>4</th>\n",
       "      <td>http://adventure-nicaragua.net/index.php?optio...</td>\n",
       "      <td>defacement</td>\n",
       "    </tr>\n",
       "  </tbody>\n",
       "</table>\n",
       "</div>"
      ],
      "text/plain": [
       "                                                 url        type\n",
       "0                                   br-icloud.com.br    phishing\n",
       "1                mp3raid.com/music/krizz_kaliko.html      benign\n",
       "2                    bopsecrets.org/rexroth/cr/1.htm      benign\n",
       "3  http://garage-pirenne.be/index.php?option=com_...  defacement\n",
       "4  http://adventure-nicaragua.net/index.php?optio...  defacement"
      ]
     },
     "execution_count": 9,
     "metadata": {},
     "output_type": "execute_result"
    }
   ],
   "source": [
    "data.head()"
   ]
  },
  {
   "cell_type": "code",
   "execution_count": 10,
   "id": "dc5ec9f6",
   "metadata": {
    "execution": {
     "iopub.execute_input": "2022-01-24T15:36:42.693439Z",
     "iopub.status.busy": "2022-01-24T15:36:42.692812Z",
     "iopub.status.idle": "2022-01-24T15:36:43.273725Z",
     "shell.execute_reply": "2022-01-24T15:36:43.273143Z",
     "shell.execute_reply.started": "2022-01-24T13:41:03.134183Z"
    },
    "papermill": {
     "duration": 0.629162,
     "end_time": "2022-01-24T15:36:43.273882",
     "exception": false,
     "start_time": "2022-01-24T15:36:42.644720",
     "status": "completed"
    },
    "tags": []
   },
   "outputs": [],
   "source": [
    "rem = {\"Category\": {\"benign\": 0, \"defacement\": 1, \"phishing\":2, \"malware\":3}}\n",
    "data['Category'] = data['type']\n",
    "data = data.replace(rem)"
   ]
  },
  {
   "cell_type": "markdown",
   "id": "b61f234b",
   "metadata": {
    "papermill": {
     "duration": 0.046334,
     "end_time": "2022-01-24T15:36:43.366947",
     "exception": false,
     "start_time": "2022-01-24T15:36:43.320613",
     "status": "completed"
    },
    "tags": []
   },
   "source": [
    "<a id=\"5\"></a> <br>\n",
    "# 🦾 Feature Extraction"
   ]
  },
  {
   "cell_type": "code",
   "execution_count": 11,
   "id": "3d88df03",
   "metadata": {
    "execution": {
     "iopub.execute_input": "2022-01-24T15:36:43.466160Z",
     "iopub.status.busy": "2022-01-24T15:36:43.465149Z",
     "iopub.status.idle": "2022-01-24T15:36:43.985931Z",
     "shell.execute_reply": "2022-01-24T15:36:43.985298Z",
     "shell.execute_reply.started": "2022-01-24T13:41:03.522894Z"
    },
    "papermill": {
     "duration": 0.572767,
     "end_time": "2022-01-24T15:36:43.986075",
     "exception": false,
     "start_time": "2022-01-24T15:36:43.413308",
     "status": "completed"
    },
    "tags": []
   },
   "outputs": [],
   "source": [
    "data['url_len'] = data['url'].apply(lambda x: len(str(x)))"
   ]
  },
  {
   "cell_type": "code",
   "execution_count": 12,
   "id": "e5af8850",
   "metadata": {
    "execution": {
     "iopub.execute_input": "2022-01-24T15:36:44.083756Z",
     "iopub.status.busy": "2022-01-24T15:36:44.080829Z",
     "iopub.status.idle": "2022-01-24T15:36:44.086693Z",
     "shell.execute_reply": "2022-01-24T15:36:44.086110Z",
     "shell.execute_reply.started": "2022-01-24T13:41:03.856371Z"
    },
    "papermill": {
     "duration": 0.054905,
     "end_time": "2022-01-24T15:36:44.086847",
     "exception": false,
     "start_time": "2022-01-24T15:36:44.031942",
     "status": "completed"
    },
    "tags": []
   },
   "outputs": [],
   "source": [
    "def process_tld(url):\n",
    "    try:\n",
    "        res = get_tld(url, as_object = True, fail_silently=False,fix_protocol=True)\n",
    "        pri_domain= res.parsed_url.netloc\n",
    "    except :\n",
    "        pri_domain= None\n",
    "    return pri_domain"
   ]
  },
  {
   "cell_type": "code",
   "execution_count": 13,
   "id": "84d5e5e6",
   "metadata": {
    "execution": {
     "iopub.execute_input": "2022-01-24T15:36:44.183577Z",
     "iopub.status.busy": "2022-01-24T15:36:44.181870Z",
     "iopub.status.idle": "2022-01-24T15:36:57.627944Z",
     "shell.execute_reply": "2022-01-24T15:36:57.628484Z",
     "shell.execute_reply.started": "2022-01-24T13:41:03.864930Z"
    },
    "papermill": {
     "duration": 13.495491,
     "end_time": "2022-01-24T15:36:57.628671",
     "exception": false,
     "start_time": "2022-01-24T15:36:44.133180",
     "status": "completed"
    },
    "tags": []
   },
   "outputs": [],
   "source": [
    "data['domain'] = data['url'].apply(lambda i: process_tld(i))"
   ]
  },
  {
   "cell_type": "code",
   "execution_count": 14,
   "id": "25ea4c7c",
   "metadata": {
    "execution": {
     "iopub.execute_input": "2022-01-24T15:36:57.731258Z",
     "iopub.status.busy": "2022-01-24T15:36:57.730493Z",
     "iopub.status.idle": "2022-01-24T15:36:57.733730Z",
     "shell.execute_reply": "2022-01-24T15:36:57.734191Z",
     "shell.execute_reply.started": "2022-01-24T13:41:14.082710Z"
    },
    "papermill": {
     "duration": 0.060172,
     "end_time": "2022-01-24T15:36:57.734349",
     "exception": false,
     "start_time": "2022-01-24T15:36:57.674177",
     "status": "completed"
    },
    "tags": []
   },
   "outputs": [
    {
     "data": {
      "text/html": [
       "<div>\n",
       "<style scoped>\n",
       "    .dataframe tbody tr th:only-of-type {\n",
       "        vertical-align: middle;\n",
       "    }\n",
       "\n",
       "    .dataframe tbody tr th {\n",
       "        vertical-align: top;\n",
       "    }\n",
       "\n",
       "    .dataframe thead th {\n",
       "        text-align: right;\n",
       "    }\n",
       "</style>\n",
       "<table border=\"1\" class=\"dataframe\">\n",
       "  <thead>\n",
       "    <tr style=\"text-align: right;\">\n",
       "      <th></th>\n",
       "      <th>url</th>\n",
       "      <th>type</th>\n",
       "      <th>Category</th>\n",
       "      <th>url_len</th>\n",
       "      <th>domain</th>\n",
       "    </tr>\n",
       "  </thead>\n",
       "  <tbody>\n",
       "    <tr>\n",
       "      <th>0</th>\n",
       "      <td>br-icloud.com.br</td>\n",
       "      <td>phishing</td>\n",
       "      <td>2</td>\n",
       "      <td>16</td>\n",
       "      <td>br-icloud.com.br</td>\n",
       "    </tr>\n",
       "    <tr>\n",
       "      <th>1</th>\n",
       "      <td>mp3raid.com/music/krizz_kaliko.html</td>\n",
       "      <td>benign</td>\n",
       "      <td>0</td>\n",
       "      <td>35</td>\n",
       "      <td>mp3raid.com</td>\n",
       "    </tr>\n",
       "    <tr>\n",
       "      <th>2</th>\n",
       "      <td>bopsecrets.org/rexroth/cr/1.htm</td>\n",
       "      <td>benign</td>\n",
       "      <td>0</td>\n",
       "      <td>31</td>\n",
       "      <td>bopsecrets.org</td>\n",
       "    </tr>\n",
       "    <tr>\n",
       "      <th>3</th>\n",
       "      <td>http://garage-pirenne.be/index.php?option=com_...</td>\n",
       "      <td>defacement</td>\n",
       "      <td>1</td>\n",
       "      <td>84</td>\n",
       "      <td>garage-pirenne.be</td>\n",
       "    </tr>\n",
       "    <tr>\n",
       "      <th>4</th>\n",
       "      <td>http://adventure-nicaragua.net/index.php?optio...</td>\n",
       "      <td>defacement</td>\n",
       "      <td>1</td>\n",
       "      <td>235</td>\n",
       "      <td>adventure-nicaragua.net</td>\n",
       "    </tr>\n",
       "  </tbody>\n",
       "</table>\n",
       "</div>"
      ],
      "text/plain": [
       "                                                 url        type  Category  \\\n",
       "0                                   br-icloud.com.br    phishing         2   \n",
       "1                mp3raid.com/music/krizz_kaliko.html      benign         0   \n",
       "2                    bopsecrets.org/rexroth/cr/1.htm      benign         0   \n",
       "3  http://garage-pirenne.be/index.php?option=com_...  defacement         1   \n",
       "4  http://adventure-nicaragua.net/index.php?optio...  defacement         1   \n",
       "\n",
       "   url_len                   domain  \n",
       "0       16         br-icloud.com.br  \n",
       "1       35              mp3raid.com  \n",
       "2       31           bopsecrets.org  \n",
       "3       84        garage-pirenne.be  \n",
       "4      235  adventure-nicaragua.net  "
      ]
     },
     "execution_count": 14,
     "metadata": {},
     "output_type": "execute_result"
    }
   ],
   "source": [
    "data.head()"
   ]
  },
  {
   "cell_type": "code",
   "execution_count": 15,
   "id": "ae5f521a",
   "metadata": {
    "execution": {
     "iopub.execute_input": "2022-01-24T15:36:57.832243Z",
     "iopub.status.busy": "2022-01-24T15:36:57.831282Z",
     "iopub.status.idle": "2022-01-24T15:37:04.645323Z",
     "shell.execute_reply": "2022-01-24T15:37:04.645869Z",
     "shell.execute_reply.started": "2022-01-24T13:41:14.099787Z"
    },
    "papermill": {
     "duration": 6.865117,
     "end_time": "2022-01-24T15:37:04.646040",
     "exception": false,
     "start_time": "2022-01-24T15:36:57.780923",
     "status": "completed"
    },
    "tags": []
   },
   "outputs": [],
   "source": [
    "feature = ['@','?','-','=','.','#','%','+','$','!','*',',','//']\n",
    "for a in feature:\n",
    "    data[a] = data['url'].apply(lambda i: i.count(a))"
   ]
  },
  {
   "cell_type": "code",
   "execution_count": 15,
   "id": "cbfe9d03",
   "metadata": {
    "execution": {
     "iopub.execute_input": "2022-01-24T15:37:04.742310Z",
     "iopub.status.busy": "2022-01-24T15:37:04.741340Z",
     "iopub.status.idle": "2022-01-24T15:37:04.756609Z",
     "shell.execute_reply": "2022-01-24T15:37:04.757181Z",
     "shell.execute_reply.started": "2022-01-24T13:41:18.615675Z"
    },
    "papermill": {
     "duration": 0.065169,
     "end_time": "2022-01-24T15:37:04.757347",
     "exception": false,
     "start_time": "2022-01-24T15:37:04.692178",
     "status": "completed"
    },
    "tags": []
   },
   "outputs": [
    {
     "data": {
      "text/html": [
       "<div>\n",
       "<style scoped>\n",
       "    .dataframe tbody tr th:only-of-type {\n",
       "        vertical-align: middle;\n",
       "    }\n",
       "\n",
       "    .dataframe tbody tr th {\n",
       "        vertical-align: top;\n",
       "    }\n",
       "\n",
       "    .dataframe thead th {\n",
       "        text-align: right;\n",
       "    }\n",
       "</style>\n",
       "<table border=\"1\" class=\"dataframe\">\n",
       "  <thead>\n",
       "    <tr style=\"text-align: right;\">\n",
       "      <th></th>\n",
       "      <th>url</th>\n",
       "      <th>type</th>\n",
       "      <th>Category</th>\n",
       "      <th>url_len</th>\n",
       "      <th>domain</th>\n",
       "    </tr>\n",
       "  </thead>\n",
       "  <tbody>\n",
       "    <tr>\n",
       "      <th>0</th>\n",
       "      <td>br-icloud.com.br</td>\n",
       "      <td>phishing</td>\n",
       "      <td>2</td>\n",
       "      <td>16</td>\n",
       "      <td>br-icloud.com.br</td>\n",
       "    </tr>\n",
       "    <tr>\n",
       "      <th>1</th>\n",
       "      <td>mp3raid.com/music/krizz_kaliko.html</td>\n",
       "      <td>benign</td>\n",
       "      <td>0</td>\n",
       "      <td>35</td>\n",
       "      <td>mp3raid.com</td>\n",
       "    </tr>\n",
       "    <tr>\n",
       "      <th>2</th>\n",
       "      <td>bopsecrets.org/rexroth/cr/1.htm</td>\n",
       "      <td>benign</td>\n",
       "      <td>0</td>\n",
       "      <td>31</td>\n",
       "      <td>bopsecrets.org</td>\n",
       "    </tr>\n",
       "    <tr>\n",
       "      <th>3</th>\n",
       "      <td>http://garage-pirenne.be/index.php?option=com_...</td>\n",
       "      <td>defacement</td>\n",
       "      <td>1</td>\n",
       "      <td>84</td>\n",
       "      <td>garage-pirenne.be</td>\n",
       "    </tr>\n",
       "    <tr>\n",
       "      <th>4</th>\n",
       "      <td>http://adventure-nicaragua.net/index.php?optio...</td>\n",
       "      <td>defacement</td>\n",
       "      <td>1</td>\n",
       "      <td>235</td>\n",
       "      <td>adventure-nicaragua.net</td>\n",
       "    </tr>\n",
       "  </tbody>\n",
       "</table>\n",
       "</div>"
      ],
      "text/plain": [
       "                                                 url        type  Category  \\\n",
       "0                                   br-icloud.com.br    phishing         2   \n",
       "1                mp3raid.com/music/krizz_kaliko.html      benign         0   \n",
       "2                    bopsecrets.org/rexroth/cr/1.htm      benign         0   \n",
       "3  http://garage-pirenne.be/index.php?option=com_...  defacement         1   \n",
       "4  http://adventure-nicaragua.net/index.php?optio...  defacement         1   \n",
       "\n",
       "   url_len                   domain  \n",
       "0       16         br-icloud.com.br  \n",
       "1       35              mp3raid.com  \n",
       "2       31           bopsecrets.org  \n",
       "3       84        garage-pirenne.be  \n",
       "4      235  adventure-nicaragua.net  "
      ]
     },
     "execution_count": 15,
     "metadata": {},
     "output_type": "execute_result"
    }
   ],
   "source": [
    "data.head()"
   ]
  },
  {
   "cell_type": "code",
   "execution_count": 16,
   "id": "7474d7f2",
   "metadata": {
    "execution": {
     "iopub.execute_input": "2022-01-24T15:37:04.855818Z",
     "iopub.status.busy": "2022-01-24T15:37:04.854809Z",
     "iopub.status.idle": "2022-01-24T15:37:04.859613Z",
     "shell.execute_reply": "2022-01-24T15:37:04.860264Z",
     "shell.execute_reply.started": "2022-01-24T13:41:18.633983Z"
    },
    "papermill": {
     "duration": 0.056736,
     "end_time": "2022-01-24T15:37:04.860555",
     "exception": false,
     "start_time": "2022-01-24T15:37:04.803819",
     "status": "completed"
    },
    "tags": []
   },
   "outputs": [],
   "source": [
    "def abnormal_url(url):\n",
    "    hostname = urlparse(url).hostname\n",
    "    hostname = str(hostname)\n",
    "    match = re.search(hostname, url)\n",
    "    if match:\n",
    "        # print match.group()\n",
    "        return 1\n",
    "    else:\n",
    "        # print 'No matching pattern found'\n",
    "        return 0"
   ]
  },
  {
   "cell_type": "code",
   "execution_count": 17,
   "id": "718b92be",
   "metadata": {
    "execution": {
     "iopub.execute_input": "2022-01-24T15:37:04.960068Z",
     "iopub.status.busy": "2022-01-24T15:37:04.959092Z",
     "iopub.status.idle": "2022-01-24T15:37:21.886381Z",
     "shell.execute_reply": "2022-01-24T15:37:21.885859Z",
     "shell.execute_reply.started": "2022-01-24T13:41:18.643348Z"
    },
    "papermill": {
     "duration": 16.977054,
     "end_time": "2022-01-24T15:37:21.886583",
     "exception": false,
     "start_time": "2022-01-24T15:37:04.909529",
     "status": "completed"
    },
    "tags": []
   },
   "outputs": [],
   "source": [
    "data['abnormal_url'] = data['url'].apply(lambda i: abnormal_url(i))"
   ]
  },
  {
   "cell_type": "code",
   "execution_count": 18,
   "id": "d39bf479",
   "metadata": {
    "execution": {
     "iopub.execute_input": "2022-01-24T15:37:21.992068Z",
     "iopub.status.busy": "2022-01-24T15:37:21.991005Z",
     "iopub.status.idle": "2022-01-24T15:37:22.199557Z",
     "shell.execute_reply": "2022-01-24T15:37:22.198898Z",
     "shell.execute_reply.started": "2022-01-24T13:41:31.791869Z"
    },
    "papermill": {
     "duration": 0.266382,
     "end_time": "2022-01-24T15:37:22.199697",
     "exception": false,
     "start_time": "2022-01-24T15:37:21.933315",
     "status": "completed"
    },
    "tags": []
   },
   "outputs": [
    {
     "data": {
      "image/png": "[encoded data removed]",
      "text/plain": [
       "<Figure size 432x288 with 1 Axes>"
      ]
     },
     "metadata": {
      "needs_background": "light"
     },
     "output_type": "display_data"
    }
   ],
   "source": [
    "sns.countplot(x='abnormal_url', data=data);"
   ]
  },
  {
   "cell_type": "code",
   "execution_count": 19,
   "id": "555e85a0",
   "metadata": {
    "execution": {
     "iopub.execute_input": "2022-01-24T15:37:22.300592Z",
     "iopub.status.busy": "2022-01-24T15:37:22.299913Z",
     "iopub.status.idle": "2022-01-24T15:37:22.302510Z",
     "shell.execute_reply": "2022-01-24T15:37:22.303015Z",
     "shell.execute_reply.started": "2022-01-24T13:41:32.016190Z"
    },
    "papermill": {
     "duration": 0.055841,
     "end_time": "2022-01-24T15:37:22.303177",
     "exception": false,
     "start_time": "2022-01-24T15:37:22.247336",
     "status": "completed"
    },
    "tags": []
   },
   "outputs": [],
   "source": [
    "def httpSecure(url):\n",
    "    htp = urlparse(url).scheme\n",
    "    match = str(htp)\n",
    "    if match=='https':\n",
    "        # print match.group()\n",
    "        return 1\n",
    "    else:\n",
    "        # print 'No matching pattern found'\n",
    "        return 0"
   ]
  },
  {
   "cell_type": "code",
   "execution_count": 20,
   "id": "fb8982e9",
   "metadata": {
    "execution": {
     "iopub.execute_input": "2022-01-24T15:37:22.402227Z",
     "iopub.status.busy": "2022-01-24T15:37:22.401617Z",
     "iopub.status.idle": "2022-01-24T15:37:28.530328Z",
     "shell.execute_reply": "2022-01-24T15:37:28.530855Z",
     "shell.execute_reply.started": "2022-01-24T13:41:32.024127Z"
    },
    "papermill": {
     "duration": 6.179944,
     "end_time": "2022-01-24T15:37:28.531052",
     "exception": false,
     "start_time": "2022-01-24T15:37:22.351108",
     "status": "completed"
    },
    "tags": []
   },
   "outputs": [],
   "source": [
    "data['https'] = data['url'].apply(lambda i: httpSecure(i))"
   ]
  },
  {
   "cell_type": "code",
   "execution_count": 21,
   "id": "feb71e22",
   "metadata": {
    "execution": {
     "iopub.execute_input": "2022-01-24T15:37:28.632707Z",
     "iopub.status.busy": "2022-01-24T15:37:28.632023Z",
     "iopub.status.idle": "2022-01-24T15:37:28.847281Z",
     "shell.execute_reply": "2022-01-24T15:37:28.846659Z",
     "shell.execute_reply.started": "2022-01-24T13:41:36.148291Z"
    },
    "papermill": {
     "duration": 0.267905,
     "end_time": "2022-01-24T15:37:28.847460",
     "exception": false,
     "start_time": "2022-01-24T15:37:28.579555",
     "status": "completed"
    },
    "tags": []
   },
   "outputs": [
    {
     "data": {
      "image/png": "[encoded data removed]",
      "text/plain": [
       "<Figure size 432x288 with 1 Axes>"
      ]
     },
     "metadata": {
      "needs_background": "light"
     },
     "output_type": "display_data"
    }
   ],
   "source": [
    "sns.countplot(x='https', data=data);"
   ]
  },
  {
   "cell_type": "markdown",
   "id": "152c1b47",
   "metadata": {
    "papermill": {
     "duration": 0.048502,
     "end_time": "2022-01-24T15:37:28.944391",
     "exception": false,
     "start_time": "2022-01-24T15:37:28.895889",
     "status": "completed"
    },
    "tags": []
   },
   "source": [
    "<h4>Counts the number of digit characters in a URL</h4>"
   ]
  },
  {
   "cell_type": "code",
   "execution_count": 22,
   "id": "3e77fa67",
   "metadata": {
    "execution": {
     "iopub.execute_input": "2022-01-24T15:37:29.049291Z",
     "iopub.status.busy": "2022-01-24T15:37:29.048511Z",
     "iopub.status.idle": "2022-01-24T15:37:29.051581Z",
     "shell.execute_reply": "2022-01-24T15:37:29.052045Z",
     "shell.execute_reply.started": "2022-01-24T13:41:36.376923Z"
    },
    "papermill": {
     "duration": 0.059169,
     "end_time": "2022-01-24T15:37:29.052215",
     "exception": false,
     "start_time": "2022-01-24T15:37:28.993046",
     "status": "completed"
    },
    "tags": []
   },
   "outputs": [],
   "source": [
    "def digit_count(url):\n",
    "    digits = 0\n",
    "    for i in url:\n",
    "        if i.isnumeric():\n",
    "            digits = digits + 1\n",
    "    return digits"
   ]
  },
  {
   "cell_type": "code",
   "execution_count": 23,
   "id": "c1bc00b9",
   "metadata": {
    "execution": {
     "iopub.execute_input": "2022-01-24T15:37:29.154844Z",
     "iopub.status.busy": "2022-01-24T15:37:29.154181Z",
     "iopub.status.idle": "2022-01-24T15:37:31.977233Z",
     "shell.execute_reply": "2022-01-24T15:37:31.977820Z",
     "shell.execute_reply.started": "2022-01-24T13:41:36.384465Z"
    },
    "papermill": {
     "duration": 2.877114,
     "end_time": "2022-01-24T15:37:31.978003",
     "exception": false,
     "start_time": "2022-01-24T15:37:29.100889",
     "status": "completed"
    },
    "tags": []
   },
   "outputs": [],
   "source": [
    "data['digits']= data['url'].apply(lambda i: digit_count(i))"
   ]
  },
  {
   "cell_type": "markdown",
   "id": "6815b994",
   "metadata": {
    "papermill": {
     "duration": 0.047773,
     "end_time": "2022-01-24T15:37:32.075077",
     "exception": false,
     "start_time": "2022-01-24T15:37:32.027304",
     "status": "completed"
    },
    "tags": []
   },
   "source": [
    "<h4>Counts the number of letter characters in a URL</h4>"
   ]
  },
  {
   "cell_type": "code",
   "execution_count": 24,
   "id": "fa5f6ead",
   "metadata": {
    "execution": {
     "iopub.execute_input": "2022-01-24T15:37:32.176642Z",
     "iopub.status.busy": "2022-01-24T15:37:32.174391Z",
     "iopub.status.idle": "2022-01-24T15:37:32.179341Z",
     "shell.execute_reply": "2022-01-24T15:37:32.178836Z",
     "shell.execute_reply.started": "2022-01-24T13:41:38.900877Z"
    },
    "papermill": {
     "duration": 0.055892,
     "end_time": "2022-01-24T15:37:32.179489",
     "exception": false,
     "start_time": "2022-01-24T15:37:32.123597",
     "status": "completed"
    },
    "tags": []
   },
   "outputs": [],
   "source": [
    "def letter_count(url):\n",
    "    letters = 0\n",
    "    for i in url:\n",
    "        if i.isalpha():\n",
    "            letters = letters + 1\n",
    "    return letters"
   ]
  },
  {
   "cell_type": "code",
   "execution_count": 25,
   "id": "3b4d9f92",
   "metadata": {
    "execution": {
     "iopub.execute_input": "2022-01-24T15:37:32.295545Z",
     "iopub.status.busy": "2022-01-24T15:37:32.280034Z",
     "iopub.status.idle": "2022-01-24T15:37:36.742957Z",
     "shell.execute_reply": "2022-01-24T15:37:36.742395Z",
     "shell.execute_reply.started": "2022-01-24T13:41:38.907948Z"
    },
    "papermill": {
     "duration": 4.515364,
     "end_time": "2022-01-24T15:37:36.743106",
     "exception": false,
     "start_time": "2022-01-24T15:37:32.227742",
     "status": "completed"
    },
    "tags": []
   },
   "outputs": [],
   "source": [
    "data['letters']= data['url'].apply(lambda i: letter_count(i))"
   ]
  },
  {
   "cell_type": "markdown",
   "id": "3c46777b",
   "metadata": {
    "papermill": {
     "duration": 0.048167,
     "end_time": "2022-01-24T15:37:36.839716",
     "exception": false,
     "start_time": "2022-01-24T15:37:36.791549",
     "status": "completed"
    },
    "tags": []
   },
   "source": [
    "<h4>Checks to see whether URL contains a shortening service</h4>"
   ]
  },
  {
   "cell_type": "code",
   "execution_count": 26,
   "id": "69cfe044",
   "metadata": {
    "execution": {
     "iopub.execute_input": "2022-01-24T15:37:36.942284Z",
     "iopub.status.busy": "2022-01-24T15:37:36.941645Z",
     "iopub.status.idle": "2022-01-24T15:37:36.946440Z",
     "shell.execute_reply": "2022-01-24T15:37:36.946945Z",
     "shell.execute_reply.started": "2022-01-24T13:41:42.056007Z"
    },
    "papermill": {
     "duration": 0.056553,
     "end_time": "2022-01-24T15:37:36.947112",
     "exception": false,
     "start_time": "2022-01-24T15:37:36.890559",
     "status": "completed"
    },
    "tags": []
   },
   "outputs": [],
   "source": [
    "def Shortining_Service(url):\n",
    "    match = re.search('bit\\.ly|goo\\.gl|shorte\\.st|go2l\\.ink|x\\.co|ow\\.ly|t\\.co|tinyurl|tr\\.im|is\\.gd|cli\\.gs|'\n",
    "                      'yfrog\\.com|migre\\.me|ff\\.im|tiny\\.cc|url4\\.eu|twit\\.ac|su\\.pr|twurl\\.nl|snipurl\\.com|'\n",
    "                      'short\\.to|BudURL\\.com|ping\\.fm|post\\.ly|Just\\.as|bkite\\.com|snipr\\.com|fic\\.kr|loopt\\.us|'\n",
    "                      'doiop\\.com|short\\.ie|kl\\.am|wp\\.me|rubyurl\\.com|om\\.ly|to\\.ly|bit\\.do|t\\.co|lnkd\\.in|'\n",
    "                      'db\\.tt|qr\\.ae|adf\\.ly|goo\\.gl|bitly\\.com|cur\\.lv|tinyurl\\.com|ow\\.ly|bit\\.ly|ity\\.im|'\n",
    "                      'q\\.gs|is\\.gd|po\\.st|bc\\.vc|twitthis\\.com|u\\.to|j\\.mp|buzurl\\.com|cutt\\.us|u\\.bb|yourls\\.org|'\n",
    "                      'x\\.co|prettylinkpro\\.com|scrnch\\.me|filoops\\.info|vzturl\\.com|qr\\.net|1url\\.com|tweez\\.me|v\\.gd|'\n",
    "                      'tr\\.im|link\\.zip\\.net',\n",
    "                      url)\n",
    "    if match:\n",
    "        return 1\n",
    "    else:\n",
    "        return 0"
   ]
  },
  {
   "cell_type": "code",
   "execution_count": 27,
   "id": "f8df7ef1",
   "metadata": {
    "execution": {
     "iopub.execute_input": "2022-01-24T15:37:37.049356Z",
     "iopub.status.busy": "2022-01-24T15:37:37.048715Z",
     "iopub.status.idle": "2022-01-24T15:37:45.762786Z",
     "shell.execute_reply": "2022-01-24T15:37:45.762162Z",
     "shell.execute_reply.started": "2022-01-24T13:41:42.065611Z"
    },
    "papermill": {
     "duration": 8.766529,
     "end_time": "2022-01-24T15:37:45.762968",
     "exception": false,
     "start_time": "2022-01-24T15:37:36.996439",
     "status": "completed"
    },
    "tags": []
   },
   "outputs": [],
   "source": [
    "data['Shortining_Service'] = data['url'].apply(lambda x: Shortining_Service(x))"
   ]
  },
  {
   "cell_type": "code",
   "execution_count": 28,
   "id": "487ea406",
   "metadata": {
    "execution": {
     "iopub.execute_input": "2022-01-24T15:37:45.866329Z",
     "iopub.status.busy": "2022-01-24T15:37:45.865706Z",
     "iopub.status.idle": "2022-01-24T15:37:46.083700Z",
     "shell.execute_reply": "2022-01-24T15:37:46.084168Z",
     "shell.execute_reply.started": "2022-01-24T13:41:49.492210Z"
    },
    "papermill": {
     "duration": 0.273195,
     "end_time": "2022-01-24T15:37:46.084347",
     "exception": false,
     "start_time": "2022-01-24T15:37:45.811152",
     "status": "completed"
    },
    "tags": []
   },
   "outputs": [
    {
     "data": {
      "image/png": "[encoded data removed]",
      "text/plain": [
       "<Figure size 432x288 with 1 Axes>"
      ]
     },
     "metadata": {
      "needs_background": "light"
     },
     "output_type": "display_data"
    }
   ],
   "source": [
    "sns.countplot(x='Shortining_Service', data=data);"
   ]
  },
  {
   "cell_type": "code",
   "execution_count": 29,
   "id": "30854ef4",
   "metadata": {
    "execution": {
     "iopub.execute_input": "2022-01-24T15:37:46.185373Z",
     "iopub.status.busy": "2022-01-24T15:37:46.184729Z",
     "iopub.status.idle": "2022-01-24T15:37:46.189278Z",
     "shell.execute_reply": "2022-01-24T15:37:46.189796Z",
     "shell.execute_reply.started": "2022-01-24T13:41:49.733529Z"
    },
    "papermill": {
     "duration": 0.056878,
     "end_time": "2022-01-24T15:37:46.189963",
     "exception": false,
     "start_time": "2022-01-24T15:37:46.133085",
     "status": "completed"
    },
    "tags": []
   },
   "outputs": [],
   "source": [
    "def having_ip_address(url):\n",
    "    match = re.search(\n",
    "        '(([01]?\\\\d\\\\d?|2[0-4]\\\\d|25[0-5])\\\\.([01]?\\\\d\\\\d?|2[0-4]\\\\d|25[0-5])\\\\.([01]?\\\\d\\\\d?|2[0-4]\\\\d|25[0-5])\\\\.'\n",
    "        '([01]?\\\\d\\\\d?|2[0-4]\\\\d|25[0-5])\\\\/)|'  # IPv4\n",
    "        '(([01]?\\\\d\\\\d?|2[0-4]\\\\d|25[0-5])\\\\.([01]?\\\\d\\\\d?|2[0-4]\\\\d|25[0-5])\\\\.([01]?\\\\d\\\\d?|2[0-4]\\\\d|25[0-5])\\\\.'\n",
    "        '([01]?\\\\d\\\\d?|2[0-4]\\\\d|25[0-5])\\\\/)|'  # IPv4 with port\n",
    "        '((0x[0-9a-fA-F]{1,2})\\\\.(0x[0-9a-fA-F]{1,2})\\\\.(0x[0-9a-fA-F]{1,2})\\\\.(0x[0-9a-fA-F]{1,2})\\\\/)' # IPv4 in hexadecimal\n",
    "        '(?:[a-fA-F0-9]{1,4}:){7}[a-fA-F0-9]{1,4}|'\n",
    "        '([0-9]+(?:\\.[0-9]+){3}:[0-9]+)|'\n",
    "        '((?:(?:\\d|[01]?\\d\\d|2[0-4]\\d|25[0-5])\\.){3}(?:25[0-5]|2[0-4]\\d|[01]?\\d\\d|\\d)(?:\\/\\d{1,2})?)', url)  # Ipv6\n",
    "    if match:\n",
    "        return 1\n",
    "    else:\n",
    "        return 0"
   ]
  },
  {
   "cell_type": "code",
   "execution_count": 30,
   "id": "59b70f9e",
   "metadata": {
    "execution": {
     "iopub.execute_input": "2022-01-24T15:37:46.293884Z",
     "iopub.status.busy": "2022-01-24T15:37:46.293177Z",
     "iopub.status.idle": "2022-01-24T15:38:20.230238Z",
     "shell.execute_reply": "2022-01-24T15:38:20.229679Z",
     "shell.execute_reply.started": "2022-01-24T13:41:49.741747Z"
    },
    "papermill": {
     "duration": 33.991411,
     "end_time": "2022-01-24T15:38:20.230389",
     "exception": false,
     "start_time": "2022-01-24T15:37:46.238978",
     "status": "completed"
    },
    "tags": []
   },
   "outputs": [],
   "source": [
    "data['having_ip_address'] = data['url'].apply(lambda i: having_ip_address(i))"
   ]
  },
  {
   "cell_type": "code",
   "execution_count": 31,
   "id": "b1835d44",
   "metadata": {
    "execution": {
     "iopub.execute_input": "2022-01-24T15:38:20.339278Z",
     "iopub.status.busy": "2022-01-24T15:38:20.337302Z",
     "iopub.status.idle": "2022-01-24T15:38:20.342496Z",
     "shell.execute_reply": "2022-01-24T15:38:20.343119Z",
     "shell.execute_reply.started": "2022-01-24T13:42:03.512143Z"
    },
    "papermill": {
     "duration": 0.063691,
     "end_time": "2022-01-24T15:38:20.343312",
     "exception": false,
     "start_time": "2022-01-24T15:38:20.279621",
     "status": "completed"
    },
    "tags": []
   },
   "outputs": [
    {
     "data": {
      "text/plain": [
       "0    638703\n",
       "1     12488\n",
       "Name: having_ip_address, dtype: int64"
      ]
     },
     "execution_count": 31,
     "metadata": {},
     "output_type": "execute_result"
    }
   ],
   "source": [
    "data['having_ip_address'].value_counts()"
   ]
  },
  {
   "cell_type": "code",
   "execution_count": 32,
   "id": "710e0b1d",
   "metadata": {
    "execution": {
     "iopub.execute_input": "2022-01-24T15:38:20.451064Z",
     "iopub.status.busy": "2022-01-24T15:38:20.450317Z",
     "iopub.status.idle": "2022-01-24T15:38:22.123338Z",
     "shell.execute_reply": "2022-01-24T15:38:22.123894Z",
     "shell.execute_reply.started": "2022-01-24T13:42:03.527958Z"
    },
    "papermill": {
     "duration": 1.729546,
     "end_time": "2022-01-24T15:38:22.124077",
     "exception": false,
     "start_time": "2022-01-24T15:38:20.394531",
     "status": "completed"
    },
    "tags": []
   },
   "outputs": [
    {
     "data": {
      "text/plain": [
       "<AxesSubplot:>"
      ]
     },
     "execution_count": 32,
     "metadata": {},
     "output_type": "execute_result"
    },
    {
     "data": {
      "image/png": "[encoded data removed]",
      "text/plain": [
       "<Figure size 1080x1080 with 2 Axes>"
      ]
     },
     "metadata": {
      "needs_background": "light"
     },
     "output_type": "display_data"
    }
   ],
   "source": [
    "plt.figure(figsize=(15, 15))\n",
    "sns.heatmap(data.corr(), linewidths=.5)"
   ]
  },
  {
   "cell_type": "code",
   "execution_count": 33,
   "id": "82ae2679",
   "metadata": {
    "execution": {
     "iopub.execute_input": "2022-01-24T15:38:22.230109Z",
     "iopub.status.busy": "2022-01-24T15:38:22.229457Z",
     "iopub.status.idle": "2022-01-24T15:38:22.407850Z",
     "shell.execute_reply": "2022-01-24T15:38:22.407143Z",
     "shell.execute_reply.started": "2022-01-24T13:42:05.197892Z"
    },
    "papermill": {
     "duration": 0.232103,
     "end_time": "2022-01-24T15:38:22.407988",
     "exception": false,
     "start_time": "2022-01-24T15:38:22.175885",
     "status": "completed"
    },
    "tags": []
   },
   "outputs": [],
   "source": [
    "X = data.drop(['url','type','Category','domain'],axis=1)#,'type_code'\n",
    "y = data['Category']"
   ]
  },
  {
   "cell_type": "markdown",
   "id": "9129a5d4",
   "metadata": {
    "papermill": {
     "duration": 0.050957,
     "end_time": "2022-01-24T15:38:22.510100",
     "exception": false,
     "start_time": "2022-01-24T15:38:22.459143",
     "status": "completed"
    },
    "tags": []
   },
   "source": [
    "<a id=\"6\"></a> <br>\n",
    "# ✂️ Train & Test Split"
   ]
  },
  {
   "cell_type": "code",
   "execution_count": 34,
   "id": "f7ca33a1",
   "metadata": {
    "execution": {
     "iopub.execute_input": "2022-01-24T15:38:22.620347Z",
     "iopub.status.busy": "2022-01-24T15:38:22.619521Z",
     "iopub.status.idle": "2022-01-24T15:38:22.789960Z",
     "shell.execute_reply": "2022-01-24T15:38:22.790511Z",
     "shell.execute_reply.started": "2022-01-24T13:42:05.385665Z"
    },
    "papermill": {
     "duration": 0.229472,
     "end_time": "2022-01-24T15:38:22.790719",
     "exception": false,
     "start_time": "2022-01-24T15:38:22.561247",
     "status": "completed"
    },
    "tags": []
   },
   "outputs": [],
   "source": [
    "X_train, X_test, y_train, y_test = train_test_split(X, y, test_size=0.2, random_state=2)"
   ]
  },
  {
   "cell_type": "markdown",
   "id": "86c502df",
   "metadata": {
    "papermill": {
     "duration": 0.052559,
     "end_time": "2022-01-24T15:38:22.894302",
     "exception": false,
     "start_time": "2022-01-24T15:38:22.841743",
     "status": "completed"
    },
    "tags": []
   },
   "source": [
    "<a id=\"7\"></a> <br>\n",
    "# <img src=\"https://cdn-icons-png.flaticon.com/32/4149/4149680.png\"/> Training models"
   ]
  },
  {
   "cell_type": "code",
   "execution_count": 43,
   "id": "303b3271",
   "metadata": {
    "execution": {
     "iopub.execute_input": "2022-01-24T15:38:23.002601Z",
     "iopub.status.busy": "2022-01-24T15:38:23.001915Z",
     "iopub.status.idle": "2022-01-24T15:38:23.004483Z",
     "shell.execute_reply": "2022-01-24T15:38:23.003971Z",
     "shell.execute_reply.started": "2022-01-24T13:42:05.598591Z"
    },
    "papermill": {
     "duration": 0.058031,
     "end_time": "2022-01-24T15:38:23.004632",
     "exception": false,
     "start_time": "2022-01-24T15:38:22.946601",
     "status": "completed"
    },
    "tags": []
   },
   "outputs": [],
   "source": [
    "from sklearn.metrics import classification_report\n",
    "from sklearn.metrics import plot_roc_curve"
   ]
  },
  {
   "cell_type": "code",
   "execution_count": 38,
   "id": "3d2cda4e",
   "metadata": {
    "execution": {
     "iopub.execute_input": "2022-01-24T15:38:23.119676Z",
     "iopub.status.busy": "2022-01-24T15:38:23.118500Z",
     "iopub.status.idle": "2022-01-24T15:42:41.226025Z",
     "shell.execute_reply": "2022-01-24T15:42:41.224720Z",
     "shell.execute_reply.started": "2022-01-24T14:16:12.894287Z"
    },
    "papermill": {
     "duration": 258.168517,
     "end_time": "2022-01-24T15:42:41.226242",
     "exception": false,
     "start_time": "2022-01-24T15:38:23.057725",
     "status": "completed"
    },
    "tags": []
   },
   "outputs": [],
   "source": [
    "model = DecisionTreeClassifier()\n",
    "model.fit(X_train,y_train)\n",
    "y_pred = model.predict(X_test)\n",
    "\n",
    "y_pred\n",
    "\n",
    "X_test.head()\n",
    "final_df = X_test.copy()\n",
    "final_df['prediction'] = y_pred\n",
    "final_df['Actual'] = y_test"
   ]
  },
  {
   "cell_type": "code",
   "execution_count": 41,
   "id": "2328680c",
   "metadata": {},
   "outputs": [
    {
     "data": {
      "text/plain": [
       "0    95157\n",
       "1    21469\n",
       "2     7583\n",
       "3     6030\n",
       "Name: prediction, dtype: int64"
      ]
     },
     "execution_count": 41,
     "metadata": {},
     "output_type": "execute_result"
    }
   ],
   "source": [
    "final_df.prediction.value_counts()"
   ]
  },
  {
   "cell_type": "code",
   "execution_count": 44,
   "id": "5ba38ab2",
   "metadata": {},
   "outputs": [],
   "source": [
    "final_df['prediction'] = final_df['prediction'].replace([0,1,2,3],['benign','defacement','phishing','malware'])\n",
    "final_df['Actual'] = final_df['prediction'].replace([0,1,2,3],['benign','defacement','phishing','malware'])"
   ]
  },
  {
   "cell_type": "code",
   "execution_count": 45,
   "id": "4b4931f6",
   "metadata": {},
   "outputs": [
    {
     "data": {
      "text/html": [
       "<div>\n",
       "<style scoped>\n",
       "    .dataframe tbody tr th:only-of-type {\n",
       "        vertical-align: middle;\n",
       "    }\n",
       "\n",
       "    .dataframe tbody tr th {\n",
       "        vertical-align: top;\n",
       "    }\n",
       "\n",
       "    .dataframe thead th {\n",
       "        text-align: right;\n",
       "    }\n",
       "</style>\n",
       "<table border=\"1\" class=\"dataframe\">\n",
       "  <thead>\n",
       "    <tr style=\"text-align: right;\">\n",
       "      <th></th>\n",
       "      <th>url_len</th>\n",
       "      <th>abnormal_url</th>\n",
       "      <th>https</th>\n",
       "      <th>digits</th>\n",
       "      <th>letters</th>\n",
       "      <th>Shortining_Service</th>\n",
       "      <th>having_ip_address</th>\n",
       "      <th>prediction</th>\n",
       "      <th>Actual</th>\n",
       "    </tr>\n",
       "  </thead>\n",
       "  <tbody>\n",
       "    <tr>\n",
       "      <th>238731</th>\n",
       "      <td>96</td>\n",
       "      <td>1</td>\n",
       "      <td>0</td>\n",
       "      <td>2</td>\n",
       "      <td>76</td>\n",
       "      <td>0</td>\n",
       "      <td>0</td>\n",
       "      <td>defacement</td>\n",
       "      <td>defacement</td>\n",
       "    </tr>\n",
       "    <tr>\n",
       "      <th>309364</th>\n",
       "      <td>84</td>\n",
       "      <td>0</td>\n",
       "      <td>0</td>\n",
       "      <td>13</td>\n",
       "      <td>59</td>\n",
       "      <td>0</td>\n",
       "      <td>0</td>\n",
       "      <td>benign</td>\n",
       "      <td>benign</td>\n",
       "    </tr>\n",
       "    <tr>\n",
       "      <th>170638</th>\n",
       "      <td>83</td>\n",
       "      <td>1</td>\n",
       "      <td>0</td>\n",
       "      <td>31</td>\n",
       "      <td>30</td>\n",
       "      <td>0</td>\n",
       "      <td>0</td>\n",
       "      <td>defacement</td>\n",
       "      <td>defacement</td>\n",
       "    </tr>\n",
       "    <tr>\n",
       "      <th>246063</th>\n",
       "      <td>14</td>\n",
       "      <td>0</td>\n",
       "      <td>0</td>\n",
       "      <td>0</td>\n",
       "      <td>12</td>\n",
       "      <td>0</td>\n",
       "      <td>0</td>\n",
       "      <td>benign</td>\n",
       "      <td>benign</td>\n",
       "    </tr>\n",
       "    <tr>\n",
       "      <th>466287</th>\n",
       "      <td>39</td>\n",
       "      <td>0</td>\n",
       "      <td>0</td>\n",
       "      <td>5</td>\n",
       "      <td>27</td>\n",
       "      <td>0</td>\n",
       "      <td>0</td>\n",
       "      <td>benign</td>\n",
       "      <td>benign</td>\n",
       "    </tr>\n",
       "    <tr>\n",
       "      <th>...</th>\n",
       "      <td>...</td>\n",
       "      <td>...</td>\n",
       "      <td>...</td>\n",
       "      <td>...</td>\n",
       "      <td>...</td>\n",
       "      <td>...</td>\n",
       "      <td>...</td>\n",
       "      <td>...</td>\n",
       "      <td>...</td>\n",
       "    </tr>\n",
       "    <tr>\n",
       "      <th>348509</th>\n",
       "      <td>78</td>\n",
       "      <td>1</td>\n",
       "      <td>0</td>\n",
       "      <td>4</td>\n",
       "      <td>58</td>\n",
       "      <td>0</td>\n",
       "      <td>0</td>\n",
       "      <td>defacement</td>\n",
       "      <td>defacement</td>\n",
       "    </tr>\n",
       "    <tr>\n",
       "      <th>500295</th>\n",
       "      <td>28</td>\n",
       "      <td>0</td>\n",
       "      <td>0</td>\n",
       "      <td>0</td>\n",
       "      <td>25</td>\n",
       "      <td>0</td>\n",
       "      <td>0</td>\n",
       "      <td>benign</td>\n",
       "      <td>benign</td>\n",
       "    </tr>\n",
       "    <tr>\n",
       "      <th>53597</th>\n",
       "      <td>82</td>\n",
       "      <td>1</td>\n",
       "      <td>0</td>\n",
       "      <td>4</td>\n",
       "      <td>63</td>\n",
       "      <td>0</td>\n",
       "      <td>0</td>\n",
       "      <td>defacement</td>\n",
       "      <td>defacement</td>\n",
       "    </tr>\n",
       "    <tr>\n",
       "      <th>26012</th>\n",
       "      <td>26</td>\n",
       "      <td>0</td>\n",
       "      <td>0</td>\n",
       "      <td>0</td>\n",
       "      <td>22</td>\n",
       "      <td>0</td>\n",
       "      <td>0</td>\n",
       "      <td>benign</td>\n",
       "      <td>benign</td>\n",
       "    </tr>\n",
       "    <tr>\n",
       "      <th>212458</th>\n",
       "      <td>37</td>\n",
       "      <td>0</td>\n",
       "      <td>0</td>\n",
       "      <td>0</td>\n",
       "      <td>31</td>\n",
       "      <td>0</td>\n",
       "      <td>0</td>\n",
       "      <td>benign</td>\n",
       "      <td>benign</td>\n",
       "    </tr>\n",
       "  </tbody>\n",
       "</table>\n",
       "<p>130239 rows × 9 columns</p>\n",
       "</div>"
      ],
      "text/plain": [
       "        url_len  abnormal_url  https  digits  letters  Shortining_Service  \\\n",
       "238731       96             1      0       2       76                   0   \n",
       "309364       84             0      0      13       59                   0   \n",
       "170638       83             1      0      31       30                   0   \n",
       "246063       14             0      0       0       12                   0   \n",
       "466287       39             0      0       5       27                   0   \n",
       "...         ...           ...    ...     ...      ...                 ...   \n",
       "348509       78             1      0       4       58                   0   \n",
       "500295       28             0      0       0       25                   0   \n",
       "53597        82             1      0       4       63                   0   \n",
       "26012        26             0      0       0       22                   0   \n",
       "212458       37             0      0       0       31                   0   \n",
       "\n",
       "        having_ip_address  prediction      Actual  \n",
       "238731                  0  defacement  defacement  \n",
       "309364                  0      benign      benign  \n",
       "170638                  0  defacement  defacement  \n",
       "246063                  0      benign      benign  \n",
       "466287                  0      benign      benign  \n",
       "...                   ...         ...         ...  \n",
       "348509                  0  defacement  defacement  \n",
       "500295                  0      benign      benign  \n",
       "53597                   0  defacement  defacement  \n",
       "26012                   0      benign      benign  \n",
       "212458                  0      benign      benign  \n",
       "\n",
       "[130239 rows x 9 columns]"
      ]
     },
     "execution_count": 45,
     "metadata": {},
     "output_type": "execute_result"
    }
   ],
   "source": [
    "final_df"
   ]
  },
  {
   "cell_type": "code",
   "execution_count": 47,
   "id": "e80f639c",
   "metadata": {},
   "outputs": [],
   "source": [
    "# df_predict_malicious_url = pd.DataFrame(final_df)\n",
    "# file_name = r'C:\\Users\\apopalzi\\Documents\\git\\apf\\output\\cyber_risk\\malicious_url_output\\malicious_url_predictions.csv'\n",
    "# df_predict_malicious_url.to_csv(file_name,encoding='utf-8', index=False)"
   ]
  },
  {
   "cell_type": "code",
   "execution_count": null,
   "id": "294a120b",
   "metadata": {},
   "outputs": [],
   "source": []
  }
 ],
 "metadata": {
  "kernelspec": {
   "display_name": "Python 3 (ipykernel)",
   "language": "python",
   "name": "python3"
  },
  "language_info": {
   "codemirror_mode": {
    "name": "ipython",
    "version": 3
   },
   "file_extension": ".py",
   "mimetype": "text/x-python",
   "name": "python",
   "nbconvert_exporter": "python",
   "pygments_lexer": "ipython3",
   "version": "3.9.7"
  },
  "papermill": {
   "default_parameters": {},
   "duration": 387.555185,
   "end_time": "2022-01-24T15:42:43.257634",
   "environment_variables": {},
   "exception": null,
   "input_path": "__notebook__.ipynb",
   "output_path": "__notebook__.ipynb",
   "parameters": {},
   "start_time": "2022-01-24T15:36:15.702449",
   "version": "2.3.3"
  }
 },
 "nbformat": 4,
 "nbformat_minor": 5
}
