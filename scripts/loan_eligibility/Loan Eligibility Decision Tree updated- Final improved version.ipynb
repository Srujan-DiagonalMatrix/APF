{
 "cells": [
  {
   "cell_type": "code",
   "execution_count": 316,
   "id": "94c6a4e3",
   "metadata": {},
   "outputs": [],
   "source": [
    "import numpy as np\n",
    "import pandas as pd\n",
    "import seaborn as sns\n",
    "import matplotlib.pyplot as plt\n",
    "%matplotlib inline"
   ]
  },
  {
   "cell_type": "markdown",
   "id": "124737ea",
   "metadata": {},
   "source": [
    "# Import and load Dataset"
   ]
  },
  {
   "cell_type": "code",
   "execution_count": 317,
   "id": "90cb8215",
   "metadata": {},
   "outputs": [],
   "source": [
    "df_train = pd.read_csv(r'C:\\Users\\apopalzi\\Documents\\git\\apf\\datasets\\Loan_Data\\loan-train.csv')"
   ]
  },
  {
   "cell_type": "code",
   "execution_count": 380,
   "id": "4c96f839",
   "metadata": {},
   "outputs": [
    {
     "data": {
      "text/html": [
       "<div>\n",
       "<style scoped>\n",
       "    .dataframe tbody tr th:only-of-type {\n",
       "        vertical-align: middle;\n",
       "    }\n",
       "\n",
       "    .dataframe tbody tr th {\n",
       "        vertical-align: top;\n",
       "    }\n",
       "\n",
       "    .dataframe thead th {\n",
       "        text-align: right;\n",
       "    }\n",
       "</style>\n",
       "<table border=\"1\" class=\"dataframe\">\n",
       "  <thead>\n",
       "    <tr style=\"text-align: right;\">\n",
       "      <th></th>\n",
       "      <th>0</th>\n",
       "      <th>1</th>\n",
       "      <th>2</th>\n",
       "      <th>3</th>\n",
       "      <th>4</th>\n",
       "    </tr>\n",
       "  </thead>\n",
       "  <tbody>\n",
       "    <tr>\n",
       "      <th>Loan_ID</th>\n",
       "      <td>LP001002</td>\n",
       "      <td>LP001003</td>\n",
       "      <td>LP001005</td>\n",
       "      <td>LP001006</td>\n",
       "      <td>LP001008</td>\n",
       "    </tr>\n",
       "    <tr>\n",
       "      <th>Gender</th>\n",
       "      <td>Male</td>\n",
       "      <td>Male</td>\n",
       "      <td>Male</td>\n",
       "      <td>Male</td>\n",
       "      <td>Male</td>\n",
       "    </tr>\n",
       "    <tr>\n",
       "      <th>Married</th>\n",
       "      <td>No</td>\n",
       "      <td>Yes</td>\n",
       "      <td>Yes</td>\n",
       "      <td>Yes</td>\n",
       "      <td>No</td>\n",
       "    </tr>\n",
       "    <tr>\n",
       "      <th>Dependents</th>\n",
       "      <td>0</td>\n",
       "      <td>1</td>\n",
       "      <td>0</td>\n",
       "      <td>0</td>\n",
       "      <td>0</td>\n",
       "    </tr>\n",
       "    <tr>\n",
       "      <th>Education</th>\n",
       "      <td>Graduate</td>\n",
       "      <td>Graduate</td>\n",
       "      <td>Graduate</td>\n",
       "      <td>Not Graduate</td>\n",
       "      <td>Graduate</td>\n",
       "    </tr>\n",
       "    <tr>\n",
       "      <th>Self_Employed</th>\n",
       "      <td>No</td>\n",
       "      <td>No</td>\n",
       "      <td>Yes</td>\n",
       "      <td>No</td>\n",
       "      <td>No</td>\n",
       "    </tr>\n",
       "    <tr>\n",
       "      <th>ApplicantIncome</th>\n",
       "      <td>5849</td>\n",
       "      <td>4583</td>\n",
       "      <td>3000</td>\n",
       "      <td>2583</td>\n",
       "      <td>6000</td>\n",
       "    </tr>\n",
       "    <tr>\n",
       "      <th>CoapplicantIncome</th>\n",
       "      <td>0.0</td>\n",
       "      <td>1508.0</td>\n",
       "      <td>0.0</td>\n",
       "      <td>2358.0</td>\n",
       "      <td>0.0</td>\n",
       "    </tr>\n",
       "    <tr>\n",
       "      <th>LoanAmount</th>\n",
       "      <td>128.0</td>\n",
       "      <td>128.0</td>\n",
       "      <td>66.0</td>\n",
       "      <td>120.0</td>\n",
       "      <td>141.0</td>\n",
       "    </tr>\n",
       "    <tr>\n",
       "      <th>Loan_Amount_Term</th>\n",
       "      <td>360.0</td>\n",
       "      <td>360.0</td>\n",
       "      <td>360.0</td>\n",
       "      <td>360.0</td>\n",
       "      <td>360.0</td>\n",
       "    </tr>\n",
       "    <tr>\n",
       "      <th>Credit_History</th>\n",
       "      <td>1.0</td>\n",
       "      <td>1.0</td>\n",
       "      <td>1.0</td>\n",
       "      <td>1.0</td>\n",
       "      <td>1.0</td>\n",
       "    </tr>\n",
       "    <tr>\n",
       "      <th>Property_Area</th>\n",
       "      <td>Urban</td>\n",
       "      <td>Rural</td>\n",
       "      <td>Urban</td>\n",
       "      <td>Urban</td>\n",
       "      <td>Urban</td>\n",
       "    </tr>\n",
       "    <tr>\n",
       "      <th>Loan_Status</th>\n",
       "      <td>Y</td>\n",
       "      <td>N</td>\n",
       "      <td>Y</td>\n",
       "      <td>Y</td>\n",
       "      <td>Y</td>\n",
       "    </tr>\n",
       "  </tbody>\n",
       "</table>\n",
       "</div>"
      ],
      "text/plain": [
       "                          0         1         2             3         4\n",
       "Loan_ID            LP001002  LP001003  LP001005      LP001006  LP001008\n",
       "Gender                 Male      Male      Male          Male      Male\n",
       "Married                  No       Yes       Yes           Yes        No\n",
       "Dependents                0         1         0             0         0\n",
       "Education          Graduate  Graduate  Graduate  Not Graduate  Graduate\n",
       "Self_Employed            No        No       Yes            No        No\n",
       "ApplicantIncome        5849      4583      3000          2583      6000\n",
       "CoapplicantIncome       0.0    1508.0       0.0        2358.0       0.0\n",
       "LoanAmount            128.0     128.0      66.0         120.0     141.0\n",
       "Loan_Amount_Term      360.0     360.0     360.0         360.0     360.0\n",
       "Credit_History          1.0       1.0       1.0           1.0       1.0\n",
       "Property_Area         Urban     Rural     Urban         Urban     Urban\n",
       "Loan_Status               Y         N         Y             Y         Y"
      ]
     },
     "execution_count": 380,
     "metadata": {},
     "output_type": "execute_result"
    }
   ],
   "source": [
    "df_train.head().T"
   ]
  },
  {
   "cell_type": "code",
   "execution_count": 319,
   "id": "7e072457",
   "metadata": {},
   "outputs": [],
   "source": [
    "df_test = pd.read_csv(r'C:\\Users\\apopalzi\\Documents\\git\\apf\\datasets\\Loan_Data\\loan-test.csv')"
   ]
  },
  {
   "cell_type": "code",
   "execution_count": 320,
   "id": "7edd2087",
   "metadata": {},
   "outputs": [
    {
     "data": {
      "text/html": [
       "<div>\n",
       "<style scoped>\n",
       "    .dataframe tbody tr th:only-of-type {\n",
       "        vertical-align: middle;\n",
       "    }\n",
       "\n",
       "    .dataframe tbody tr th {\n",
       "        vertical-align: top;\n",
       "    }\n",
       "\n",
       "    .dataframe thead th {\n",
       "        text-align: right;\n",
       "    }\n",
       "</style>\n",
       "<table border=\"1\" class=\"dataframe\">\n",
       "  <thead>\n",
       "    <tr style=\"text-align: right;\">\n",
       "      <th></th>\n",
       "      <th>Loan_ID</th>\n",
       "      <th>Gender</th>\n",
       "      <th>Married</th>\n",
       "      <th>Dependents</th>\n",
       "      <th>Education</th>\n",
       "      <th>Self_Employed</th>\n",
       "      <th>ApplicantIncome</th>\n",
       "      <th>CoapplicantIncome</th>\n",
       "      <th>LoanAmount</th>\n",
       "      <th>Loan_Amount_Term</th>\n",
       "      <th>Credit_History</th>\n",
       "      <th>Property_Area</th>\n",
       "    </tr>\n",
       "  </thead>\n",
       "  <tbody>\n",
       "    <tr>\n",
       "      <th>0</th>\n",
       "      <td>LP001015</td>\n",
       "      <td>Male</td>\n",
       "      <td>Yes</td>\n",
       "      <td>0</td>\n",
       "      <td>Graduate</td>\n",
       "      <td>No</td>\n",
       "      <td>5720</td>\n",
       "      <td>0</td>\n",
       "      <td>110.0</td>\n",
       "      <td>360.0</td>\n",
       "      <td>1.0</td>\n",
       "      <td>Urban</td>\n",
       "    </tr>\n",
       "    <tr>\n",
       "      <th>1</th>\n",
       "      <td>LP001022</td>\n",
       "      <td>Male</td>\n",
       "      <td>Yes</td>\n",
       "      <td>1</td>\n",
       "      <td>Graduate</td>\n",
       "      <td>No</td>\n",
       "      <td>3076</td>\n",
       "      <td>1500</td>\n",
       "      <td>126.0</td>\n",
       "      <td>360.0</td>\n",
       "      <td>1.0</td>\n",
       "      <td>Urban</td>\n",
       "    </tr>\n",
       "    <tr>\n",
       "      <th>2</th>\n",
       "      <td>LP001031</td>\n",
       "      <td>Male</td>\n",
       "      <td>Yes</td>\n",
       "      <td>2</td>\n",
       "      <td>Graduate</td>\n",
       "      <td>No</td>\n",
       "      <td>5000</td>\n",
       "      <td>1800</td>\n",
       "      <td>208.0</td>\n",
       "      <td>360.0</td>\n",
       "      <td>1.0</td>\n",
       "      <td>Urban</td>\n",
       "    </tr>\n",
       "    <tr>\n",
       "      <th>3</th>\n",
       "      <td>LP001035</td>\n",
       "      <td>Male</td>\n",
       "      <td>Yes</td>\n",
       "      <td>2</td>\n",
       "      <td>Graduate</td>\n",
       "      <td>No</td>\n",
       "      <td>2340</td>\n",
       "      <td>2546</td>\n",
       "      <td>100.0</td>\n",
       "      <td>360.0</td>\n",
       "      <td>NaN</td>\n",
       "      <td>Urban</td>\n",
       "    </tr>\n",
       "    <tr>\n",
       "      <th>4</th>\n",
       "      <td>LP001051</td>\n",
       "      <td>Male</td>\n",
       "      <td>No</td>\n",
       "      <td>0</td>\n",
       "      <td>Not Graduate</td>\n",
       "      <td>No</td>\n",
       "      <td>3276</td>\n",
       "      <td>0</td>\n",
       "      <td>78.0</td>\n",
       "      <td>360.0</td>\n",
       "      <td>1.0</td>\n",
       "      <td>Urban</td>\n",
       "    </tr>\n",
       "  </tbody>\n",
       "</table>\n",
       "</div>"
      ],
      "text/plain": [
       "    Loan_ID Gender Married Dependents     Education Self_Employed  \\\n",
       "0  LP001015   Male     Yes          0      Graduate            No   \n",
       "1  LP001022   Male     Yes          1      Graduate            No   \n",
       "2  LP001031   Male     Yes          2      Graduate            No   \n",
       "3  LP001035   Male     Yes          2      Graduate            No   \n",
       "4  LP001051   Male      No          0  Not Graduate            No   \n",
       "\n",
       "   ApplicantIncome  CoapplicantIncome  LoanAmount  Loan_Amount_Term  \\\n",
       "0             5720                  0       110.0             360.0   \n",
       "1             3076               1500       126.0             360.0   \n",
       "2             5000               1800       208.0             360.0   \n",
       "3             2340               2546       100.0             360.0   \n",
       "4             3276                  0        78.0             360.0   \n",
       "\n",
       "   Credit_History Property_Area  \n",
       "0             1.0         Urban  \n",
       "1             1.0         Urban  \n",
       "2             1.0         Urban  \n",
       "3             NaN         Urban  \n",
       "4             1.0         Urban  "
      ]
     },
     "execution_count": 320,
     "metadata": {},
     "output_type": "execute_result"
    }
   ],
   "source": [
    "df_test.head()"
   ]
  },
  {
   "cell_type": "markdown",
   "id": "15f3cbf7",
   "metadata": {},
   "source": [
    "# EDA and Data Preprocessing"
   ]
  },
  {
   "cell_type": "code",
   "execution_count": 321,
   "id": "9ebfc5db",
   "metadata": {},
   "outputs": [
    {
     "name": "stdout",
     "output_type": "stream",
     "text": [
      "<class 'pandas.core.frame.DataFrame'>\n",
      "RangeIndex: 614 entries, 0 to 613\n",
      "Data columns (total 13 columns):\n",
      " #   Column             Non-Null Count  Dtype  \n",
      "---  ------             --------------  -----  \n",
      " 0   Loan_ID            614 non-null    object \n",
      " 1   Gender             601 non-null    object \n",
      " 2   Married            611 non-null    object \n",
      " 3   Dependents         599 non-null    object \n",
      " 4   Education          614 non-null    object \n",
      " 5   Self_Employed      582 non-null    object \n",
      " 6   ApplicantIncome    614 non-null    int64  \n",
      " 7   CoapplicantIncome  614 non-null    float64\n",
      " 8   LoanAmount         592 non-null    float64\n",
      " 9   Loan_Amount_Term   600 non-null    float64\n",
      " 10  Credit_History     564 non-null    float64\n",
      " 11  Property_Area      614 non-null    object \n",
      " 12  Loan_Status        614 non-null    object \n",
      "dtypes: float64(4), int64(1), object(8)\n",
      "memory usage: 62.5+ KB\n"
     ]
    }
   ],
   "source": [
    "df_train.info()"
   ]
  },
  {
   "cell_type": "code",
   "execution_count": 322,
   "id": "ae32f2b6",
   "metadata": {},
   "outputs": [
    {
     "data": {
      "text/html": [
       "<div>\n",
       "<style scoped>\n",
       "    .dataframe tbody tr th:only-of-type {\n",
       "        vertical-align: middle;\n",
       "    }\n",
       "\n",
       "    .dataframe tbody tr th {\n",
       "        vertical-align: top;\n",
       "    }\n",
       "\n",
       "    .dataframe thead th {\n",
       "        text-align: right;\n",
       "    }\n",
       "</style>\n",
       "<table border=\"1\" class=\"dataframe\">\n",
       "  <thead>\n",
       "    <tr style=\"text-align: right;\">\n",
       "      <th></th>\n",
       "      <th>ApplicantIncome</th>\n",
       "      <th>CoapplicantIncome</th>\n",
       "      <th>LoanAmount</th>\n",
       "      <th>Loan_Amount_Term</th>\n",
       "      <th>Credit_History</th>\n",
       "    </tr>\n",
       "  </thead>\n",
       "  <tbody>\n",
       "    <tr>\n",
       "      <th>count</th>\n",
       "      <td>614.000000</td>\n",
       "      <td>614.000000</td>\n",
       "      <td>592.000000</td>\n",
       "      <td>600.00000</td>\n",
       "      <td>564.000000</td>\n",
       "    </tr>\n",
       "    <tr>\n",
       "      <th>mean</th>\n",
       "      <td>5403.459283</td>\n",
       "      <td>1621.245798</td>\n",
       "      <td>146.412162</td>\n",
       "      <td>342.00000</td>\n",
       "      <td>0.842199</td>\n",
       "    </tr>\n",
       "    <tr>\n",
       "      <th>std</th>\n",
       "      <td>6109.041673</td>\n",
       "      <td>2926.248369</td>\n",
       "      <td>85.587325</td>\n",
       "      <td>65.12041</td>\n",
       "      <td>0.364878</td>\n",
       "    </tr>\n",
       "    <tr>\n",
       "      <th>min</th>\n",
       "      <td>150.000000</td>\n",
       "      <td>0.000000</td>\n",
       "      <td>9.000000</td>\n",
       "      <td>12.00000</td>\n",
       "      <td>0.000000</td>\n",
       "    </tr>\n",
       "    <tr>\n",
       "      <th>25%</th>\n",
       "      <td>2877.500000</td>\n",
       "      <td>0.000000</td>\n",
       "      <td>100.000000</td>\n",
       "      <td>360.00000</td>\n",
       "      <td>1.000000</td>\n",
       "    </tr>\n",
       "    <tr>\n",
       "      <th>50%</th>\n",
       "      <td>3812.500000</td>\n",
       "      <td>1188.500000</td>\n",
       "      <td>128.000000</td>\n",
       "      <td>360.00000</td>\n",
       "      <td>1.000000</td>\n",
       "    </tr>\n",
       "    <tr>\n",
       "      <th>75%</th>\n",
       "      <td>5795.000000</td>\n",
       "      <td>2297.250000</td>\n",
       "      <td>168.000000</td>\n",
       "      <td>360.00000</td>\n",
       "      <td>1.000000</td>\n",
       "    </tr>\n",
       "    <tr>\n",
       "      <th>max</th>\n",
       "      <td>81000.000000</td>\n",
       "      <td>41667.000000</td>\n",
       "      <td>700.000000</td>\n",
       "      <td>480.00000</td>\n",
       "      <td>1.000000</td>\n",
       "    </tr>\n",
       "  </tbody>\n",
       "</table>\n",
       "</div>"
      ],
      "text/plain": [
       "       ApplicantIncome  CoapplicantIncome  LoanAmount  Loan_Amount_Term  \\\n",
       "count       614.000000         614.000000  592.000000         600.00000   \n",
       "mean       5403.459283        1621.245798  146.412162         342.00000   \n",
       "std        6109.041673        2926.248369   85.587325          65.12041   \n",
       "min         150.000000           0.000000    9.000000          12.00000   \n",
       "25%        2877.500000           0.000000  100.000000         360.00000   \n",
       "50%        3812.500000        1188.500000  128.000000         360.00000   \n",
       "75%        5795.000000        2297.250000  168.000000         360.00000   \n",
       "max       81000.000000       41667.000000  700.000000         480.00000   \n",
       "\n",
       "       Credit_History  \n",
       "count      564.000000  \n",
       "mean         0.842199  \n",
       "std          0.364878  \n",
       "min          0.000000  \n",
       "25%          1.000000  \n",
       "50%          1.000000  \n",
       "75%          1.000000  \n",
       "max          1.000000  "
      ]
     },
     "execution_count": 322,
     "metadata": {},
     "output_type": "execute_result"
    }
   ],
   "source": [
    "df_train.describe()"
   ]
  },
  {
   "cell_type": "code",
   "execution_count": 323,
   "id": "3f84e4bb",
   "metadata": {},
   "outputs": [
    {
     "data": {
      "text/plain": [
       "Loan_ID               0\n",
       "Gender               13\n",
       "Married               3\n",
       "Dependents           15\n",
       "Education             0\n",
       "Self_Employed        32\n",
       "ApplicantIncome       0\n",
       "CoapplicantIncome     0\n",
       "LoanAmount           22\n",
       "Loan_Amount_Term     14\n",
       "Credit_History       50\n",
       "Property_Area         0\n",
       "Loan_Status           0\n",
       "dtype: int64"
      ]
     },
     "execution_count": 323,
     "metadata": {},
     "output_type": "execute_result"
    }
   ],
   "source": [
    "df_train.isna().sum()"
   ]
  },
  {
   "cell_type": "code",
   "execution_count": 324,
   "id": "fd790d2a",
   "metadata": {},
   "outputs": [
    {
     "name": "stdout",
     "output_type": "stream",
     "text": [
      "Gender is missing 2.1172638436482085 % of total values\n",
      "\n",
      "Married is missing 0.4885993485342019 % of total values\n",
      "\n",
      "Dependents is missing 2.44299674267101 % of total values\n",
      "\n",
      "Self_Employed is missing 5.211726384364821 % of total values\n",
      "\n",
      "LoanAmount is missing 3.5830618892508146 % of total values\n",
      "\n",
      "Loan_Amount_Term is missing 2.2801302931596092 % of total values\n",
      "\n",
      "Credit_History is missing 8.143322475570033 % of total values\n",
      "\n"
     ]
    }
   ],
   "source": [
    "for item in df_train.columns:\n",
    "    if df_train[item].isna().sum()>0:\n",
    "        missing_vals = df_train[item].isna().sum()\n",
    "        print(f'{item} is missing {missing_vals/614*100} % of total values')\n",
    "        print('')"
   ]
  },
  {
   "cell_type": "code",
   "execution_count": 325,
   "id": "c29be849",
   "metadata": {},
   "outputs": [
    {
     "name": "stdout",
     "output_type": "stream",
     "text": [
      "Gender is missing 1.7915309446254073 % of total values\n",
      "\n",
      "Dependents is missing 1.6286644951140066 % of total values\n",
      "\n",
      "Self_Employed is missing 3.7459283387622153 % of total values\n",
      "\n",
      "LoanAmount is missing 0.8143322475570033 % of total values\n",
      "\n",
      "Loan_Amount_Term is missing 0.9771986970684038 % of total values\n",
      "\n",
      "Credit_History is missing 4.723127035830619 % of total values\n",
      "\n"
     ]
    }
   ],
   "source": [
    "for item in df_test.columns:\n",
    "    if df_test[item].isna().sum()>0:\n",
    "        missing_vals = df_test[item].isna().sum()\n",
    "        print(f'{item} is missing {missing_vals/614*100} % of total values')\n",
    "        print('')"
   ]
  },
  {
   "cell_type": "code",
   "execution_count": 326,
   "id": "0f483873",
   "metadata": {},
   "outputs": [
    {
     "data": {
      "text/plain": [
       "<AxesSubplot:xlabel='Property_Area'>"
      ]
     },
     "execution_count": 326,
     "metadata": {},
     "output_type": "execute_result"
    },
    {
     "data": {
      "image/png": "[encoded data removed]",
      "text/plain": [
       "<Figure size 1080x1080 with 8 Axes>"
      ]
     },
     "metadata": {
      "needs_background": "light"
     },
     "output_type": "display_data"
    }
   ],
   "source": [
    "fig, ax = plt.subplots(2,4,figsize = (15,15))\n",
    "Gender = pd.crosstab(df_train['Gender'],df_train['Loan_Status'])\n",
    "Gender.div(Gender.sum(1).astype(float), axis=0).plot(kind=\"bar\", stacked=True, ax=ax[0,0])\n",
    "\n",
    "Married = pd.crosstab(df_train['Married'],df_train['Loan_Status'])\n",
    "Married.div(Married.sum(1).astype(float),axis=0).plot(kind='bar',stacked=True, ax=ax[0,1])\n",
    "\n",
    "Dependents = pd.crosstab(df_train['Dependents'],df_train['Loan_Status'])\n",
    "Dependents.div(Dependents.sum(1).astype(float),axis=0).plot(kind='bar',stacked=True, ax=ax[0,2])\n",
    "\n",
    "Education = pd.crosstab(df_train['Education'],df_train['Loan_Status'])\n",
    "Education.div(Education.sum(1).astype(float),axis=0).plot(kind='bar',stacked=True,ax=ax[0,3])\n",
    "\n",
    "Self_Employed = pd.crosstab(df_train['Self_Employed'],df_train['Loan_Status'])\n",
    "Self_Employed.div(Self_Employed.sum(1).astype(float),axis=0).plot(kind='bar',stacked=True, ax=ax[1,0])\n",
    "\n",
    "Credit_History = pd.crosstab(df_train['Credit_History'],df_train['Loan_Status'])\n",
    "Credit_History.div(Credit_History.sum(1).astype(float),axis=0).plot(kind='bar',stacked=True, ax=ax[1,1])\n",
    "\n",
    "Property_Area = pd.crosstab(df_train['Property_Area'],df_train['Loan_Status'])\n",
    "Property_Area.div(Property_Area.sum(1).astype(float),axis=0).plot(kind='bar',stacked=True,ax=ax[1,2])"
   ]
  },
  {
   "cell_type": "code",
   "execution_count": 327,
   "id": "cc5fb084",
   "metadata": {},
   "outputs": [
    {
     "data": {
      "image/png": "[encoded data removed]",
      "text/plain": [
       "<Figure size 1296x432 with 1 Axes>"
      ]
     },
     "metadata": {
      "needs_background": "light"
     },
     "output_type": "display_data"
    }
   ],
   "source": [
    "plt.figure(figsize=(18, 6))\n",
    "plt.title(\"Relation Between Application Income vs Loan Amount \")\n",
    "\n",
    "plt.grid()\n",
    "plt.scatter(df_train['ApplicantIncome'] , df_train['LoanAmount'], c='k', marker='x')\n",
    "plt.xlabel(\"Applicant Income\")\n",
    "plt.ylabel(\"Loan Amount\")\n",
    "plt.show()"
   ]
  },
  {
   "cell_type": "markdown",
   "id": "31a33ce7",
   "metadata": {},
   "source": [
    "### Fill missing values"
   ]
  },
  {
   "cell_type": "code",
   "execution_count": 328,
   "id": "fe99cebf",
   "metadata": {},
   "outputs": [
    {
     "data": {
      "text/plain": [
       "<seaborn.axisgrid.FacetGrid at 0x1a45b6210a0>"
      ]
     },
     "execution_count": 328,
     "metadata": {},
     "output_type": "execute_result"
    },
    {
     "data": {
      "image/png": "[encoded data removed]",
      "text/plain": [
       "<Figure size 360x360 with 1 Axes>"
      ]
     },
     "metadata": {
      "needs_background": "light"
     },
     "output_type": "display_data"
    }
   ],
   "source": [
    "sns.displot(data = df_train.Loan_Amount_Term,bins = 3)"
   ]
  },
  {
   "cell_type": "code",
   "execution_count": 329,
   "id": "b1473e13",
   "metadata": {},
   "outputs": [],
   "source": [
    "df_train['Credit_History'].fillna(df_train['Credit_History'].mode()[0], inplace=True)\n",
    "df_test['Credit_History'].fillna(df_test['Credit_History'].mode()[0], inplace=True) \n",
    "\n",
    "df_train['LoanAmount'].fillna(df_train['LoanAmount'].median(), inplace=True) \n",
    "df_test['LoanAmount'].fillna(df_test['LoanAmount'].median(), inplace=True) \n",
    "\n",
    "df_train['Gender'].fillna(df_train['Gender'].mode()[0], inplace=True)\n",
    "df_test['Gender'].fillna(df_test['Gender'].mode()[0], inplace=True)\n",
    "\n",
    "df_train['Dependents'].fillna(df_train['Dependents'].mode()[0], inplace=True)\n",
    "df_test['Dependents'].fillna(df_test['Dependents'].mode()[0], inplace=True)\n",
    "\n",
    "df_train['Married'].fillna(df_train['Married'].mode()[0], inplace=True)\n",
    "df_test['Married'].fillna(df_test['Married'].mode()[0], inplace=True)\n",
    "\n",
    "df_train['Self_Employed'].fillna(df_train['Self_Employed'].mode()[0], inplace=True)\n",
    "df_test['Self_Employed'].fillna(df_test['Self_Employed'].mode()[0], inplace=True)\n",
    "\n",
    "df_train['Credit_History'].fillna(df_train['Credit_History'].mode()[0], inplace=True)\n",
    "df_test['Credit_History'].fillna(df_test['Credit_History'].mode()[0], inplace=True)\n",
    "\n",
    "df_train['Loan_Amount_Term'].fillna(df_train['Loan_Amount_Term'].median(), inplace=True)\n",
    "df_test['Loan_Amount_Term'].fillna(df_test['Loan_Amount_Term'].median(), inplace=True)"
   ]
  },
  {
   "cell_type": "code",
   "execution_count": 330,
   "id": "384ba963",
   "metadata": {},
   "outputs": [
    {
     "data": {
      "text/plain": [
       "Loan_ID              0\n",
       "Gender               0\n",
       "Married              0\n",
       "Dependents           0\n",
       "Education            0\n",
       "Self_Employed        0\n",
       "ApplicantIncome      0\n",
       "CoapplicantIncome    0\n",
       "LoanAmount           0\n",
       "Loan_Amount_Term     0\n",
       "Credit_History       0\n",
       "Property_Area        0\n",
       "Loan_Status          0\n",
       "dtype: int64"
      ]
     },
     "execution_count": 330,
     "metadata": {},
     "output_type": "execute_result"
    }
   ],
   "source": [
    "df_train.isna().sum()"
   ]
  },
  {
   "cell_type": "code",
   "execution_count": 331,
   "id": "c081440e",
   "metadata": {},
   "outputs": [
    {
     "data": {
      "text/plain": [
       "Loan_ID              0\n",
       "Gender               0\n",
       "Married              0\n",
       "Dependents           0\n",
       "Education            0\n",
       "Self_Employed        0\n",
       "ApplicantIncome      0\n",
       "CoapplicantIncome    0\n",
       "LoanAmount           0\n",
       "Loan_Amount_Term     0\n",
       "Credit_History       0\n",
       "Property_Area        0\n",
       "dtype: int64"
      ]
     },
     "execution_count": 331,
     "metadata": {},
     "output_type": "execute_result"
    }
   ],
   "source": [
    "df_test.isna().sum()"
   ]
  },
  {
   "cell_type": "markdown",
   "id": "d0fa5e46",
   "metadata": {},
   "source": [
    "### Convert Categorical Variables"
   ]
  },
  {
   "cell_type": "code",
   "execution_count": 332,
   "id": "720d986b",
   "metadata": {},
   "outputs": [],
   "source": [
    "df_train_temp = df_train.copy()\n",
    "for item in df_train_temp.columns:\n",
    "    if pd.api.types.is_string_dtype(df_train_temp[item]):\n",
    "        df_train_temp.drop(item, axis = 1, inplace = True)"
   ]
  },
  {
   "cell_type": "code",
   "execution_count": 333,
   "id": "39231f4f",
   "metadata": {},
   "outputs": [
    {
     "data": {
      "text/html": [
       "<div>\n",
       "<style scoped>\n",
       "    .dataframe tbody tr th:only-of-type {\n",
       "        vertical-align: middle;\n",
       "    }\n",
       "\n",
       "    .dataframe tbody tr th {\n",
       "        vertical-align: top;\n",
       "    }\n",
       "\n",
       "    .dataframe thead th {\n",
       "        text-align: right;\n",
       "    }\n",
       "</style>\n",
       "<table border=\"1\" class=\"dataframe\">\n",
       "  <thead>\n",
       "    <tr style=\"text-align: right;\">\n",
       "      <th></th>\n",
       "      <th>ApplicantIncome</th>\n",
       "      <th>CoapplicantIncome</th>\n",
       "      <th>LoanAmount</th>\n",
       "      <th>Loan_Amount_Term</th>\n",
       "      <th>Credit_History</th>\n",
       "    </tr>\n",
       "  </thead>\n",
       "  <tbody>\n",
       "    <tr>\n",
       "      <th>0</th>\n",
       "      <td>5849</td>\n",
       "      <td>0.0</td>\n",
       "      <td>128.0</td>\n",
       "      <td>360.0</td>\n",
       "      <td>1.0</td>\n",
       "    </tr>\n",
       "    <tr>\n",
       "      <th>1</th>\n",
       "      <td>4583</td>\n",
       "      <td>1508.0</td>\n",
       "      <td>128.0</td>\n",
       "      <td>360.0</td>\n",
       "      <td>1.0</td>\n",
       "    </tr>\n",
       "    <tr>\n",
       "      <th>2</th>\n",
       "      <td>3000</td>\n",
       "      <td>0.0</td>\n",
       "      <td>66.0</td>\n",
       "      <td>360.0</td>\n",
       "      <td>1.0</td>\n",
       "    </tr>\n",
       "    <tr>\n",
       "      <th>3</th>\n",
       "      <td>2583</td>\n",
       "      <td>2358.0</td>\n",
       "      <td>120.0</td>\n",
       "      <td>360.0</td>\n",
       "      <td>1.0</td>\n",
       "    </tr>\n",
       "    <tr>\n",
       "      <th>4</th>\n",
       "      <td>6000</td>\n",
       "      <td>0.0</td>\n",
       "      <td>141.0</td>\n",
       "      <td>360.0</td>\n",
       "      <td>1.0</td>\n",
       "    </tr>\n",
       "  </tbody>\n",
       "</table>\n",
       "</div>"
      ],
      "text/plain": [
       "   ApplicantIncome  CoapplicantIncome  LoanAmount  Loan_Amount_Term  \\\n",
       "0             5849                0.0       128.0             360.0   \n",
       "1             4583             1508.0       128.0             360.0   \n",
       "2             3000                0.0        66.0             360.0   \n",
       "3             2583             2358.0       120.0             360.0   \n",
       "4             6000                0.0       141.0             360.0   \n",
       "\n",
       "   Credit_History  \n",
       "0             1.0  \n",
       "1             1.0  \n",
       "2             1.0  \n",
       "3             1.0  \n",
       "4             1.0  "
      ]
     },
     "execution_count": 333,
     "metadata": {},
     "output_type": "execute_result"
    }
   ],
   "source": [
    "df_train_temp.head()"
   ]
  },
  {
   "cell_type": "code",
   "execution_count": 334,
   "id": "85931f4e",
   "metadata": {},
   "outputs": [],
   "source": [
    "cat = df_train.copy()\n",
    "for item in cat.columns:\n",
    "    if pd.api.types.is_numeric_dtype(cat[item]):\n",
    "        cat.drop(item, axis = 1, inplace = True)"
   ]
  },
  {
   "cell_type": "code",
   "execution_count": 335,
   "id": "d1cdded3",
   "metadata": {},
   "outputs": [
    {
     "data": {
      "text/html": [
       "<div>\n",
       "<style scoped>\n",
       "    .dataframe tbody tr th:only-of-type {\n",
       "        vertical-align: middle;\n",
       "    }\n",
       "\n",
       "    .dataframe tbody tr th {\n",
       "        vertical-align: top;\n",
       "    }\n",
       "\n",
       "    .dataframe thead th {\n",
       "        text-align: right;\n",
       "    }\n",
       "</style>\n",
       "<table border=\"1\" class=\"dataframe\">\n",
       "  <thead>\n",
       "    <tr style=\"text-align: right;\">\n",
       "      <th></th>\n",
       "      <th>Loan_ID</th>\n",
       "      <th>Gender</th>\n",
       "      <th>Married</th>\n",
       "      <th>Dependents</th>\n",
       "      <th>Education</th>\n",
       "      <th>Self_Employed</th>\n",
       "      <th>Property_Area</th>\n",
       "      <th>Loan_Status</th>\n",
       "    </tr>\n",
       "  </thead>\n",
       "  <tbody>\n",
       "    <tr>\n",
       "      <th>0</th>\n",
       "      <td>LP001002</td>\n",
       "      <td>Male</td>\n",
       "      <td>No</td>\n",
       "      <td>0</td>\n",
       "      <td>Graduate</td>\n",
       "      <td>No</td>\n",
       "      <td>Urban</td>\n",
       "      <td>Y</td>\n",
       "    </tr>\n",
       "    <tr>\n",
       "      <th>1</th>\n",
       "      <td>LP001003</td>\n",
       "      <td>Male</td>\n",
       "      <td>Yes</td>\n",
       "      <td>1</td>\n",
       "      <td>Graduate</td>\n",
       "      <td>No</td>\n",
       "      <td>Rural</td>\n",
       "      <td>N</td>\n",
       "    </tr>\n",
       "    <tr>\n",
       "      <th>2</th>\n",
       "      <td>LP001005</td>\n",
       "      <td>Male</td>\n",
       "      <td>Yes</td>\n",
       "      <td>0</td>\n",
       "      <td>Graduate</td>\n",
       "      <td>Yes</td>\n",
       "      <td>Urban</td>\n",
       "      <td>Y</td>\n",
       "    </tr>\n",
       "    <tr>\n",
       "      <th>3</th>\n",
       "      <td>LP001006</td>\n",
       "      <td>Male</td>\n",
       "      <td>Yes</td>\n",
       "      <td>0</td>\n",
       "      <td>Not Graduate</td>\n",
       "      <td>No</td>\n",
       "      <td>Urban</td>\n",
       "      <td>Y</td>\n",
       "    </tr>\n",
       "    <tr>\n",
       "      <th>4</th>\n",
       "      <td>LP001008</td>\n",
       "      <td>Male</td>\n",
       "      <td>No</td>\n",
       "      <td>0</td>\n",
       "      <td>Graduate</td>\n",
       "      <td>No</td>\n",
       "      <td>Urban</td>\n",
       "      <td>Y</td>\n",
       "    </tr>\n",
       "  </tbody>\n",
       "</table>\n",
       "</div>"
      ],
      "text/plain": [
       "    Loan_ID Gender Married Dependents     Education Self_Employed  \\\n",
       "0  LP001002   Male      No          0      Graduate            No   \n",
       "1  LP001003   Male     Yes          1      Graduate            No   \n",
       "2  LP001005   Male     Yes          0      Graduate           Yes   \n",
       "3  LP001006   Male     Yes          0  Not Graduate            No   \n",
       "4  LP001008   Male      No          0      Graduate            No   \n",
       "\n",
       "  Property_Area Loan_Status  \n",
       "0         Urban           Y  \n",
       "1         Rural           N  \n",
       "2         Urban           Y  \n",
       "3         Urban           Y  \n",
       "4         Urban           Y  "
      ]
     },
     "execution_count": 335,
     "metadata": {},
     "output_type": "execute_result"
    }
   ],
   "source": [
    "cat.head()"
   ]
  },
  {
   "cell_type": "code",
   "execution_count": 336,
   "id": "0b6015c7",
   "metadata": {},
   "outputs": [],
   "source": [
    "cat.drop('Loan_ID',axis = 1, inplace = True)\n"
   ]
  },
  {
   "cell_type": "code",
   "execution_count": 337,
   "id": "bad5232f",
   "metadata": {},
   "outputs": [],
   "source": [
    "cat.drop('Dependents',axis = 1, inplace = True)"
   ]
  },
  {
   "cell_type": "code",
   "execution_count": 338,
   "id": "89f3f757",
   "metadata": {},
   "outputs": [],
   "source": [
    "dummies = pd.get_dummies(cat,drop_first = True)"
   ]
  },
  {
   "cell_type": "code",
   "execution_count": 339,
   "id": "b0844c80",
   "metadata": {},
   "outputs": [
    {
     "data": {
      "text/html": [
       "<div>\n",
       "<style scoped>\n",
       "    .dataframe tbody tr th:only-of-type {\n",
       "        vertical-align: middle;\n",
       "    }\n",
       "\n",
       "    .dataframe tbody tr th {\n",
       "        vertical-align: top;\n",
       "    }\n",
       "\n",
       "    .dataframe thead th {\n",
       "        text-align: right;\n",
       "    }\n",
       "</style>\n",
       "<table border=\"1\" class=\"dataframe\">\n",
       "  <thead>\n",
       "    <tr style=\"text-align: right;\">\n",
       "      <th></th>\n",
       "      <th>Gender_Male</th>\n",
       "      <th>Married_Yes</th>\n",
       "      <th>Education_Not Graduate</th>\n",
       "      <th>Self_Employed_Yes</th>\n",
       "      <th>Property_Area_Semiurban</th>\n",
       "      <th>Property_Area_Urban</th>\n",
       "      <th>Loan_Status_Y</th>\n",
       "    </tr>\n",
       "  </thead>\n",
       "  <tbody>\n",
       "    <tr>\n",
       "      <th>0</th>\n",
       "      <td>1</td>\n",
       "      <td>0</td>\n",
       "      <td>0</td>\n",
       "      <td>0</td>\n",
       "      <td>0</td>\n",
       "      <td>1</td>\n",
       "      <td>1</td>\n",
       "    </tr>\n",
       "    <tr>\n",
       "      <th>1</th>\n",
       "      <td>1</td>\n",
       "      <td>1</td>\n",
       "      <td>0</td>\n",
       "      <td>0</td>\n",
       "      <td>0</td>\n",
       "      <td>0</td>\n",
       "      <td>0</td>\n",
       "    </tr>\n",
       "    <tr>\n",
       "      <th>2</th>\n",
       "      <td>1</td>\n",
       "      <td>1</td>\n",
       "      <td>0</td>\n",
       "      <td>1</td>\n",
       "      <td>0</td>\n",
       "      <td>1</td>\n",
       "      <td>1</td>\n",
       "    </tr>\n",
       "    <tr>\n",
       "      <th>3</th>\n",
       "      <td>1</td>\n",
       "      <td>1</td>\n",
       "      <td>1</td>\n",
       "      <td>0</td>\n",
       "      <td>0</td>\n",
       "      <td>1</td>\n",
       "      <td>1</td>\n",
       "    </tr>\n",
       "    <tr>\n",
       "      <th>4</th>\n",
       "      <td>1</td>\n",
       "      <td>0</td>\n",
       "      <td>0</td>\n",
       "      <td>0</td>\n",
       "      <td>0</td>\n",
       "      <td>1</td>\n",
       "      <td>1</td>\n",
       "    </tr>\n",
       "    <tr>\n",
       "      <th>...</th>\n",
       "      <td>...</td>\n",
       "      <td>...</td>\n",
       "      <td>...</td>\n",
       "      <td>...</td>\n",
       "      <td>...</td>\n",
       "      <td>...</td>\n",
       "      <td>...</td>\n",
       "    </tr>\n",
       "    <tr>\n",
       "      <th>609</th>\n",
       "      <td>0</td>\n",
       "      <td>0</td>\n",
       "      <td>0</td>\n",
       "      <td>0</td>\n",
       "      <td>0</td>\n",
       "      <td>0</td>\n",
       "      <td>1</td>\n",
       "    </tr>\n",
       "    <tr>\n",
       "      <th>610</th>\n",
       "      <td>1</td>\n",
       "      <td>1</td>\n",
       "      <td>0</td>\n",
       "      <td>0</td>\n",
       "      <td>0</td>\n",
       "      <td>0</td>\n",
       "      <td>1</td>\n",
       "    </tr>\n",
       "    <tr>\n",
       "      <th>611</th>\n",
       "      <td>1</td>\n",
       "      <td>1</td>\n",
       "      <td>0</td>\n",
       "      <td>0</td>\n",
       "      <td>0</td>\n",
       "      <td>1</td>\n",
       "      <td>1</td>\n",
       "    </tr>\n",
       "    <tr>\n",
       "      <th>612</th>\n",
       "      <td>1</td>\n",
       "      <td>1</td>\n",
       "      <td>0</td>\n",
       "      <td>0</td>\n",
       "      <td>0</td>\n",
       "      <td>1</td>\n",
       "      <td>1</td>\n",
       "    </tr>\n",
       "    <tr>\n",
       "      <th>613</th>\n",
       "      <td>0</td>\n",
       "      <td>0</td>\n",
       "      <td>0</td>\n",
       "      <td>1</td>\n",
       "      <td>1</td>\n",
       "      <td>0</td>\n",
       "      <td>0</td>\n",
       "    </tr>\n",
       "  </tbody>\n",
       "</table>\n",
       "<p>614 rows × 7 columns</p>\n",
       "</div>"
      ],
      "text/plain": [
       "     Gender_Male  Married_Yes  Education_Not Graduate  Self_Employed_Yes  \\\n",
       "0              1            0                       0                  0   \n",
       "1              1            1                       0                  0   \n",
       "2              1            1                       0                  1   \n",
       "3              1            1                       1                  0   \n",
       "4              1            0                       0                  0   \n",
       "..           ...          ...                     ...                ...   \n",
       "609            0            0                       0                  0   \n",
       "610            1            1                       0                  0   \n",
       "611            1            1                       0                  0   \n",
       "612            1            1                       0                  0   \n",
       "613            0            0                       0                  1   \n",
       "\n",
       "     Property_Area_Semiurban  Property_Area_Urban  Loan_Status_Y  \n",
       "0                          0                    1              1  \n",
       "1                          0                    0              0  \n",
       "2                          0                    1              1  \n",
       "3                          0                    1              1  \n",
       "4                          0                    1              1  \n",
       "..                       ...                  ...            ...  \n",
       "609                        0                    0              1  \n",
       "610                        0                    0              1  \n",
       "611                        0                    1              1  \n",
       "612                        0                    1              1  \n",
       "613                        1                    0              0  \n",
       "\n",
       "[614 rows x 7 columns]"
      ]
     },
     "execution_count": 339,
     "metadata": {},
     "output_type": "execute_result"
    }
   ],
   "source": [
    "dummies"
   ]
  },
  {
   "cell_type": "code",
   "execution_count": 340,
   "id": "e14a8172",
   "metadata": {},
   "outputs": [],
   "source": [
    "df_train_temp = df_train_temp.join(dummies)"
   ]
  },
  {
   "cell_type": "code",
   "execution_count": null,
   "id": "0cd79d5e",
   "metadata": {},
   "outputs": [],
   "source": []
  },
  {
   "cell_type": "code",
   "execution_count": 341,
   "id": "8cf10aa7",
   "metadata": {},
   "outputs": [
    {
     "data": {
      "text/html": [
       "<div>\n",
       "<style scoped>\n",
       "    .dataframe tbody tr th:only-of-type {\n",
       "        vertical-align: middle;\n",
       "    }\n",
       "\n",
       "    .dataframe tbody tr th {\n",
       "        vertical-align: top;\n",
       "    }\n",
       "\n",
       "    .dataframe thead th {\n",
       "        text-align: right;\n",
       "    }\n",
       "</style>\n",
       "<table border=\"1\" class=\"dataframe\">\n",
       "  <thead>\n",
       "    <tr style=\"text-align: right;\">\n",
       "      <th></th>\n",
       "      <th>ApplicantIncome</th>\n",
       "      <th>CoapplicantIncome</th>\n",
       "      <th>LoanAmount</th>\n",
       "      <th>Loan_Amount_Term</th>\n",
       "      <th>Credit_History</th>\n",
       "      <th>Gender_Male</th>\n",
       "      <th>Married_Yes</th>\n",
       "      <th>Education_Not Graduate</th>\n",
       "      <th>Self_Employed_Yes</th>\n",
       "      <th>Property_Area_Semiurban</th>\n",
       "      <th>Property_Area_Urban</th>\n",
       "      <th>Loan_Status_Y</th>\n",
       "    </tr>\n",
       "  </thead>\n",
       "  <tbody>\n",
       "    <tr>\n",
       "      <th>0</th>\n",
       "      <td>5849</td>\n",
       "      <td>0.0</td>\n",
       "      <td>128.0</td>\n",
       "      <td>360.0</td>\n",
       "      <td>1.0</td>\n",
       "      <td>1</td>\n",
       "      <td>0</td>\n",
       "      <td>0</td>\n",
       "      <td>0</td>\n",
       "      <td>0</td>\n",
       "      <td>1</td>\n",
       "      <td>1</td>\n",
       "    </tr>\n",
       "    <tr>\n",
       "      <th>1</th>\n",
       "      <td>4583</td>\n",
       "      <td>1508.0</td>\n",
       "      <td>128.0</td>\n",
       "      <td>360.0</td>\n",
       "      <td>1.0</td>\n",
       "      <td>1</td>\n",
       "      <td>1</td>\n",
       "      <td>0</td>\n",
       "      <td>0</td>\n",
       "      <td>0</td>\n",
       "      <td>0</td>\n",
       "      <td>0</td>\n",
       "    </tr>\n",
       "    <tr>\n",
       "      <th>2</th>\n",
       "      <td>3000</td>\n",
       "      <td>0.0</td>\n",
       "      <td>66.0</td>\n",
       "      <td>360.0</td>\n",
       "      <td>1.0</td>\n",
       "      <td>1</td>\n",
       "      <td>1</td>\n",
       "      <td>0</td>\n",
       "      <td>1</td>\n",
       "      <td>0</td>\n",
       "      <td>1</td>\n",
       "      <td>1</td>\n",
       "    </tr>\n",
       "    <tr>\n",
       "      <th>3</th>\n",
       "      <td>2583</td>\n",
       "      <td>2358.0</td>\n",
       "      <td>120.0</td>\n",
       "      <td>360.0</td>\n",
       "      <td>1.0</td>\n",
       "      <td>1</td>\n",
       "      <td>1</td>\n",
       "      <td>1</td>\n",
       "      <td>0</td>\n",
       "      <td>0</td>\n",
       "      <td>1</td>\n",
       "      <td>1</td>\n",
       "    </tr>\n",
       "    <tr>\n",
       "      <th>4</th>\n",
       "      <td>6000</td>\n",
       "      <td>0.0</td>\n",
       "      <td>141.0</td>\n",
       "      <td>360.0</td>\n",
       "      <td>1.0</td>\n",
       "      <td>1</td>\n",
       "      <td>0</td>\n",
       "      <td>0</td>\n",
       "      <td>0</td>\n",
       "      <td>0</td>\n",
       "      <td>1</td>\n",
       "      <td>1</td>\n",
       "    </tr>\n",
       "    <tr>\n",
       "      <th>...</th>\n",
       "      <td>...</td>\n",
       "      <td>...</td>\n",
       "      <td>...</td>\n",
       "      <td>...</td>\n",
       "      <td>...</td>\n",
       "      <td>...</td>\n",
       "      <td>...</td>\n",
       "      <td>...</td>\n",
       "      <td>...</td>\n",
       "      <td>...</td>\n",
       "      <td>...</td>\n",
       "      <td>...</td>\n",
       "    </tr>\n",
       "    <tr>\n",
       "      <th>609</th>\n",
       "      <td>2900</td>\n",
       "      <td>0.0</td>\n",
       "      <td>71.0</td>\n",
       "      <td>360.0</td>\n",
       "      <td>1.0</td>\n",
       "      <td>0</td>\n",
       "      <td>0</td>\n",
       "      <td>0</td>\n",
       "      <td>0</td>\n",
       "      <td>0</td>\n",
       "      <td>0</td>\n",
       "      <td>1</td>\n",
       "    </tr>\n",
       "    <tr>\n",
       "      <th>610</th>\n",
       "      <td>4106</td>\n",
       "      <td>0.0</td>\n",
       "      <td>40.0</td>\n",
       "      <td>180.0</td>\n",
       "      <td>1.0</td>\n",
       "      <td>1</td>\n",
       "      <td>1</td>\n",
       "      <td>0</td>\n",
       "      <td>0</td>\n",
       "      <td>0</td>\n",
       "      <td>0</td>\n",
       "      <td>1</td>\n",
       "    </tr>\n",
       "    <tr>\n",
       "      <th>611</th>\n",
       "      <td>8072</td>\n",
       "      <td>240.0</td>\n",
       "      <td>253.0</td>\n",
       "      <td>360.0</td>\n",
       "      <td>1.0</td>\n",
       "      <td>1</td>\n",
       "      <td>1</td>\n",
       "      <td>0</td>\n",
       "      <td>0</td>\n",
       "      <td>0</td>\n",
       "      <td>1</td>\n",
       "      <td>1</td>\n",
       "    </tr>\n",
       "    <tr>\n",
       "      <th>612</th>\n",
       "      <td>7583</td>\n",
       "      <td>0.0</td>\n",
       "      <td>187.0</td>\n",
       "      <td>360.0</td>\n",
       "      <td>1.0</td>\n",
       "      <td>1</td>\n",
       "      <td>1</td>\n",
       "      <td>0</td>\n",
       "      <td>0</td>\n",
       "      <td>0</td>\n",
       "      <td>1</td>\n",
       "      <td>1</td>\n",
       "    </tr>\n",
       "    <tr>\n",
       "      <th>613</th>\n",
       "      <td>4583</td>\n",
       "      <td>0.0</td>\n",
       "      <td>133.0</td>\n",
       "      <td>360.0</td>\n",
       "      <td>0.0</td>\n",
       "      <td>0</td>\n",
       "      <td>0</td>\n",
       "      <td>0</td>\n",
       "      <td>1</td>\n",
       "      <td>1</td>\n",
       "      <td>0</td>\n",
       "      <td>0</td>\n",
       "    </tr>\n",
       "  </tbody>\n",
       "</table>\n",
       "<p>614 rows × 12 columns</p>\n",
       "</div>"
      ],
      "text/plain": [
       "     ApplicantIncome  CoapplicantIncome  LoanAmount  Loan_Amount_Term  \\\n",
       "0               5849                0.0       128.0             360.0   \n",
       "1               4583             1508.0       128.0             360.0   \n",
       "2               3000                0.0        66.0             360.0   \n",
       "3               2583             2358.0       120.0             360.0   \n",
       "4               6000                0.0       141.0             360.0   \n",
       "..               ...                ...         ...               ...   \n",
       "609             2900                0.0        71.0             360.0   \n",
       "610             4106                0.0        40.0             180.0   \n",
       "611             8072              240.0       253.0             360.0   \n",
       "612             7583                0.0       187.0             360.0   \n",
       "613             4583                0.0       133.0             360.0   \n",
       "\n",
       "     Credit_History  Gender_Male  Married_Yes  Education_Not Graduate  \\\n",
       "0               1.0            1            0                       0   \n",
       "1               1.0            1            1                       0   \n",
       "2               1.0            1            1                       0   \n",
       "3               1.0            1            1                       1   \n",
       "4               1.0            1            0                       0   \n",
       "..              ...          ...          ...                     ...   \n",
       "609             1.0            0            0                       0   \n",
       "610             1.0            1            1                       0   \n",
       "611             1.0            1            1                       0   \n",
       "612             1.0            1            1                       0   \n",
       "613             0.0            0            0                       0   \n",
       "\n",
       "     Self_Employed_Yes  Property_Area_Semiurban  Property_Area_Urban  \\\n",
       "0                    0                        0                    1   \n",
       "1                    0                        0                    0   \n",
       "2                    1                        0                    1   \n",
       "3                    0                        0                    1   \n",
       "4                    0                        0                    1   \n",
       "..                 ...                      ...                  ...   \n",
       "609                  0                        0                    0   \n",
       "610                  0                        0                    0   \n",
       "611                  0                        0                    1   \n",
       "612                  0                        0                    1   \n",
       "613                  1                        1                    0   \n",
       "\n",
       "     Loan_Status_Y  \n",
       "0                1  \n",
       "1                0  \n",
       "2                1  \n",
       "3                1  \n",
       "4                1  \n",
       "..             ...  \n",
       "609              1  \n",
       "610              1  \n",
       "611              1  \n",
       "612              1  \n",
       "613              0  \n",
       "\n",
       "[614 rows x 12 columns]"
      ]
     },
     "execution_count": 341,
     "metadata": {},
     "output_type": "execute_result"
    }
   ],
   "source": [
    "df_train_temp"
   ]
  },
  {
   "cell_type": "markdown",
   "id": "a7132a36",
   "metadata": {},
   "source": [
    "The Dependents columns needs to be processed separately since it is nominal and OHE would not be the best approach."
   ]
  },
  {
   "cell_type": "code",
   "execution_count": 342,
   "id": "9b24ff36",
   "metadata": {},
   "outputs": [],
   "source": [
    "nominal_data = df_train.copy()"
   ]
  },
  {
   "cell_type": "code",
   "execution_count": 343,
   "id": "e709ddb4",
   "metadata": {},
   "outputs": [
    {
     "data": {
      "text/plain": [
       "0     360\n",
       "1     102\n",
       "2     101\n",
       "3+     51\n",
       "Name: Dependents, dtype: int64"
      ]
     },
     "execution_count": 343,
     "metadata": {},
     "output_type": "execute_result"
    }
   ],
   "source": [
    "nominal_data.Dependents.value_counts()"
   ]
  },
  {
   "cell_type": "code",
   "execution_count": 344,
   "id": "6916024c",
   "metadata": {},
   "outputs": [],
   "source": [
    "order = ['0','1','2','3+']"
   ]
  },
  {
   "cell_type": "code",
   "execution_count": 345,
   "id": "287abc46",
   "metadata": {},
   "outputs": [],
   "source": [
    "from sklearn.preprocessing import OrdinalEncoder"
   ]
  },
  {
   "cell_type": "code",
   "execution_count": 346,
   "id": "ac8ea7cf",
   "metadata": {},
   "outputs": [],
   "source": [
    "ordi = OrdinalEncoder(categories = [order])"
   ]
  },
  {
   "cell_type": "code",
   "execution_count": 347,
   "id": "03cb4de2",
   "metadata": {},
   "outputs": [
    {
     "data": {
      "text/html": [
       "<style>#sk-container-id-6 {color: black;background-color: white;}#sk-container-id-6 pre{padding: 0;}#sk-container-id-6 div.sk-toggleable {background-color: white;}#sk-container-id-6 label.sk-toggleable__label {cursor: pointer;display: block;width: 100%;margin-bottom: 0;padding: 0.3em;box-sizing: border-box;text-align: center;}#sk-container-id-6 label.sk-toggleable__label-arrow:before {content: \"▸\";float: left;margin-right: 0.25em;color: #696969;}#sk-container-id-6 label.sk-toggleable__label-arrow:hover:before {color: black;}#sk-container-id-6 div.sk-estimator:hover label.sk-toggleable__label-arrow:before {color: black;}#sk-container-id-6 div.sk-toggleable__content {max-height: 0;max-width: 0;overflow: hidden;text-align: left;background-color: #f0f8ff;}#sk-container-id-6 div.sk-toggleable__content pre {margin: 0.2em;color: black;border-radius: 0.25em;background-color: #f0f8ff;}#sk-container-id-6 input.sk-toggleable__control:checked~div.sk-toggleable__content {max-height: 200px;max-width: 100%;overflow: auto;}#sk-container-id-6 input.sk-toggleable__control:checked~label.sk-toggleable__label-arrow:before {content: \"▾\";}#sk-container-id-6 div.sk-estimator input.sk-toggleable__control:checked~label.sk-toggleable__label {background-color: #d4ebff;}#sk-container-id-6 div.sk-label input.sk-toggleable__control:checked~label.sk-toggleable__label {background-color: #d4ebff;}#sk-container-id-6 input.sk-hidden--visually {border: 0;clip: rect(1px 1px 1px 1px);clip: rect(1px, 1px, 1px, 1px);height: 1px;margin: -1px;overflow: hidden;padding: 0;position: absolute;width: 1px;}#sk-container-id-6 div.sk-estimator {font-family: monospace;background-color: #f0f8ff;border: 1px dotted black;border-radius: 0.25em;box-sizing: border-box;margin-bottom: 0.5em;}#sk-container-id-6 div.sk-estimator:hover {background-color: #d4ebff;}#sk-container-id-6 div.sk-parallel-item::after {content: \"\";width: 100%;border-bottom: 1px solid gray;flex-grow: 1;}#sk-container-id-6 div.sk-label:hover label.sk-toggleable__label {background-color: #d4ebff;}#sk-container-id-6 div.sk-serial::before {content: \"\";position: absolute;border-left: 1px solid gray;box-sizing: border-box;top: 0;bottom: 0;left: 50%;z-index: 0;}#sk-container-id-6 div.sk-serial {display: flex;flex-direction: column;align-items: center;background-color: white;padding-right: 0.2em;padding-left: 0.2em;position: relative;}#sk-container-id-6 div.sk-item {position: relative;z-index: 1;}#sk-container-id-6 div.sk-parallel {display: flex;align-items: stretch;justify-content: center;background-color: white;position: relative;}#sk-container-id-6 div.sk-item::before, #sk-container-id-6 div.sk-parallel-item::before {content: \"\";position: absolute;border-left: 1px solid gray;box-sizing: border-box;top: 0;bottom: 0;left: 50%;z-index: -1;}#sk-container-id-6 div.sk-parallel-item {display: flex;flex-direction: column;z-index: 1;position: relative;background-color: white;}#sk-container-id-6 div.sk-parallel-item:first-child::after {align-self: flex-end;width: 50%;}#sk-container-id-6 div.sk-parallel-item:last-child::after {align-self: flex-start;width: 50%;}#sk-container-id-6 div.sk-parallel-item:only-child::after {width: 0;}#sk-container-id-6 div.sk-dashed-wrapped {border: 1px dashed gray;margin: 0 0.4em 0.5em 0.4em;box-sizing: border-box;padding-bottom: 0.4em;background-color: white;}#sk-container-id-6 div.sk-label label {font-family: monospace;font-weight: bold;display: inline-block;line-height: 1.2em;}#sk-container-id-6 div.sk-label-container {text-align: center;}#sk-container-id-6 div.sk-container {/* jupyter's `normalize.less` sets `[hidden] { display: none; }` but bootstrap.min.css set `[hidden] { display: none !important; }` so we also need the `!important` here to be able to override the default hidden behavior on the sphinx rendered scikit-learn.org. See: https://github.com/scikit-learn/scikit-learn/issues/21755 */display: inline-block !important;position: relative;}#sk-container-id-6 div.sk-text-repr-fallback {display: none;}</style><div id=\"sk-container-id-6\" class=\"sk-top-container\"><div class=\"sk-text-repr-fallback\"><pre>OrdinalEncoder(categories=[[&#x27;0&#x27;, &#x27;1&#x27;, &#x27;2&#x27;, &#x27;3+&#x27;]])</pre><b>In a Jupyter environment, please rerun this cell to show the HTML representation or trust the notebook. <br />On GitHub, the HTML representation is unable to render, please try loading this page with nbviewer.org.</b></div><div class=\"sk-container\" hidden><div class=\"sk-item\"><div class=\"sk-estimator sk-toggleable\"><input class=\"sk-toggleable__control sk-hidden--visually\" id=\"sk-estimator-id-6\" type=\"checkbox\" checked><label for=\"sk-estimator-id-6\" class=\"sk-toggleable__label sk-toggleable__label-arrow\">OrdinalEncoder</label><div class=\"sk-toggleable__content\"><pre>OrdinalEncoder(categories=[[&#x27;0&#x27;, &#x27;1&#x27;, &#x27;2&#x27;, &#x27;3+&#x27;]])</pre></div></div></div></div></div>"
      ],
      "text/plain": [
       "OrdinalEncoder(categories=[['0', '1', '2', '3+']])"
      ]
     },
     "execution_count": 347,
     "metadata": {},
     "output_type": "execute_result"
    }
   ],
   "source": [
    "ordi.fit(nominal_data[['Dependents']])"
   ]
  },
  {
   "cell_type": "code",
   "execution_count": 348,
   "id": "8efb161c",
   "metadata": {},
   "outputs": [],
   "source": [
    "encoded_data = pd.DataFrame(ordi.transform(nominal_data[['Dependents']]))"
   ]
  },
  {
   "cell_type": "markdown",
   "id": "0cec67ec",
   "metadata": {},
   "source": [
    "Join data with main dataframe"
   ]
  },
  {
   "cell_type": "code",
   "execution_count": 349,
   "id": "f3e1a1b5",
   "metadata": {},
   "outputs": [],
   "source": [
    "df_train_temp['Dependents'] = encoded_data"
   ]
  },
  {
   "cell_type": "code",
   "execution_count": 350,
   "id": "830345b6",
   "metadata": {},
   "outputs": [
    {
     "data": {
      "text/html": [
       "<div>\n",
       "<style scoped>\n",
       "    .dataframe tbody tr th:only-of-type {\n",
       "        vertical-align: middle;\n",
       "    }\n",
       "\n",
       "    .dataframe tbody tr th {\n",
       "        vertical-align: top;\n",
       "    }\n",
       "\n",
       "    .dataframe thead th {\n",
       "        text-align: right;\n",
       "    }\n",
       "</style>\n",
       "<table border=\"1\" class=\"dataframe\">\n",
       "  <thead>\n",
       "    <tr style=\"text-align: right;\">\n",
       "      <th></th>\n",
       "      <th>ApplicantIncome</th>\n",
       "      <th>CoapplicantIncome</th>\n",
       "      <th>LoanAmount</th>\n",
       "      <th>Loan_Amount_Term</th>\n",
       "      <th>Credit_History</th>\n",
       "      <th>Gender_Male</th>\n",
       "      <th>Married_Yes</th>\n",
       "      <th>Education_Not Graduate</th>\n",
       "      <th>Self_Employed_Yes</th>\n",
       "      <th>Property_Area_Semiurban</th>\n",
       "      <th>Property_Area_Urban</th>\n",
       "      <th>Loan_Status_Y</th>\n",
       "      <th>Dependents</th>\n",
       "    </tr>\n",
       "  </thead>\n",
       "  <tbody>\n",
       "    <tr>\n",
       "      <th>0</th>\n",
       "      <td>5849</td>\n",
       "      <td>0.0</td>\n",
       "      <td>128.0</td>\n",
       "      <td>360.0</td>\n",
       "      <td>1.0</td>\n",
       "      <td>1</td>\n",
       "      <td>0</td>\n",
       "      <td>0</td>\n",
       "      <td>0</td>\n",
       "      <td>0</td>\n",
       "      <td>1</td>\n",
       "      <td>1</td>\n",
       "      <td>0.0</td>\n",
       "    </tr>\n",
       "    <tr>\n",
       "      <th>1</th>\n",
       "      <td>4583</td>\n",
       "      <td>1508.0</td>\n",
       "      <td>128.0</td>\n",
       "      <td>360.0</td>\n",
       "      <td>1.0</td>\n",
       "      <td>1</td>\n",
       "      <td>1</td>\n",
       "      <td>0</td>\n",
       "      <td>0</td>\n",
       "      <td>0</td>\n",
       "      <td>0</td>\n",
       "      <td>0</td>\n",
       "      <td>1.0</td>\n",
       "    </tr>\n",
       "    <tr>\n",
       "      <th>2</th>\n",
       "      <td>3000</td>\n",
       "      <td>0.0</td>\n",
       "      <td>66.0</td>\n",
       "      <td>360.0</td>\n",
       "      <td>1.0</td>\n",
       "      <td>1</td>\n",
       "      <td>1</td>\n",
       "      <td>0</td>\n",
       "      <td>1</td>\n",
       "      <td>0</td>\n",
       "      <td>1</td>\n",
       "      <td>1</td>\n",
       "      <td>0.0</td>\n",
       "    </tr>\n",
       "    <tr>\n",
       "      <th>3</th>\n",
       "      <td>2583</td>\n",
       "      <td>2358.0</td>\n",
       "      <td>120.0</td>\n",
       "      <td>360.0</td>\n",
       "      <td>1.0</td>\n",
       "      <td>1</td>\n",
       "      <td>1</td>\n",
       "      <td>1</td>\n",
       "      <td>0</td>\n",
       "      <td>0</td>\n",
       "      <td>1</td>\n",
       "      <td>1</td>\n",
       "      <td>0.0</td>\n",
       "    </tr>\n",
       "    <tr>\n",
       "      <th>4</th>\n",
       "      <td>6000</td>\n",
       "      <td>0.0</td>\n",
       "      <td>141.0</td>\n",
       "      <td>360.0</td>\n",
       "      <td>1.0</td>\n",
       "      <td>1</td>\n",
       "      <td>0</td>\n",
       "      <td>0</td>\n",
       "      <td>0</td>\n",
       "      <td>0</td>\n",
       "      <td>1</td>\n",
       "      <td>1</td>\n",
       "      <td>0.0</td>\n",
       "    </tr>\n",
       "    <tr>\n",
       "      <th>...</th>\n",
       "      <td>...</td>\n",
       "      <td>...</td>\n",
       "      <td>...</td>\n",
       "      <td>...</td>\n",
       "      <td>...</td>\n",
       "      <td>...</td>\n",
       "      <td>...</td>\n",
       "      <td>...</td>\n",
       "      <td>...</td>\n",
       "      <td>...</td>\n",
       "      <td>...</td>\n",
       "      <td>...</td>\n",
       "      <td>...</td>\n",
       "    </tr>\n",
       "    <tr>\n",
       "      <th>609</th>\n",
       "      <td>2900</td>\n",
       "      <td>0.0</td>\n",
       "      <td>71.0</td>\n",
       "      <td>360.0</td>\n",
       "      <td>1.0</td>\n",
       "      <td>0</td>\n",
       "      <td>0</td>\n",
       "      <td>0</td>\n",
       "      <td>0</td>\n",
       "      <td>0</td>\n",
       "      <td>0</td>\n",
       "      <td>1</td>\n",
       "      <td>0.0</td>\n",
       "    </tr>\n",
       "    <tr>\n",
       "      <th>610</th>\n",
       "      <td>4106</td>\n",
       "      <td>0.0</td>\n",
       "      <td>40.0</td>\n",
       "      <td>180.0</td>\n",
       "      <td>1.0</td>\n",
       "      <td>1</td>\n",
       "      <td>1</td>\n",
       "      <td>0</td>\n",
       "      <td>0</td>\n",
       "      <td>0</td>\n",
       "      <td>0</td>\n",
       "      <td>1</td>\n",
       "      <td>3.0</td>\n",
       "    </tr>\n",
       "    <tr>\n",
       "      <th>611</th>\n",
       "      <td>8072</td>\n",
       "      <td>240.0</td>\n",
       "      <td>253.0</td>\n",
       "      <td>360.0</td>\n",
       "      <td>1.0</td>\n",
       "      <td>1</td>\n",
       "      <td>1</td>\n",
       "      <td>0</td>\n",
       "      <td>0</td>\n",
       "      <td>0</td>\n",
       "      <td>1</td>\n",
       "      <td>1</td>\n",
       "      <td>1.0</td>\n",
       "    </tr>\n",
       "    <tr>\n",
       "      <th>612</th>\n",
       "      <td>7583</td>\n",
       "      <td>0.0</td>\n",
       "      <td>187.0</td>\n",
       "      <td>360.0</td>\n",
       "      <td>1.0</td>\n",
       "      <td>1</td>\n",
       "      <td>1</td>\n",
       "      <td>0</td>\n",
       "      <td>0</td>\n",
       "      <td>0</td>\n",
       "      <td>1</td>\n",
       "      <td>1</td>\n",
       "      <td>2.0</td>\n",
       "    </tr>\n",
       "    <tr>\n",
       "      <th>613</th>\n",
       "      <td>4583</td>\n",
       "      <td>0.0</td>\n",
       "      <td>133.0</td>\n",
       "      <td>360.0</td>\n",
       "      <td>0.0</td>\n",
       "      <td>0</td>\n",
       "      <td>0</td>\n",
       "      <td>0</td>\n",
       "      <td>1</td>\n",
       "      <td>1</td>\n",
       "      <td>0</td>\n",
       "      <td>0</td>\n",
       "      <td>0.0</td>\n",
       "    </tr>\n",
       "  </tbody>\n",
       "</table>\n",
       "<p>614 rows × 13 columns</p>\n",
       "</div>"
      ],
      "text/plain": [
       "     ApplicantIncome  CoapplicantIncome  LoanAmount  Loan_Amount_Term  \\\n",
       "0               5849                0.0       128.0             360.0   \n",
       "1               4583             1508.0       128.0             360.0   \n",
       "2               3000                0.0        66.0             360.0   \n",
       "3               2583             2358.0       120.0             360.0   \n",
       "4               6000                0.0       141.0             360.0   \n",
       "..               ...                ...         ...               ...   \n",
       "609             2900                0.0        71.0             360.0   \n",
       "610             4106                0.0        40.0             180.0   \n",
       "611             8072              240.0       253.0             360.0   \n",
       "612             7583                0.0       187.0             360.0   \n",
       "613             4583                0.0       133.0             360.0   \n",
       "\n",
       "     Credit_History  Gender_Male  Married_Yes  Education_Not Graduate  \\\n",
       "0               1.0            1            0                       0   \n",
       "1               1.0            1            1                       0   \n",
       "2               1.0            1            1                       0   \n",
       "3               1.0            1            1                       1   \n",
       "4               1.0            1            0                       0   \n",
       "..              ...          ...          ...                     ...   \n",
       "609             1.0            0            0                       0   \n",
       "610             1.0            1            1                       0   \n",
       "611             1.0            1            1                       0   \n",
       "612             1.0            1            1                       0   \n",
       "613             0.0            0            0                       0   \n",
       "\n",
       "     Self_Employed_Yes  Property_Area_Semiurban  Property_Area_Urban  \\\n",
       "0                    0                        0                    1   \n",
       "1                    0                        0                    0   \n",
       "2                    1                        0                    1   \n",
       "3                    0                        0                    1   \n",
       "4                    0                        0                    1   \n",
       "..                 ...                      ...                  ...   \n",
       "609                  0                        0                    0   \n",
       "610                  0                        0                    0   \n",
       "611                  0                        0                    1   \n",
       "612                  0                        0                    1   \n",
       "613                  1                        1                    0   \n",
       "\n",
       "     Loan_Status_Y  Dependents  \n",
       "0                1         0.0  \n",
       "1                0         1.0  \n",
       "2                1         0.0  \n",
       "3                1         0.0  \n",
       "4                1         0.0  \n",
       "..             ...         ...  \n",
       "609              1         0.0  \n",
       "610              1         3.0  \n",
       "611              1         1.0  \n",
       "612              1         2.0  \n",
       "613              0         0.0  \n",
       "\n",
       "[614 rows x 13 columns]"
      ]
     },
     "execution_count": 350,
     "metadata": {},
     "output_type": "execute_result"
    }
   ],
   "source": [
    "df_train_temp"
   ]
  },
  {
   "cell_type": "code",
   "execution_count": 381,
   "id": "52ec3cb6",
   "metadata": {},
   "outputs": [
    {
     "data": {
      "text/plain": [
       "1    422\n",
       "0    192\n",
       "Name: Loan_Status_Y, dtype: int64"
      ]
     },
     "execution_count": 381,
     "metadata": {},
     "output_type": "execute_result"
    }
   ],
   "source": [
    "df_train_temp.Loan_Status_Y.value_counts()"
   ]
  },
  {
   "cell_type": "markdown",
   "id": "70123cc3",
   "metadata": {},
   "source": [
    "### Balance target class"
   ]
  },
  {
   "cell_type": "code",
   "execution_count": 351,
   "id": "296365b6",
   "metadata": {},
   "outputs": [],
   "source": [
    "main_df = df_train_temp.copy()"
   ]
  },
  {
   "cell_type": "code",
   "execution_count": 352,
   "id": "e18136e9",
   "metadata": {},
   "outputs": [],
   "source": [
    "X = main_df.drop('Loan_Status_Y',axis = 1)\n",
    "y = main_df.Loan_Status_Y"
   ]
  },
  {
   "cell_type": "code",
   "execution_count": 353,
   "id": "3d6e8423",
   "metadata": {},
   "outputs": [],
   "source": [
    "from imblearn.over_sampling import SMOTE\n",
    "smote = SMOTE()\n",
    "X,y = smote.fit_resample(X,y)"
   ]
  },
  {
   "cell_type": "code",
   "execution_count": 354,
   "id": "632fa72a",
   "metadata": {},
   "outputs": [
    {
     "data": {
      "text/plain": [
       "1    422\n",
       "0    422\n",
       "Name: Loan_Status_Y, dtype: int64"
      ]
     },
     "execution_count": 354,
     "metadata": {},
     "output_type": "execute_result"
    }
   ],
   "source": [
    "y.value_counts()"
   ]
  },
  {
   "cell_type": "code",
   "execution_count": 355,
   "id": "99af7ce9",
   "metadata": {},
   "outputs": [],
   "source": [
    "oversampled_df = X.copy()"
   ]
  },
  {
   "cell_type": "code",
   "execution_count": 356,
   "id": "a7ade954",
   "metadata": {},
   "outputs": [],
   "source": [
    "oversampled_df['Loan_Status'] = y"
   ]
  },
  {
   "cell_type": "code",
   "execution_count": 357,
   "id": "b8ba0ea0",
   "metadata": {},
   "outputs": [
    {
     "data": {
      "text/plain": [
       "1    422\n",
       "0    422\n",
       "Name: Loan_Status, dtype: int64"
      ]
     },
     "execution_count": 357,
     "metadata": {},
     "output_type": "execute_result"
    }
   ],
   "source": [
    "oversampled_df.Loan_Status.value_counts()"
   ]
  },
  {
   "cell_type": "code",
   "execution_count": 358,
   "id": "5358d30a",
   "metadata": {},
   "outputs": [
    {
     "data": {
      "text/html": [
       "<div>\n",
       "<style scoped>\n",
       "    .dataframe tbody tr th:only-of-type {\n",
       "        vertical-align: middle;\n",
       "    }\n",
       "\n",
       "    .dataframe tbody tr th {\n",
       "        vertical-align: top;\n",
       "    }\n",
       "\n",
       "    .dataframe thead th {\n",
       "        text-align: right;\n",
       "    }\n",
       "</style>\n",
       "<table border=\"1\" class=\"dataframe\">\n",
       "  <thead>\n",
       "    <tr style=\"text-align: right;\">\n",
       "      <th></th>\n",
       "      <th>ApplicantIncome</th>\n",
       "      <th>CoapplicantIncome</th>\n",
       "      <th>LoanAmount</th>\n",
       "      <th>Loan_Amount_Term</th>\n",
       "      <th>Credit_History</th>\n",
       "      <th>Gender_Male</th>\n",
       "      <th>Married_Yes</th>\n",
       "      <th>Education_Not Graduate</th>\n",
       "      <th>Self_Employed_Yes</th>\n",
       "      <th>Property_Area_Semiurban</th>\n",
       "      <th>Property_Area_Urban</th>\n",
       "      <th>Dependents</th>\n",
       "      <th>Loan_Status</th>\n",
       "    </tr>\n",
       "  </thead>\n",
       "  <tbody>\n",
       "    <tr>\n",
       "      <th>0</th>\n",
       "      <td>5849</td>\n",
       "      <td>0.000000</td>\n",
       "      <td>128.000000</td>\n",
       "      <td>360.000000</td>\n",
       "      <td>1.000000</td>\n",
       "      <td>1</td>\n",
       "      <td>0</td>\n",
       "      <td>0</td>\n",
       "      <td>0</td>\n",
       "      <td>0</td>\n",
       "      <td>1</td>\n",
       "      <td>0.000000</td>\n",
       "      <td>1</td>\n",
       "    </tr>\n",
       "    <tr>\n",
       "      <th>1</th>\n",
       "      <td>4583</td>\n",
       "      <td>1508.000000</td>\n",
       "      <td>128.000000</td>\n",
       "      <td>360.000000</td>\n",
       "      <td>1.000000</td>\n",
       "      <td>1</td>\n",
       "      <td>1</td>\n",
       "      <td>0</td>\n",
       "      <td>0</td>\n",
       "      <td>0</td>\n",
       "      <td>0</td>\n",
       "      <td>1.000000</td>\n",
       "      <td>0</td>\n",
       "    </tr>\n",
       "    <tr>\n",
       "      <th>2</th>\n",
       "      <td>3000</td>\n",
       "      <td>0.000000</td>\n",
       "      <td>66.000000</td>\n",
       "      <td>360.000000</td>\n",
       "      <td>1.000000</td>\n",
       "      <td>1</td>\n",
       "      <td>1</td>\n",
       "      <td>0</td>\n",
       "      <td>1</td>\n",
       "      <td>0</td>\n",
       "      <td>1</td>\n",
       "      <td>0.000000</td>\n",
       "      <td>1</td>\n",
       "    </tr>\n",
       "    <tr>\n",
       "      <th>3</th>\n",
       "      <td>2583</td>\n",
       "      <td>2358.000000</td>\n",
       "      <td>120.000000</td>\n",
       "      <td>360.000000</td>\n",
       "      <td>1.000000</td>\n",
       "      <td>1</td>\n",
       "      <td>1</td>\n",
       "      <td>1</td>\n",
       "      <td>0</td>\n",
       "      <td>0</td>\n",
       "      <td>1</td>\n",
       "      <td>0.000000</td>\n",
       "      <td>1</td>\n",
       "    </tr>\n",
       "    <tr>\n",
       "      <th>4</th>\n",
       "      <td>6000</td>\n",
       "      <td>0.000000</td>\n",
       "      <td>141.000000</td>\n",
       "      <td>360.000000</td>\n",
       "      <td>1.000000</td>\n",
       "      <td>1</td>\n",
       "      <td>0</td>\n",
       "      <td>0</td>\n",
       "      <td>0</td>\n",
       "      <td>0</td>\n",
       "      <td>1</td>\n",
       "      <td>0.000000</td>\n",
       "      <td>1</td>\n",
       "    </tr>\n",
       "    <tr>\n",
       "      <th>...</th>\n",
       "      <td>...</td>\n",
       "      <td>...</td>\n",
       "      <td>...</td>\n",
       "      <td>...</td>\n",
       "      <td>...</td>\n",
       "      <td>...</td>\n",
       "      <td>...</td>\n",
       "      <td>...</td>\n",
       "      <td>...</td>\n",
       "      <td>...</td>\n",
       "      <td>...</td>\n",
       "      <td>...</td>\n",
       "      <td>...</td>\n",
       "    </tr>\n",
       "    <tr>\n",
       "      <th>839</th>\n",
       "      <td>4514</td>\n",
       "      <td>2260.252254</td>\n",
       "      <td>119.432581</td>\n",
       "      <td>360.000000</td>\n",
       "      <td>1.000000</td>\n",
       "      <td>1</td>\n",
       "      <td>0</td>\n",
       "      <td>0</td>\n",
       "      <td>0</td>\n",
       "      <td>0</td>\n",
       "      <td>0</td>\n",
       "      <td>0.000000</td>\n",
       "      <td>0</td>\n",
       "    </tr>\n",
       "    <tr>\n",
       "      <th>840</th>\n",
       "      <td>3073</td>\n",
       "      <td>1315.845740</td>\n",
       "      <td>121.776843</td>\n",
       "      <td>360.000000</td>\n",
       "      <td>0.110978</td>\n",
       "      <td>1</td>\n",
       "      <td>1</td>\n",
       "      <td>0</td>\n",
       "      <td>0</td>\n",
       "      <td>0</td>\n",
       "      <td>0</td>\n",
       "      <td>1.110978</td>\n",
       "      <td>0</td>\n",
       "    </tr>\n",
       "    <tr>\n",
       "      <th>841</th>\n",
       "      <td>11091</td>\n",
       "      <td>0.000000</td>\n",
       "      <td>124.310072</td>\n",
       "      <td>360.000000</td>\n",
       "      <td>1.000000</td>\n",
       "      <td>1</td>\n",
       "      <td>0</td>\n",
       "      <td>0</td>\n",
       "      <td>0</td>\n",
       "      <td>0</td>\n",
       "      <td>0</td>\n",
       "      <td>0.365576</td>\n",
       "      <td>0</td>\n",
       "    </tr>\n",
       "    <tr>\n",
       "      <th>842</th>\n",
       "      <td>4031</td>\n",
       "      <td>0.000000</td>\n",
       "      <td>125.249367</td>\n",
       "      <td>221.259489</td>\n",
       "      <td>0.770781</td>\n",
       "      <td>0</td>\n",
       "      <td>0</td>\n",
       "      <td>0</td>\n",
       "      <td>0</td>\n",
       "      <td>0</td>\n",
       "      <td>0</td>\n",
       "      <td>2.312342</td>\n",
       "      <td>0</td>\n",
       "    </tr>\n",
       "    <tr>\n",
       "      <th>843</th>\n",
       "      <td>1879</td>\n",
       "      <td>0.000000</td>\n",
       "      <td>61.193044</td>\n",
       "      <td>360.000000</td>\n",
       "      <td>0.997119</td>\n",
       "      <td>0</td>\n",
       "      <td>0</td>\n",
       "      <td>0</td>\n",
       "      <td>0</td>\n",
       "      <td>0</td>\n",
       "      <td>0</td>\n",
       "      <td>1.005763</td>\n",
       "      <td>0</td>\n",
       "    </tr>\n",
       "  </tbody>\n",
       "</table>\n",
       "<p>844 rows × 13 columns</p>\n",
       "</div>"
      ],
      "text/plain": [
       "     ApplicantIncome  CoapplicantIncome  LoanAmount  Loan_Amount_Term  \\\n",
       "0               5849           0.000000  128.000000        360.000000   \n",
       "1               4583        1508.000000  128.000000        360.000000   \n",
       "2               3000           0.000000   66.000000        360.000000   \n",
       "3               2583        2358.000000  120.000000        360.000000   \n",
       "4               6000           0.000000  141.000000        360.000000   \n",
       "..               ...                ...         ...               ...   \n",
       "839             4514        2260.252254  119.432581        360.000000   \n",
       "840             3073        1315.845740  121.776843        360.000000   \n",
       "841            11091           0.000000  124.310072        360.000000   \n",
       "842             4031           0.000000  125.249367        221.259489   \n",
       "843             1879           0.000000   61.193044        360.000000   \n",
       "\n",
       "     Credit_History  Gender_Male  Married_Yes  Education_Not Graduate  \\\n",
       "0          1.000000            1            0                       0   \n",
       "1          1.000000            1            1                       0   \n",
       "2          1.000000            1            1                       0   \n",
       "3          1.000000            1            1                       1   \n",
       "4          1.000000            1            0                       0   \n",
       "..              ...          ...          ...                     ...   \n",
       "839        1.000000            1            0                       0   \n",
       "840        0.110978            1            1                       0   \n",
       "841        1.000000            1            0                       0   \n",
       "842        0.770781            0            0                       0   \n",
       "843        0.997119            0            0                       0   \n",
       "\n",
       "     Self_Employed_Yes  Property_Area_Semiurban  Property_Area_Urban  \\\n",
       "0                    0                        0                    1   \n",
       "1                    0                        0                    0   \n",
       "2                    1                        0                    1   \n",
       "3                    0                        0                    1   \n",
       "4                    0                        0                    1   \n",
       "..                 ...                      ...                  ...   \n",
       "839                  0                        0                    0   \n",
       "840                  0                        0                    0   \n",
       "841                  0                        0                    0   \n",
       "842                  0                        0                    0   \n",
       "843                  0                        0                    0   \n",
       "\n",
       "     Dependents  Loan_Status  \n",
       "0      0.000000            1  \n",
       "1      1.000000            0  \n",
       "2      0.000000            1  \n",
       "3      0.000000            1  \n",
       "4      0.000000            1  \n",
       "..          ...          ...  \n",
       "839    0.000000            0  \n",
       "840    1.110978            0  \n",
       "841    0.365576            0  \n",
       "842    2.312342            0  \n",
       "843    1.005763            0  \n",
       "\n",
       "[844 rows x 13 columns]"
      ]
     },
     "execution_count": 358,
     "metadata": {},
     "output_type": "execute_result"
    }
   ],
   "source": [
    "oversampled_df"
   ]
  },
  {
   "cell_type": "code",
   "execution_count": 359,
   "id": "22040927",
   "metadata": {},
   "outputs": [
    {
     "data": {
      "text/plain": [
       "<AxesSubplot:>"
      ]
     },
     "execution_count": 359,
     "metadata": {},
     "output_type": "execute_result"
    },
    {
     "data": {
      "image/png": "[encoded data removed]",
      "text/plain": [
       "<Figure size 720x720 with 2 Axes>"
      ]
     },
     "metadata": {
      "needs_background": "light"
     },
     "output_type": "display_data"
    }
   ],
   "source": [
    "fig,ax = plt.subplots(figsize = (10,10))\n",
    "sns.heatmap(oversampled_df.corr(),annot = True)"
   ]
  },
  {
   "cell_type": "markdown",
   "id": "70f94145",
   "metadata": {},
   "source": [
    "# Modelling - Decision Tree"
   ]
  },
  {
   "cell_type": "code",
   "execution_count": 360,
   "id": "e76a3f2e",
   "metadata": {},
   "outputs": [],
   "source": [
    "from sklearn.model_selection import KFold\n",
    "from sklearn.model_selection import cross_val_score\n",
    "from sklearn.tree import DecisionTreeClassifier"
   ]
  },
  {
   "cell_type": "code",
   "execution_count": 361,
   "id": "d2aec158",
   "metadata": {},
   "outputs": [],
   "source": [
    "cv = KFold(n_splits=7, random_state=1, shuffle=True)\n",
    "model = DecisionTreeClassifier()\n",
    "\n",
    "accuracy = cross_val_score(model, X, y, scoring='accuracy',\n",
    "                         cv=cv, n_jobs=-1)\n",
    "\n",
    "recall = cross_val_score(model, X, y, scoring='recall',\n",
    "                         cv=cv, n_jobs=-1)\n",
    "\n",
    "precision =  cross_val_score(model, X, y, scoring='precision',\n",
    "                         cv=cv, n_jobs=-1)"
   ]
  },
  {
   "cell_type": "code",
   "execution_count": 362,
   "id": "d31e08c5",
   "metadata": {},
   "outputs": [
    {
     "name": "stdout",
     "output_type": "stream",
     "text": [
      "----------Baseline Model----------------------\n",
      "\n",
      "the accuracy of the model is :78.07654466745377%\n",
      "the recall score of the model is :79.56538251720934%\n",
      "the precision score of the model is :77.22057051737184%\n"
     ]
    }
   ],
   "source": [
    "print('----------Baseline Model----------------------')\n",
    "print('')\n",
    "print(f'the accuracy of the model is :{accuracy.mean()*100}%')\n",
    "print(f'the recall score of the model is :{recall.mean()*100}%')\n",
    "print(f'the precision score of the model is :{precision.mean()*100}%')"
   ]
  },
  {
   "cell_type": "markdown",
   "id": "a9e70af8",
   "metadata": {},
   "source": [
    "## Hyperparameter tuning - Decision Tree"
   ]
  },
  {
   "cell_type": "markdown",
   "id": "2629fb34",
   "metadata": {},
   "source": [
    "create independent test set to test our model after tuning"
   ]
  },
  {
   "cell_type": "code",
   "execution_count": 363,
   "id": "8a651107",
   "metadata": {},
   "outputs": [],
   "source": [
    "from sklearn.model_selection import train_test_split\n",
    "np.random.seed(42)\n",
    "X_train1,X_test1,y_train1,y_test1 = train_test_split(X,y,test_size = 0.1,stratify = y,random_state = 100)\n"
   ]
  },
  {
   "cell_type": "markdown",
   "id": "24d2b85d",
   "metadata": {},
   "source": [
    "param_dict = {'criterion':['gini','entropy'],\n",
    "             'max_depth':range(1,10),\n",
    "              'min_samples_split':range(3,10),\n",
    "             'min_samples_leaf':range(1,5)}\n",
    "\n",
    "from sklearn.model_selection import GridSearchCV"
   ]
  },
  {
   "cell_type": "markdown",
   "id": "3869ff4e",
   "metadata": {},
   "source": [
    "grid = GridSearchCV(model,\n",
    "                    param_grid = param_dict,\n",
    "                   cv = 7,\n",
    "                   verbose = 2,\n",
    "                   n_jobs = -1,\n",
    "                   scoring = 'f1')"
   ]
  },
  {
   "cell_type": "markdown",
   "id": "6d9f32ca",
   "metadata": {},
   "source": [
    "grid.fit(X_train1,y_train1)"
   ]
  },
  {
   "cell_type": "markdown",
   "id": "b2889028",
   "metadata": {},
   "source": [
    "grid.best_params_"
   ]
  },
  {
   "cell_type": "markdown",
   "id": "ccf0faff",
   "metadata": {},
   "source": [
    "grid.best_score_"
   ]
  },
  {
   "cell_type": "markdown",
   "id": "4e033d7f",
   "metadata": {},
   "source": [
    "### Final Decision Tree Model"
   ]
  },
  {
   "cell_type": "code",
   "execution_count": 364,
   "id": "c99b5203",
   "metadata": {},
   "outputs": [],
   "source": [
    "from sklearn.metrics import recall_score,precision_score,accuracy_score,classification_report\n",
    "\n",
    "\n",
    "model_2 = DecisionTreeClassifier(criterion = 'gini',\n",
    " max_depth=7,\n",
    " min_samples_leaf= 1,\n",
    " min_samples_split= 4)\n",
    "\n",
    "model_2.fit(X_train1,y_train1)\n",
    "y_pred1 = model_2.predict(X_test1)\n",
    "\n",
    "accuracy_1 = accuracy_score(y_test1,y_pred1)\n",
    "recall_1 = recall_score(y_test1,y_pred1)\n",
    "precision_1 = precision_score(y_test1,y_pred1)"
   ]
  },
  {
   "cell_type": "code",
   "execution_count": 365,
   "id": "eb03c380",
   "metadata": {},
   "outputs": [
    {
     "name": "stdout",
     "output_type": "stream",
     "text": [
      "          Decision Tree             \n",
      "accuracy score: 71.76470588235294 %\n",
      "recall score: 69.04761904761905 %\n",
      "precision score: 72.5 %\n",
      "----------------------\n",
      "              precision    recall  f1-score   support\n",
      "\n",
      "           0       0.71      0.74      0.73        43\n",
      "           1       0.72      0.69      0.71        42\n",
      "\n",
      "    accuracy                           0.72        85\n",
      "   macro avg       0.72      0.72      0.72        85\n",
      "weighted avg       0.72      0.72      0.72        85\n",
      "\n"
     ]
    }
   ],
   "source": [
    "print('          Decision Tree             ')\n",
    "print(f'accuracy score: {accuracy_1*100} %')\n",
    "print(f'recall score: {recall_1*100} %')\n",
    "print(f'precision score: {precision_1*100} %')\n",
    "print('----------------------')\n",
    "\n",
    "print(classification_report(y_test1,y_pred1))"
   ]
  },
  {
   "cell_type": "markdown",
   "id": "9ac5ae24",
   "metadata": {},
   "source": [
    "# Modelling - Gradient Boost"
   ]
  },
  {
   "cell_type": "code",
   "execution_count": 366,
   "id": "0afa1d95",
   "metadata": {},
   "outputs": [
    {
     "name": "stdout",
     "output_type": "stream",
     "text": [
      "   GBoosting     \n",
      "-------------------\n",
      "the accuracy of the model is :82.48264647347216%\n",
      "the recall score of the model is :89.41217171621554%\n",
      "the precision score of the model is :78.43862007517%\n"
     ]
    }
   ],
   "source": [
    "from sklearn.ensemble import GradientBoostingClassifier\n",
    "\n",
    "model_3 = GradientBoostingClassifier()\n",
    "\n",
    "\n",
    "cv = KFold(n_splits=7, random_state=3, shuffle=True)\n",
    "\n",
    "accuracy_2 = cross_val_score(model_3, X_train1, y_train1, scoring='accuracy',\n",
    "                         cv=cv, n_jobs=-1)\n",
    "\n",
    "\n",
    "recall_2 = cross_val_score(model_3, X_train1, y_train1, scoring='recall',\n",
    "                         cv=cv, n_jobs=-1)\n",
    "\n",
    "\n",
    "precision_2 =  cross_val_score(model_3, X_train1, y_train1, scoring='precision',\n",
    "                         cv=cv, n_jobs=-1)\n",
    "\n",
    "\n",
    "print('   GBoosting     ')\n",
    "print('-------------------')\n",
    "print(f'the accuracy of the model is :{accuracy_2.mean()*100}%')\n",
    "print(f'the recall score of the model is :{recall_2.mean()*100}%')\n",
    "print(f'the precision score of the model is :{precision_2.mean()*100}%')"
   ]
  },
  {
   "cell_type": "markdown",
   "id": "5a075ec2",
   "metadata": {},
   "source": [
    "## Hyperparameter tuning - Gradient Boosting"
   ]
  },
  {
   "cell_type": "markdown",
   "id": "c985abf8",
   "metadata": {},
   "source": [
    "parameters = {\n",
    "    \"n_estimators\":[5,50,250,500],\n",
    "    \"max_depth\":[1,3,5,7,9],\n",
    "    \"learning_rate\":[0.01,0.1,1,10,100],\n",
    "    'min_weight_fraction_leaf':[0.0,0.1,0.2,0.3,0.4,0.5],\n",
    "    }"
   ]
  },
  {
   "cell_type": "markdown",
   "id": "62fcff90",
   "metadata": {},
   "source": [
    "grid_2 = GridSearchCV(model_3,\n",
    "                    param_grid = parameters,\n",
    "                   cv = 7,\n",
    "                   verbose = 2,\n",
    "                   n_jobs = -1,\n",
    "                   scoring = 'f1')\n",
    "\n",
    "grid_2.fit(X_train1,y_train1)"
   ]
  },
  {
   "cell_type": "markdown",
   "id": "0b90b288",
   "metadata": {},
   "source": [
    "grid_2.best_params_"
   ]
  },
  {
   "cell_type": "markdown",
   "id": "ca020602",
   "metadata": {},
   "source": [
    "grid_2.best_score_"
   ]
  },
  {
   "cell_type": "markdown",
   "id": "31fe5c6c",
   "metadata": {},
   "source": [
    "## Final Gradient Boosting Model"
   ]
  },
  {
   "cell_type": "code",
   "execution_count": 367,
   "id": "6c4d040c",
   "metadata": {},
   "outputs": [
    {
     "name": "stdout",
     "output_type": "stream",
     "text": [
      "          GBOOST        \n",
      "----------------\n",
      "the accuracy of the model is :82.35294117647058%\n",
      "the recall score of the model is :80.95238095238095%\n",
      "the precision score of the model is :82.92682926829268%\n"
     ]
    }
   ],
   "source": [
    "model_4 = GradientBoostingClassifier(learning_rate= 1, max_depth= 9, n_estimators= 500,min_weight_fraction_leaf = 0.0)\n",
    "\n",
    "model_4.fit(X_train1,y_train1)\n",
    "y_pred2 = model_4.predict(X_test1)\n",
    "\n",
    "accuracy_3 = accuracy_score(y_test1,y_pred2)\n",
    "recall_3 = recall_score(y_test1,y_pred2)\n",
    "precision_3 = precision_score(y_test1,y_pred2)\n",
    "print('          GBOOST        ')\n",
    "print('----------------')\n",
    "print(f'the accuracy of the model is :{accuracy_3.mean()*100}%')\n",
    "print(f'the recall score of the model is :{recall_3.mean()*100}%')\n",
    "print(f'the precision score of the model is :{precision_3.mean()*100}%')"
   ]
  },
  {
   "cell_type": "markdown",
   "id": "02c24495",
   "metadata": {},
   "source": [
    "# Modelling - XGBoosting"
   ]
  },
  {
   "cell_type": "code",
   "execution_count": 368,
   "id": "9f938ba4",
   "metadata": {},
   "outputs": [],
   "source": [
    "import xgboost as xgb"
   ]
  },
  {
   "cell_type": "code",
   "execution_count": 369,
   "id": "f58c07b8",
   "metadata": {},
   "outputs": [],
   "source": [
    "model_5 = xgb.XGBClassifier()"
   ]
  },
  {
   "cell_type": "code",
   "execution_count": 370,
   "id": "d447edce",
   "metadata": {},
   "outputs": [
    {
     "name": "stdout",
     "output_type": "stream",
     "text": [
      "   XBG     \n",
      "-------------------\n",
      "the accuracy of the model is :82.21445560895103%\n",
      "the recall score of the model is :85.3183988700082%\n",
      "the precision score of the model is :80.57783709516741%\n"
     ]
    }
   ],
   "source": [
    "cv = KFold(n_splits=7, random_state=5, shuffle=True)\n",
    "\n",
    "accuracy_4 = cross_val_score(model_5, X_train1, y_train1, scoring='accuracy',\n",
    "                         cv=cv, n_jobs=-1)\n",
    "\n",
    "\n",
    "recall_4 = cross_val_score(model_5, X_train1, y_train1, scoring='recall',\n",
    "                         cv=cv, n_jobs=-1)\n",
    "\n",
    "\n",
    "precision_4 =  cross_val_score(model_5, X_train1, y_train1, scoring='precision',\n",
    "                         cv=cv, n_jobs=-1)\n",
    "\n",
    "\n",
    "print('   XBG     ')\n",
    "print('-------------------')\n",
    "print(f'the accuracy of the model is :{accuracy_4.mean()*100}%')\n",
    "print(f'the recall score of the model is :{recall_4.mean()*100}%')\n",
    "print(f'the precision score of the model is :{precision_4.mean()*100}%')"
   ]
  },
  {
   "cell_type": "markdown",
   "id": "7dc5cf79",
   "metadata": {},
   "source": [
    "## Hyperparameter tuning - XGboosting"
   ]
  },
  {
   "cell_type": "markdown",
   "id": "a4f8f181",
   "metadata": {},
   "source": [
    "parameters_2 = {\n",
    "    'booster':['gbtree','gblinear','dart'],\n",
    "    'eta':[0.01,0.015,0.025,0.05,0.1],\n",
    "    'Gamma':[0.1,0.3,0.5,0.7,0.9],\n",
    "    'Max_depth':[3,5,7,9,11,12,15,17,25],\n",
    "    'Min_child_weight':[1,3,5,7]}\n",
    "\n",
    "grid_3 = GridSearchCV(model_5,\n",
    "                    param_grid = parameters_2,\n",
    "                   cv = 7,\n",
    "                   verbose = 2,\n",
    "                   n_jobs = -1,\n",
    "                   scoring = 'f1')\n",
    "\n",
    "grid_3.fit(X_train1,y_train1)"
   ]
  },
  {
   "cell_type": "markdown",
   "id": "4031186c",
   "metadata": {},
   "source": [
    "grid_3.best_params_"
   ]
  },
  {
   "cell_type": "markdown",
   "id": "aafe2728",
   "metadata": {},
   "source": [
    "grid_3.best_score_"
   ]
  },
  {
   "cell_type": "markdown",
   "id": "89b90bca",
   "metadata": {},
   "source": [
    "## Final XGB Model"
   ]
  },
  {
   "cell_type": "code",
   "execution_count": 371,
   "id": "1a58d36b",
   "metadata": {},
   "outputs": [
    {
     "name": "stdout",
     "output_type": "stream",
     "text": [
      "[11:54:56] WARNING: C:/Users/Administrator/workspace/xgboost-win64_release_1.6.0/src/learner.cc:627: \n",
      "Parameters: { \"Gamma\", \"Max_depth\", \"Min_child_weight\" } might not be used.\n",
      "\n",
      "  This could be a false alarm, with some parameters getting used by language bindings but\n",
      "  then being mistakenly passed down to XGBoost core, or some parameter actually being used\n",
      "  but getting flagged wrongly here. Please open an issue if you find any such cases.\n",
      "\n",
      "\n",
      "            XGB           \n",
      "-------------------------\n",
      "the accuracy of the model is :85.88235294117646%\n",
      "the recall score of the model is :88.09523809523809%\n",
      "the precision score of the model is :84.0909090909091%\n"
     ]
    }
   ],
   "source": [
    "model_6 = xgb.XGBClassifier(Gamma= 0.1,\n",
    " Max_depth= 3,\n",
    " Min_child_weight= 1,\n",
    " booster= 'gbtree',\n",
    " eta= 0.05)\n",
    "\n",
    "model_6.fit(X_train1,y_train1)\n",
    "y_pred3 = model_6.predict(X_test1)\n",
    "\n",
    "accuracy_5 = accuracy_score(y_test1,y_pred3)\n",
    "recall_5 = recall_score(y_test1,y_pred3)\n",
    "precision_5 = precision_score(y_test1,y_pred3)\n",
    "\n",
    "print('            XGB           ')\n",
    "print('-------------------------')\n",
    "print(f'the accuracy of the model is :{accuracy_5*100}%')\n",
    "print(f'the recall score of the model is :{recall_5*100}%')\n",
    "print(f'the precision score of the model is :{precision_5*100}%')"
   ]
  },
  {
   "cell_type": "markdown",
   "id": "dd209492",
   "metadata": {},
   "source": [
    "# Modelling - Random Forest"
   ]
  },
  {
   "cell_type": "code",
   "execution_count": 372,
   "id": "dcab10a3",
   "metadata": {},
   "outputs": [
    {
     "name": "stdout",
     "output_type": "stream",
     "text": [
      "                 RF           \n",
      "---------------------\n",
      "the accuracy of the model is :83.14523566817142%\n",
      "the recall score of the model is :88.32664793003013%\n",
      "the precision score of the model is :79.60405232027708%\n"
     ]
    }
   ],
   "source": [
    "from sklearn.ensemble import RandomForestClassifier\n",
    "\n",
    "model_7 = RandomForestClassifier()\n",
    "\n",
    "cv = KFold(n_splits=7, random_state=7, shuffle=True)\n",
    "\n",
    "accuracy_6 = cross_val_score(model_7, X_train1, y_train1, scoring='accuracy',\n",
    "                         cv=cv, n_jobs=-1)\n",
    "\n",
    "recall_6 = cross_val_score(model_7, X_train1, y_train1, scoring='recall',\n",
    "                         cv=cv, n_jobs=-1)\n",
    "\n",
    "\n",
    "precision_6 =  cross_val_score(model_7, X_train1, y_train1, scoring='precision',\n",
    "                         cv=cv, n_jobs=-1)\n",
    "print('                 RF           ')\n",
    "print('---------------------')\n",
    "print(f'the accuracy of the model is :{accuracy_6.mean()*100}%')\n",
    "print(f'the recall score of the model is :{recall_6.mean()*100}%')\n",
    "print(f'the precision score of the model is :{precision_6.mean()*100}%')"
   ]
  },
  {
   "cell_type": "markdown",
   "id": "57695757",
   "metadata": {},
   "source": [
    "## Hyperparameter tuning - Random Forest"
   ]
  },
  {
   "cell_type": "markdown",
   "id": "9c44c001",
   "metadata": {},
   "source": [
    "parameters_3 = n_estimators = [int(x) for x in np.linspace(start = 200, stop = 2000, num = 10)]\n",
    "#Number of features to consider at every split\n",
    "max_features = ['auto', 'sqrt']\n",
    "# Maximum number of levels in tree\n",
    "max_depth = [int(x) for x in np.linspace(10, 110, num = 11)]\n",
    "max_depth.append(None)\n",
    "# Minimum number of samples required to split a node\n",
    "min_samples_split = [2, 5, 10]\n",
    "# Minimum number of samples required at each leaf node\n",
    "min_samples_leaf = [1, 2, 4]\n",
    "# Method of selecting samples for training each tree\n",
    "bootstrap = [True, False]\n",
    "\n",
    "\n",
    "\n",
    "\n",
    "random_grid = {'n_estimators': n_estimators,\n",
    "               'max_features': max_features,\n",
    "               'max_depth': max_depth,\n",
    "               'min_samples_split': min_samples_split,\n",
    "               'min_samples_leaf': min_samples_leaf,\n",
    "               'bootstrap': bootstrap}\n",
    "\n",
    "grid_4 = GridSearchCV(model_7,\n",
    "                    param_grid = random_grid,\n",
    "                   cv = 7,\n",
    "                   verbose = 2,\n",
    "                   n_jobs = -1,\n",
    "                   scoring = 'f1')\n",
    "\n",
    "grid_4.fit(X_train1,y_train1)"
   ]
  },
  {
   "cell_type": "markdown",
   "id": "4a45d349",
   "metadata": {},
   "source": [
    "grid_4.best_params_"
   ]
  },
  {
   "cell_type": "markdown",
   "id": "027e59fd",
   "metadata": {},
   "source": [
    "grid_4.best_score_"
   ]
  },
  {
   "cell_type": "markdown",
   "id": "263b5114",
   "metadata": {},
   "source": [
    "## Random Forest - Final Model "
   ]
  },
  {
   "cell_type": "code",
   "execution_count": 373,
   "id": "a0bd63cb",
   "metadata": {},
   "outputs": [
    {
     "name": "stderr",
     "output_type": "stream",
     "text": [
      "C:\\Users\\apopalzi\\Anaconda3\\lib\\site-packages\\sklearn\\ensemble\\_forest.py:427: FutureWarning: `max_features='auto'` has been deprecated in 1.1 and will be removed in 1.3. To keep the past behaviour, explicitly set `max_features='sqrt'` or remove this parameter as it is also the default value for RandomForestClassifiers and ExtraTreesClassifiers.\n",
      "  warn(\n"
     ]
    },
    {
     "name": "stdout",
     "output_type": "stream",
     "text": [
      "            RF           \n",
      "-------------------------\n",
      "the accuracy of the model is :87.05882352941177%\n",
      "the recall score of the model is :92.85714285714286%\n",
      "the precision score of the model is :82.97872340425532%\n"
     ]
    }
   ],
   "source": [
    "model_8 = RandomForestClassifier(bootstrap= True,\n",
    " max_depth= 20,\n",
    " max_features= 'auto',\n",
    " min_samples_leaf= 2,\n",
    " min_samples_split= 2,\n",
    " n_estimators= 1800)\n",
    "\n",
    "model_8.fit(X_train1,y_train1)\n",
    "y_pred4 = model_8.predict(X_test1)\n",
    "\n",
    "accuracy_7 = accuracy_score(y_test1,y_pred4)\n",
    "recall_7 = recall_score(y_test1,y_pred4)\n",
    "precision_7 = precision_score(y_test1,y_pred4)\n",
    "\n",
    "print('            RF           ')\n",
    "print('-------------------------')\n",
    "print(f'the accuracy of the model is :{accuracy_7*100}%')\n",
    "print(f'the recall score of the model is :{recall_7*100}%')\n",
    "print(f'the precision score of the model is :{precision_7*100}%')"
   ]
  },
  {
   "cell_type": "markdown",
   "id": "6ea674d0",
   "metadata": {},
   "source": [
    "# Voting Classifier"
   ]
  },
  {
   "cell_type": "code",
   "execution_count": 374,
   "id": "c484eb81",
   "metadata": {},
   "outputs": [],
   "source": [
    "## ensemble learing\n",
    "#load packages\n",
    "from sklearn.ensemble import VotingClassifier\n",
    "from sklearn.model_selection import cross_val_score, GridSearchCV\n",
    "\n",
    "\n",
    "estimator = []\n",
    "\n"
   ]
  },
  {
   "cell_type": "code",
   "execution_count": 375,
   "id": "63d291ac",
   "metadata": {},
   "outputs": [],
   "source": [
    "estimator.append(('Gboost',GradientBoostingClassifier(learning_rate= 1, max_depth=9, n_estimators= 500,min_weight_fraction_leaf = 0.0)))\n",
    "estimator.append(('xgb',xgb.XGBClassifier(Gamma= 0.1,\n",
    " Max_depth= 3,\n",
    " Min_child_weight= 1,\n",
    " booster= 'gbtree',\n",
    " eta= 0.05)))"
   ]
  },
  {
   "cell_type": "code",
   "execution_count": 376,
   "id": "353009fb",
   "metadata": {},
   "outputs": [],
   "source": [
    "estimator.append(('RF',RandomForestClassifier(bootstrap= True,\n",
    " max_depth= 20,\n",
    " max_features= 'auto',\n",
    " min_samples_leaf= 2,\n",
    " min_samples_split= 2,\n",
    " n_estimators= 1800)))"
   ]
  },
  {
   "cell_type": "code",
   "execution_count": 377,
   "id": "8913b085",
   "metadata": {},
   "outputs": [
    {
     "name": "stdout",
     "output_type": "stream",
     "text": [
      "[11:55:01] WARNING: C:/Users/Administrator/workspace/xgboost-win64_release_1.6.0/src/learner.cc:627: \n",
      "Parameters: { \"Gamma\", \"Max_depth\", \"Min_child_weight\" } might not be used.\n",
      "\n",
      "  This could be a false alarm, with some parameters getting used by language bindings but\n",
      "  then being mistakenly passed down to XGBoost core, or some parameter actually being used\n",
      "  but getting flagged wrongly here. Please open an issue if you find any such cases.\n",
      "\n",
      "\n"
     ]
    },
    {
     "name": "stderr",
     "output_type": "stream",
     "text": [
      "C:\\Users\\apopalzi\\Anaconda3\\lib\\site-packages\\sklearn\\ensemble\\_forest.py:427: FutureWarning: `max_features='auto'` has been deprecated in 1.1 and will be removed in 1.3. To keep the past behaviour, explicitly set `max_features='sqrt'` or remove this parameter as it is also the default value for RandomForestClassifiers and ExtraTreesClassifiers.\n",
      "  warn(\n"
     ]
    }
   ],
   "source": [
    "vot_hard = VotingClassifier(estimators = estimator, voting ='hard')\n",
    "vot_hard.fit(X_train1, y_train1)\n",
    "y_pred5 = vot_hard.predict(X_test1)\n"
   ]
  },
  {
   "cell_type": "code",
   "execution_count": 378,
   "id": "ec16e8f0",
   "metadata": {},
   "outputs": [
    {
     "name": "stdout",
     "output_type": "stream",
     "text": [
      "            Voting CLF           \n",
      "-------------------------\n",
      "the accuracy of the model is :87.05882352941177%\n",
      "the recall score of the model is :90.47619047619048%\n",
      "the precision score of the model is :84.44444444444444%\n"
     ]
    }
   ],
   "source": [
    "accuracy_8 = accuracy_score(y_test1,y_pred5)\n",
    "recall_8 = recall_score(y_test1,y_pred5)\n",
    "precision_8 = precision_score(y_test1,y_pred5)\n",
    "\n",
    "print('            Voting CLF           ')\n",
    "print('-------------------------')\n",
    "print(f'the accuracy of the model is :{accuracy_8*100}%')\n",
    "print(f'the recall score of the model is :{recall_8*100}%')\n",
    "print(f'the precision score of the model is :{precision_8*100}%')"
   ]
  },
  {
   "cell_type": "markdown",
   "id": "9909c6b2",
   "metadata": {},
   "source": [
    "# Export Outputs"
   ]
  },
  {
   "cell_type": "code",
   "execution_count": 392,
   "id": "624edc88",
   "metadata": {},
   "outputs": [],
   "source": [
    "IV = X_test1.copy()\n",
    "final_predictions = y_pred5.copy()\n",
    "IV['Actual Output'] = y_test1\n",
    "IV['Predictions'] = final_predictions_predictions"
   ]
  },
  {
   "cell_type": "code",
   "execution_count": 393,
   "id": "379ce9d6",
   "metadata": {},
   "outputs": [
    {
     "data": {
      "text/html": [
       "<div>\n",
       "<style scoped>\n",
       "    .dataframe tbody tr th:only-of-type {\n",
       "        vertical-align: middle;\n",
       "    }\n",
       "\n",
       "    .dataframe tbody tr th {\n",
       "        vertical-align: top;\n",
       "    }\n",
       "\n",
       "    .dataframe thead th {\n",
       "        text-align: right;\n",
       "    }\n",
       "</style>\n",
       "<table border=\"1\" class=\"dataframe\">\n",
       "  <thead>\n",
       "    <tr style=\"text-align: right;\">\n",
       "      <th></th>\n",
       "      <th>ApplicantIncome</th>\n",
       "      <th>CoapplicantIncome</th>\n",
       "      <th>LoanAmount</th>\n",
       "      <th>Loan_Amount_Term</th>\n",
       "      <th>Credit_History</th>\n",
       "      <th>Gender_Male</th>\n",
       "      <th>Married_Yes</th>\n",
       "      <th>Education_Not Graduate</th>\n",
       "      <th>Self_Employed_Yes</th>\n",
       "      <th>Property_Area_Semiurban</th>\n",
       "      <th>Property_Area_Urban</th>\n",
       "      <th>Dependents</th>\n",
       "      <th>Actual Output</th>\n",
       "      <th>Predictions</th>\n",
       "    </tr>\n",
       "  </thead>\n",
       "  <tbody>\n",
       "    <tr>\n",
       "      <th>503</th>\n",
       "      <td>4050</td>\n",
       "      <td>5302.000000</td>\n",
       "      <td>138.000000</td>\n",
       "      <td>360.000000</td>\n",
       "      <td>1.000000</td>\n",
       "      <td>1</td>\n",
       "      <td>1</td>\n",
       "      <td>1</td>\n",
       "      <td>0</td>\n",
       "      <td>0</td>\n",
       "      <td>0</td>\n",
       "      <td>1.000000</td>\n",
       "      <td>0</td>\n",
       "      <td>1</td>\n",
       "    </tr>\n",
       "    <tr>\n",
       "      <th>702</th>\n",
       "      <td>19215</td>\n",
       "      <td>0.000000</td>\n",
       "      <td>157.189422</td>\n",
       "      <td>360.000000</td>\n",
       "      <td>0.743952</td>\n",
       "      <td>1</td>\n",
       "      <td>0</td>\n",
       "      <td>0</td>\n",
       "      <td>0</td>\n",
       "      <td>0</td>\n",
       "      <td>0</td>\n",
       "      <td>0.000000</td>\n",
       "      <td>0</td>\n",
       "      <td>0</td>\n",
       "    </tr>\n",
       "    <tr>\n",
       "      <th>463</th>\n",
       "      <td>5191</td>\n",
       "      <td>0.000000</td>\n",
       "      <td>132.000000</td>\n",
       "      <td>360.000000</td>\n",
       "      <td>1.000000</td>\n",
       "      <td>0</td>\n",
       "      <td>0</td>\n",
       "      <td>1</td>\n",
       "      <td>0</td>\n",
       "      <td>1</td>\n",
       "      <td>0</td>\n",
       "      <td>1.000000</td>\n",
       "      <td>1</td>\n",
       "      <td>1</td>\n",
       "    </tr>\n",
       "    <tr>\n",
       "      <th>712</th>\n",
       "      <td>2966</td>\n",
       "      <td>1626.149721</td>\n",
       "      <td>117.711235</td>\n",
       "      <td>404.094707</td>\n",
       "      <td>0.632544</td>\n",
       "      <td>1</td>\n",
       "      <td>1</td>\n",
       "      <td>0</td>\n",
       "      <td>0</td>\n",
       "      <td>0</td>\n",
       "      <td>1</td>\n",
       "      <td>1.265088</td>\n",
       "      <td>0</td>\n",
       "      <td>0</td>\n",
       "    </tr>\n",
       "    <tr>\n",
       "      <th>615</th>\n",
       "      <td>2956</td>\n",
       "      <td>0.000000</td>\n",
       "      <td>85.008901</td>\n",
       "      <td>352.197133</td>\n",
       "      <td>0.130048</td>\n",
       "      <td>1</td>\n",
       "      <td>0</td>\n",
       "      <td>0</td>\n",
       "      <td>0</td>\n",
       "      <td>0</td>\n",
       "      <td>0</td>\n",
       "      <td>0.000000</td>\n",
       "      <td>0</td>\n",
       "      <td>0</td>\n",
       "    </tr>\n",
       "    <tr>\n",
       "      <th>...</th>\n",
       "      <td>...</td>\n",
       "      <td>...</td>\n",
       "      <td>...</td>\n",
       "      <td>...</td>\n",
       "      <td>...</td>\n",
       "      <td>...</td>\n",
       "      <td>...</td>\n",
       "      <td>...</td>\n",
       "      <td>...</td>\n",
       "      <td>...</td>\n",
       "      <td>...</td>\n",
       "      <td>...</td>\n",
       "      <td>...</td>\n",
       "      <td>...</td>\n",
       "    </tr>\n",
       "    <tr>\n",
       "      <th>692</th>\n",
       "      <td>4727</td>\n",
       "      <td>0.000000</td>\n",
       "      <td>104.289815</td>\n",
       "      <td>360.000000</td>\n",
       "      <td>1.000000</td>\n",
       "      <td>0</td>\n",
       "      <td>0</td>\n",
       "      <td>0</td>\n",
       "      <td>0</td>\n",
       "      <td>0</td>\n",
       "      <td>0</td>\n",
       "      <td>0.591407</td>\n",
       "      <td>0</td>\n",
       "      <td>0</td>\n",
       "    </tr>\n",
       "    <tr>\n",
       "      <th>166</th>\n",
       "      <td>4583</td>\n",
       "      <td>0.000000</td>\n",
       "      <td>112.000000</td>\n",
       "      <td>360.000000</td>\n",
       "      <td>1.000000</td>\n",
       "      <td>0</td>\n",
       "      <td>1</td>\n",
       "      <td>0</td>\n",
       "      <td>0</td>\n",
       "      <td>0</td>\n",
       "      <td>0</td>\n",
       "      <td>0.000000</td>\n",
       "      <td>0</td>\n",
       "      <td>0</td>\n",
       "    </tr>\n",
       "    <tr>\n",
       "      <th>633</th>\n",
       "      <td>5937</td>\n",
       "      <td>0.000000</td>\n",
       "      <td>217.345371</td>\n",
       "      <td>269.628891</td>\n",
       "      <td>1.000000</td>\n",
       "      <td>1</td>\n",
       "      <td>1</td>\n",
       "      <td>0</td>\n",
       "      <td>0</td>\n",
       "      <td>0</td>\n",
       "      <td>0</td>\n",
       "      <td>1.506185</td>\n",
       "      <td>0</td>\n",
       "      <td>0</td>\n",
       "    </tr>\n",
       "    <tr>\n",
       "      <th>21</th>\n",
       "      <td>5955</td>\n",
       "      <td>5625.000000</td>\n",
       "      <td>315.000000</td>\n",
       "      <td>360.000000</td>\n",
       "      <td>1.000000</td>\n",
       "      <td>1</td>\n",
       "      <td>1</td>\n",
       "      <td>0</td>\n",
       "      <td>0</td>\n",
       "      <td>0</td>\n",
       "      <td>1</td>\n",
       "      <td>1.000000</td>\n",
       "      <td>1</td>\n",
       "      <td>1</td>\n",
       "    </tr>\n",
       "    <tr>\n",
       "      <th>843</th>\n",
       "      <td>1879</td>\n",
       "      <td>0.000000</td>\n",
       "      <td>61.193044</td>\n",
       "      <td>360.000000</td>\n",
       "      <td>0.997119</td>\n",
       "      <td>0</td>\n",
       "      <td>0</td>\n",
       "      <td>0</td>\n",
       "      <td>0</td>\n",
       "      <td>0</td>\n",
       "      <td>0</td>\n",
       "      <td>1.005763</td>\n",
       "      <td>0</td>\n",
       "      <td>0</td>\n",
       "    </tr>\n",
       "  </tbody>\n",
       "</table>\n",
       "<p>85 rows × 14 columns</p>\n",
       "</div>"
      ],
      "text/plain": [
       "     ApplicantIncome  CoapplicantIncome  LoanAmount  Loan_Amount_Term  \\\n",
       "503             4050        5302.000000  138.000000        360.000000   \n",
       "702            19215           0.000000  157.189422        360.000000   \n",
       "463             5191           0.000000  132.000000        360.000000   \n",
       "712             2966        1626.149721  117.711235        404.094707   \n",
       "615             2956           0.000000   85.008901        352.197133   \n",
       "..               ...                ...         ...               ...   \n",
       "692             4727           0.000000  104.289815        360.000000   \n",
       "166             4583           0.000000  112.000000        360.000000   \n",
       "633             5937           0.000000  217.345371        269.628891   \n",
       "21              5955        5625.000000  315.000000        360.000000   \n",
       "843             1879           0.000000   61.193044        360.000000   \n",
       "\n",
       "     Credit_History  Gender_Male  Married_Yes  Education_Not Graduate  \\\n",
       "503        1.000000            1            1                       1   \n",
       "702        0.743952            1            0                       0   \n",
       "463        1.000000            0            0                       1   \n",
       "712        0.632544            1            1                       0   \n",
       "615        0.130048            1            0                       0   \n",
       "..              ...          ...          ...                     ...   \n",
       "692        1.000000            0            0                       0   \n",
       "166        1.000000            0            1                       0   \n",
       "633        1.000000            1            1                       0   \n",
       "21         1.000000            1            1                       0   \n",
       "843        0.997119            0            0                       0   \n",
       "\n",
       "     Self_Employed_Yes  Property_Area_Semiurban  Property_Area_Urban  \\\n",
       "503                  0                        0                    0   \n",
       "702                  0                        0                    0   \n",
       "463                  0                        1                    0   \n",
       "712                  0                        0                    1   \n",
       "615                  0                        0                    0   \n",
       "..                 ...                      ...                  ...   \n",
       "692                  0                        0                    0   \n",
       "166                  0                        0                    0   \n",
       "633                  0                        0                    0   \n",
       "21                   0                        0                    1   \n",
       "843                  0                        0                    0   \n",
       "\n",
       "     Dependents  Actual Output  Predictions  \n",
       "503    1.000000              0            1  \n",
       "702    0.000000              0            0  \n",
       "463    1.000000              1            1  \n",
       "712    1.265088              0            0  \n",
       "615    0.000000              0            0  \n",
       "..          ...            ...          ...  \n",
       "692    0.591407              0            0  \n",
       "166    0.000000              0            0  \n",
       "633    1.506185              0            0  \n",
       "21     1.000000              1            1  \n",
       "843    1.005763              0            0  \n",
       "\n",
       "[85 rows x 14 columns]"
      ]
     },
     "execution_count": 393,
     "metadata": {},
     "output_type": "execute_result"
    }
   ],
   "source": []
  },
  {
   "cell_type": "markdown",
   "id": "58af1cda",
   "metadata": {},
   "source": [
    "df_predict_loan_eligibility = pd.DataFrame(IV)\n",
    "file_name = r'C:\\Users\\apopalzi\\Documents\\git\\apf\\output\\loan_eligibility\\predict_loan_eligibility.csv'\n",
    "df_predict_loan_eligibility.to_csv(file_name,encoding='utf-8', index=False)"
   ]
  },
  {
   "cell_type": "code",
   "execution_count": null,
   "id": "2c225ed7",
   "metadata": {},
   "outputs": [],
   "source": []
  }
 ],
 "metadata": {
  "kernelspec": {
   "display_name": "Python 3",
   "language": "python",
   "name": "python3"
  },
  "language_info": {
   "codemirror_mode": {
    "name": "ipython",
    "version": 3
   },
   "file_extension": ".py",
   "mimetype": "text/x-python",
   "name": "python",
   "nbconvert_exporter": "python",
   "pygments_lexer": "ipython3",
   "version": "3.8.8"
  }
 },
 "nbformat": 4,
 "nbformat_minor": 5
}
